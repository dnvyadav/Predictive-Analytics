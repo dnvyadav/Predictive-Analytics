{
 "cells": [
  {
   "cell_type": "code",
   "execution_count": 1,
   "metadata": {
    "collapsed": false
   },
   "outputs": [
    {
     "data": {
      "text/plain": [
       "u'C:\\\\Users\\\\ndokku'"
      ]
     },
     "execution_count": 1,
     "metadata": {},
     "output_type": "execute_result"
    }
   ],
   "source": [
    "pwd"
   ]
  },
  {
   "cell_type": "code",
   "execution_count": 2,
   "metadata": {
    "collapsed": false
   },
   "outputs": [
    {
     "name": "stdout",
     "output_type": "stream",
     "text": [
      "C:\\Users\\ndokku\\Desktop\\csc-478 final\n"
     ]
    }
   ],
   "source": [
    "cd C:\\Users\\ndokku\\Desktop\\csc-478 final"
   ]
  },
  {
   "cell_type": "code",
   "execution_count": 3,
   "metadata": {
    "collapsed": true
   },
   "outputs": [],
   "source": [
    "import pandas as pd\n",
    "import numpy as np\n",
    "from sklearn.feature_selection import SelectKBest\n",
    "from sklearn.feature_selection import chi2\n",
    "from sklearn.feature_selection import f_classif\n",
    "from sklearn.cross_validation import train_test_split\n",
    "from sklearn.naive_bayes import GaussianNB\n",
    "from sklearn.cross_validation import cross_val_score\n",
    "from sklearn.neighbors import KNeighborsClassifier\n",
    "from sklearn import metrics\n",
    "import time\n",
    "import matplotlib.pyplot as plt\n",
    "from sklearn.linear_model import LogisticRegression\n",
    "from sklearn import svm\n",
    "from sklearn.tree import DecisionTreeClassifier\n",
    "import matplotlib.pyplot as plt\n",
    "from sklearn.ensemble import BaggingClassifier\n",
    "from sklearn.ensemble import RandomForestClassifier\n",
    "from sklearn.cross_validation import KFold\n",
    "import json\n",
    "from pprint import pprint\n",
    "import StringIO\n",
    "from IPython.display import Image\n",
    "from sklearn.feature_extraction.text import CountVectorizer\n",
    "from sklearn.ensemble import VotingClassifier  \n",
    "import urllib\n",
    "from sklearn.naive_bayes import BernoulliNB\n",
    "import matplotlib.pyplot as plt\n",
    "from astropy.table import Table, Column\n",
    "from sklearn.feature_selection import VarianceThreshold"
   ]
  },
  {
   "cell_type": "code",
   "execution_count": 4,
   "metadata": {
    "collapsed": true
   },
   "outputs": [],
   "source": [
    "%matplotlib inline\n",
    "import matplotlib.pyplot as plt\n",
    "import seaborn as sb"
   ]
  },
  {
   "cell_type": "code",
   "execution_count": 5,
   "metadata": {
    "collapsed": true
   },
   "outputs": [],
   "source": [
    "from sklearn.cross_validation import StratifiedShuffleSplit\n",
    "from sklearn.linear_model import LogisticRegression\n",
    "from sklearn.cross_validation import StratifiedKFold\n",
    "from sklearn.feature_selection import RFECV\n",
    "from sklearn.cross_validation import train_test_split\n",
    "from sklearn.feature_selection import SelectKBest, f_classif, SelectFpr, chi2\n",
    "from sklearn.ensemble import ExtraTreesClassifier, GradientBoostingClassifier, RandomForestClassifier\n",
    "from sklearn.neighbors import KNeighborsClassifier\n",
    "from sklearn.learning_curve import validation_curve\n",
    "from sklearn.learning_curve import learning_curve\n",
    "from sklearn.metrics import roc_auc_score"
   ]
  },
  {
   "cell_type": "code",
   "execution_count": 6,
   "metadata": {
    "collapsed": false
   },
   "outputs": [
    {
     "data": {
      "text/html": [
       "<div>\n",
       "<table border=\"1\" class=\"dataframe\">\n",
       "  <thead>\n",
       "    <tr style=\"text-align: right;\">\n",
       "      <th></th>\n",
       "      <th>id</th>\n",
       "      <th>user_id</th>\n",
       "      <th>vehicle_model_id</th>\n",
       "      <th>package_id</th>\n",
       "      <th>travel_type_id</th>\n",
       "      <th>from_area_id</th>\n",
       "      <th>to_area_id</th>\n",
       "      <th>from_city_id</th>\n",
       "      <th>to_city_id</th>\n",
       "      <th>from_date</th>\n",
       "      <th>to_date</th>\n",
       "      <th>online_booking</th>\n",
       "      <th>mobile_site_booking</th>\n",
       "      <th>booking_created</th>\n",
       "      <th>from_lat</th>\n",
       "      <th>from_long</th>\n",
       "      <th>to_lat</th>\n",
       "      <th>to_long</th>\n",
       "      <th>Car_Cancellation</th>\n",
       "      <th>Cost_of_error</th>\n",
       "    </tr>\n",
       "  </thead>\n",
       "  <tbody>\n",
       "    <tr>\n",
       "      <th>0</th>\n",
       "      <td>132512</td>\n",
       "      <td>22177</td>\n",
       "      <td>28</td>\n",
       "      <td>NaN</td>\n",
       "      <td>2</td>\n",
       "      <td>83.0</td>\n",
       "      <td>448.0</td>\n",
       "      <td>NaN</td>\n",
       "      <td>NaN</td>\n",
       "      <td>1/1/2013 2:00</td>\n",
       "      <td>NaN</td>\n",
       "      <td>0</td>\n",
       "      <td>0</td>\n",
       "      <td>1/1/2013 1:39</td>\n",
       "      <td>12.924150</td>\n",
       "      <td>77.672290</td>\n",
       "      <td>12.927320</td>\n",
       "      <td>77.635750</td>\n",
       "      <td>0</td>\n",
       "      <td>1.0</td>\n",
       "    </tr>\n",
       "    <tr>\n",
       "      <th>1</th>\n",
       "      <td>132513</td>\n",
       "      <td>21413</td>\n",
       "      <td>12</td>\n",
       "      <td>NaN</td>\n",
       "      <td>2</td>\n",
       "      <td>1010.0</td>\n",
       "      <td>540.0</td>\n",
       "      <td>NaN</td>\n",
       "      <td>NaN</td>\n",
       "      <td>1/1/2013 9:00</td>\n",
       "      <td>NaN</td>\n",
       "      <td>0</td>\n",
       "      <td>0</td>\n",
       "      <td>1/1/2013 2:25</td>\n",
       "      <td>12.966910</td>\n",
       "      <td>77.749350</td>\n",
       "      <td>12.927680</td>\n",
       "      <td>77.626640</td>\n",
       "      <td>0</td>\n",
       "      <td>1.0</td>\n",
       "    </tr>\n",
       "    <tr>\n",
       "      <th>2</th>\n",
       "      <td>132514</td>\n",
       "      <td>22178</td>\n",
       "      <td>12</td>\n",
       "      <td>NaN</td>\n",
       "      <td>2</td>\n",
       "      <td>1301.0</td>\n",
       "      <td>1034.0</td>\n",
       "      <td>NaN</td>\n",
       "      <td>NaN</td>\n",
       "      <td>1/1/2013 3:30</td>\n",
       "      <td>NaN</td>\n",
       "      <td>0</td>\n",
       "      <td>0</td>\n",
       "      <td>1/1/2013 3:08</td>\n",
       "      <td>12.937222</td>\n",
       "      <td>77.626915</td>\n",
       "      <td>13.047926</td>\n",
       "      <td>77.597766</td>\n",
       "      <td>0</td>\n",
       "      <td>1.0</td>\n",
       "    </tr>\n",
       "    <tr>\n",
       "      <th>3</th>\n",
       "      <td>132515</td>\n",
       "      <td>13034</td>\n",
       "      <td>12</td>\n",
       "      <td>NaN</td>\n",
       "      <td>2</td>\n",
       "      <td>768.0</td>\n",
       "      <td>398.0</td>\n",
       "      <td>NaN</td>\n",
       "      <td>NaN</td>\n",
       "      <td>1/1/2013 5:45</td>\n",
       "      <td>NaN</td>\n",
       "      <td>0</td>\n",
       "      <td>0</td>\n",
       "      <td>1/1/2013 4:39</td>\n",
       "      <td>12.989990</td>\n",
       "      <td>77.553320</td>\n",
       "      <td>12.971430</td>\n",
       "      <td>77.639140</td>\n",
       "      <td>0</td>\n",
       "      <td>1.0</td>\n",
       "    </tr>\n",
       "    <tr>\n",
       "      <th>4</th>\n",
       "      <td>132517</td>\n",
       "      <td>22180</td>\n",
       "      <td>12</td>\n",
       "      <td>NaN</td>\n",
       "      <td>2</td>\n",
       "      <td>1365.0</td>\n",
       "      <td>849.0</td>\n",
       "      <td>NaN</td>\n",
       "      <td>NaN</td>\n",
       "      <td>1/1/2013 9:00</td>\n",
       "      <td>NaN</td>\n",
       "      <td>0</td>\n",
       "      <td>0</td>\n",
       "      <td>1/1/2013 7:53</td>\n",
       "      <td>12.845653</td>\n",
       "      <td>77.677925</td>\n",
       "      <td>12.954340</td>\n",
       "      <td>77.600720</td>\n",
       "      <td>0</td>\n",
       "      <td>1.0</td>\n",
       "    </tr>\n",
       "  </tbody>\n",
       "</table>\n",
       "</div>"
      ],
      "text/plain": [
       "       id  user_id  vehicle_model_id  package_id  travel_type_id  \\\n",
       "0  132512    22177                28         NaN               2   \n",
       "1  132513    21413                12         NaN               2   \n",
       "2  132514    22178                12         NaN               2   \n",
       "3  132515    13034                12         NaN               2   \n",
       "4  132517    22180                12         NaN               2   \n",
       "\n",
       "   from_area_id  to_area_id  from_city_id  to_city_id      from_date  to_date  \\\n",
       "0          83.0       448.0           NaN         NaN  1/1/2013 2:00      NaN   \n",
       "1        1010.0       540.0           NaN         NaN  1/1/2013 9:00      NaN   \n",
       "2        1301.0      1034.0           NaN         NaN  1/1/2013 3:30      NaN   \n",
       "3         768.0       398.0           NaN         NaN  1/1/2013 5:45      NaN   \n",
       "4        1365.0       849.0           NaN         NaN  1/1/2013 9:00      NaN   \n",
       "\n",
       "   online_booking  mobile_site_booking booking_created   from_lat  from_long  \\\n",
       "0               0                    0   1/1/2013 1:39  12.924150  77.672290   \n",
       "1               0                    0   1/1/2013 2:25  12.966910  77.749350   \n",
       "2               0                    0   1/1/2013 3:08  12.937222  77.626915   \n",
       "3               0                    0   1/1/2013 4:39  12.989990  77.553320   \n",
       "4               0                    0   1/1/2013 7:53  12.845653  77.677925   \n",
       "\n",
       "      to_lat    to_long  Car_Cancellation  Cost_of_error  \n",
       "0  12.927320  77.635750                 0            1.0  \n",
       "1  12.927680  77.626640                 0            1.0  \n",
       "2  13.047926  77.597766                 0            1.0  \n",
       "3  12.971430  77.639140                 0            1.0  \n",
       "4  12.954340  77.600720                 0            1.0  "
      ]
     },
     "execution_count": 6,
     "metadata": {},
     "output_type": "execute_result"
    }
   ],
   "source": [
    "cars_cancel_train = pd.read_csv('Kaggle_YourCabs_training.csv')\n",
    "cars_cancel_train.head()"
   ]
  },
  {
   "cell_type": "markdown",
   "metadata": {},
   "source": [
    "# Information about the data (some values are missing)"
   ]
  },
  {
   "cell_type": "code",
   "execution_count": 7,
   "metadata": {
    "collapsed": true
   },
   "outputs": [],
   "source": [
    "# convert from_date column to date-time\n",
    "# Note: when we try to convert NaN to date-time, it gets converted to NaT( Not a timestamp )\n",
    "\n",
    "cars_cancel_train['from_date'] = pd.to_datetime(cars_cancel_train['from_date'])"
   ]
  },
  {
   "cell_type": "code",
   "execution_count": 8,
   "metadata": {
    "collapsed": true
   },
   "outputs": [],
   "source": [
    "# convert to_date column to date-time\n",
    "cars_cancel_train['to_date'] = pd.to_datetime(cars_cancel_train['to_date'])"
   ]
  },
  {
   "cell_type": "code",
   "execution_count": 9,
   "metadata": {
    "collapsed": true
   },
   "outputs": [],
   "source": [
    "# convert booking_created column to date-time\n",
    "cars_cancel_train['booking_created'] = pd.to_datetime(cars_cancel_train['booking_created'])"
   ]
  },
  {
   "cell_type": "code",
   "execution_count": 10,
   "metadata": {
    "collapsed": false
   },
   "outputs": [
    {
     "data": {
      "text/html": [
       "<div>\n",
       "<table border=\"1\" class=\"dataframe\">\n",
       "  <thead>\n",
       "    <tr style=\"text-align: right;\">\n",
       "      <th></th>\n",
       "      <th>count</th>\n",
       "      <th>mean</th>\n",
       "      <th>std</th>\n",
       "      <th>min</th>\n",
       "      <th>25%</th>\n",
       "      <th>50%</th>\n",
       "      <th>75%</th>\n",
       "      <th>max</th>\n",
       "    </tr>\n",
       "  </thead>\n",
       "  <tbody>\n",
       "    <tr>\n",
       "      <th>id</th>\n",
       "      <td>43431.0</td>\n",
       "      <td>159206.473556</td>\n",
       "      <td>15442.386279</td>\n",
       "      <td>132512.00000</td>\n",
       "      <td>145778.000000</td>\n",
       "      <td>159248.000000</td>\n",
       "      <td>172578.50000</td>\n",
       "      <td>185941.000000</td>\n",
       "    </tr>\n",
       "    <tr>\n",
       "      <th>user_id</th>\n",
       "      <td>43431.0</td>\n",
       "      <td>30739.198153</td>\n",
       "      <td>10996.476709</td>\n",
       "      <td>16.00000</td>\n",
       "      <td>24614.000000</td>\n",
       "      <td>31627.000000</td>\n",
       "      <td>39167.00000</td>\n",
       "      <td>48730.000000</td>\n",
       "    </tr>\n",
       "    <tr>\n",
       "      <th>vehicle_model_id</th>\n",
       "      <td>43431.0</td>\n",
       "      <td>25.717230</td>\n",
       "      <td>26.798250</td>\n",
       "      <td>1.00000</td>\n",
       "      <td>12.000000</td>\n",
       "      <td>12.000000</td>\n",
       "      <td>24.00000</td>\n",
       "      <td>91.000000</td>\n",
       "    </tr>\n",
       "    <tr>\n",
       "      <th>package_id</th>\n",
       "      <td>7550.0</td>\n",
       "      <td>2.030066</td>\n",
       "      <td>1.461756</td>\n",
       "      <td>1.00000</td>\n",
       "      <td>1.000000</td>\n",
       "      <td>2.000000</td>\n",
       "      <td>2.00000</td>\n",
       "      <td>7.000000</td>\n",
       "    </tr>\n",
       "    <tr>\n",
       "      <th>travel_type_id</th>\n",
       "      <td>43431.0</td>\n",
       "      <td>2.137252</td>\n",
       "      <td>0.437712</td>\n",
       "      <td>1.00000</td>\n",
       "      <td>2.000000</td>\n",
       "      <td>2.000000</td>\n",
       "      <td>2.00000</td>\n",
       "      <td>3.000000</td>\n",
       "    </tr>\n",
       "    <tr>\n",
       "      <th>from_area_id</th>\n",
       "      <td>43343.0</td>\n",
       "      <td>714.544494</td>\n",
       "      <td>419.883553</td>\n",
       "      <td>2.00000</td>\n",
       "      <td>393.000000</td>\n",
       "      <td>590.000000</td>\n",
       "      <td>1089.00000</td>\n",
       "      <td>1403.000000</td>\n",
       "    </tr>\n",
       "    <tr>\n",
       "      <th>to_area_id</th>\n",
       "      <td>34293.0</td>\n",
       "      <td>669.490917</td>\n",
       "      <td>400.638225</td>\n",
       "      <td>2.00000</td>\n",
       "      <td>393.000000</td>\n",
       "      <td>541.000000</td>\n",
       "      <td>1054.00000</td>\n",
       "      <td>1403.000000</td>\n",
       "    </tr>\n",
       "    <tr>\n",
       "      <th>from_city_id</th>\n",
       "      <td>16345.0</td>\n",
       "      <td>14.915081</td>\n",
       "      <td>1.165306</td>\n",
       "      <td>1.00000</td>\n",
       "      <td>15.000000</td>\n",
       "      <td>15.000000</td>\n",
       "      <td>15.00000</td>\n",
       "      <td>31.000000</td>\n",
       "    </tr>\n",
       "    <tr>\n",
       "      <th>to_city_id</th>\n",
       "      <td>1588.0</td>\n",
       "      <td>68.537783</td>\n",
       "      <td>49.880732</td>\n",
       "      <td>4.00000</td>\n",
       "      <td>32.000000</td>\n",
       "      <td>49.000000</td>\n",
       "      <td>108.00000</td>\n",
       "      <td>203.000000</td>\n",
       "    </tr>\n",
       "    <tr>\n",
       "      <th>online_booking</th>\n",
       "      <td>43431.0</td>\n",
       "      <td>0.351592</td>\n",
       "      <td>0.477473</td>\n",
       "      <td>0.00000</td>\n",
       "      <td>0.000000</td>\n",
       "      <td>0.000000</td>\n",
       "      <td>1.00000</td>\n",
       "      <td>1.000000</td>\n",
       "    </tr>\n",
       "    <tr>\n",
       "      <th>mobile_site_booking</th>\n",
       "      <td>43431.0</td>\n",
       "      <td>0.043241</td>\n",
       "      <td>0.203402</td>\n",
       "      <td>0.00000</td>\n",
       "      <td>0.000000</td>\n",
       "      <td>0.000000</td>\n",
       "      <td>0.00000</td>\n",
       "      <td>1.000000</td>\n",
       "    </tr>\n",
       "    <tr>\n",
       "      <th>from_lat</th>\n",
       "      <td>43338.0</td>\n",
       "      <td>12.982461</td>\n",
       "      <td>0.085933</td>\n",
       "      <td>12.77663</td>\n",
       "      <td>12.926450</td>\n",
       "      <td>12.968887</td>\n",
       "      <td>13.00775</td>\n",
       "      <td>13.366072</td>\n",
       "    </tr>\n",
       "    <tr>\n",
       "      <th>from_long</th>\n",
       "      <td>43338.0</td>\n",
       "      <td>77.636255</td>\n",
       "      <td>0.059391</td>\n",
       "      <td>77.38693</td>\n",
       "      <td>77.593661</td>\n",
       "      <td>77.635750</td>\n",
       "      <td>77.68890</td>\n",
       "      <td>77.786420</td>\n",
       "    </tr>\n",
       "    <tr>\n",
       "      <th>to_lat</th>\n",
       "      <td>34293.0</td>\n",
       "      <td>13.026648</td>\n",
       "      <td>0.113487</td>\n",
       "      <td>12.77663</td>\n",
       "      <td>12.951850</td>\n",
       "      <td>12.982750</td>\n",
       "      <td>13.19956</td>\n",
       "      <td>13.366072</td>\n",
       "    </tr>\n",
       "    <tr>\n",
       "      <th>to_long</th>\n",
       "      <td>34293.0</td>\n",
       "      <td>77.640595</td>\n",
       "      <td>0.064045</td>\n",
       "      <td>77.38693</td>\n",
       "      <td>77.582030</td>\n",
       "      <td>77.645030</td>\n",
       "      <td>77.70688</td>\n",
       "      <td>77.786420</td>\n",
       "    </tr>\n",
       "    <tr>\n",
       "      <th>Car_Cancellation</th>\n",
       "      <td>43431.0</td>\n",
       "      <td>0.072114</td>\n",
       "      <td>0.258680</td>\n",
       "      <td>0.00000</td>\n",
       "      <td>0.000000</td>\n",
       "      <td>0.000000</td>\n",
       "      <td>0.00000</td>\n",
       "      <td>1.000000</td>\n",
       "    </tr>\n",
       "    <tr>\n",
       "      <th>Cost_of_error</th>\n",
       "      <td>43431.0</td>\n",
       "      <td>8.000509</td>\n",
       "      <td>25.350698</td>\n",
       "      <td>0.15000</td>\n",
       "      <td>1.000000</td>\n",
       "      <td>1.000000</td>\n",
       "      <td>1.00000</td>\n",
       "      <td>100.000000</td>\n",
       "    </tr>\n",
       "  </tbody>\n",
       "</table>\n",
       "</div>"
      ],
      "text/plain": [
       "                       count           mean           std           min  \\\n",
       "id                   43431.0  159206.473556  15442.386279  132512.00000   \n",
       "user_id              43431.0   30739.198153  10996.476709      16.00000   \n",
       "vehicle_model_id     43431.0      25.717230     26.798250       1.00000   \n",
       "package_id            7550.0       2.030066      1.461756       1.00000   \n",
       "travel_type_id       43431.0       2.137252      0.437712       1.00000   \n",
       "from_area_id         43343.0     714.544494    419.883553       2.00000   \n",
       "to_area_id           34293.0     669.490917    400.638225       2.00000   \n",
       "from_city_id         16345.0      14.915081      1.165306       1.00000   \n",
       "to_city_id            1588.0      68.537783     49.880732       4.00000   \n",
       "online_booking       43431.0       0.351592      0.477473       0.00000   \n",
       "mobile_site_booking  43431.0       0.043241      0.203402       0.00000   \n",
       "from_lat             43338.0      12.982461      0.085933      12.77663   \n",
       "from_long            43338.0      77.636255      0.059391      77.38693   \n",
       "to_lat               34293.0      13.026648      0.113487      12.77663   \n",
       "to_long              34293.0      77.640595      0.064045      77.38693   \n",
       "Car_Cancellation     43431.0       0.072114      0.258680       0.00000   \n",
       "Cost_of_error        43431.0       8.000509     25.350698       0.15000   \n",
       "\n",
       "                               25%            50%           75%            max  \n",
       "id                   145778.000000  159248.000000  172578.50000  185941.000000  \n",
       "user_id               24614.000000   31627.000000   39167.00000   48730.000000  \n",
       "vehicle_model_id         12.000000      12.000000      24.00000      91.000000  \n",
       "package_id                1.000000       2.000000       2.00000       7.000000  \n",
       "travel_type_id            2.000000       2.000000       2.00000       3.000000  \n",
       "from_area_id            393.000000     590.000000    1089.00000    1403.000000  \n",
       "to_area_id              393.000000     541.000000    1054.00000    1403.000000  \n",
       "from_city_id             15.000000      15.000000      15.00000      31.000000  \n",
       "to_city_id               32.000000      49.000000     108.00000     203.000000  \n",
       "online_booking            0.000000       0.000000       1.00000       1.000000  \n",
       "mobile_site_booking       0.000000       0.000000       0.00000       1.000000  \n",
       "from_lat                 12.926450      12.968887      13.00775      13.366072  \n",
       "from_long                77.593661      77.635750      77.68890      77.786420  \n",
       "to_lat                   12.951850      12.982750      13.19956      13.366072  \n",
       "to_long                  77.582030      77.645030      77.70688      77.786420  \n",
       "Car_Cancellation          0.000000       0.000000       0.00000       1.000000  \n",
       "Cost_of_error             1.000000       1.000000       1.00000     100.000000  "
      ]
     },
     "execution_count": 10,
     "metadata": {},
     "output_type": "execute_result"
    }
   ],
   "source": [
    "cars_cancel_train.describe().transpose()"
   ]
  },
  {
   "cell_type": "markdown",
   "metadata": {},
   "source": [
    "We can see that many of the columns are missing values like package_id, to_area_id etc.\n"
   ]
  },
  {
   "cell_type": "code",
   "execution_count": 11,
   "metadata": {
    "collapsed": false
   },
   "outputs": [
    {
     "name": "stdout",
     "output_type": "stream",
     "text": [
      "<class 'pandas.core.frame.DataFrame'>\n",
      "RangeIndex: 43431 entries, 0 to 43430\n",
      "Data columns (total 20 columns):\n",
      "id                     43431 non-null int64\n",
      "user_id                43431 non-null int64\n",
      "vehicle_model_id       43431 non-null int64\n",
      "package_id             7550 non-null float64\n",
      "travel_type_id         43431 non-null int64\n",
      "from_area_id           43343 non-null float64\n",
      "to_area_id             34293 non-null float64\n",
      "from_city_id           16345 non-null float64\n",
      "to_city_id             1588 non-null float64\n",
      "from_date              43431 non-null datetime64[ns]\n",
      "to_date                25541 non-null datetime64[ns]\n",
      "online_booking         43431 non-null int64\n",
      "mobile_site_booking    43431 non-null int64\n",
      "booking_created        43431 non-null datetime64[ns]\n",
      "from_lat               43338 non-null float64\n",
      "from_long              43338 non-null float64\n",
      "to_lat                 34293 non-null float64\n",
      "to_long                34293 non-null float64\n",
      "Car_Cancellation       43431 non-null int64\n",
      "Cost_of_error          43431 non-null float64\n",
      "dtypes: datetime64[ns](3), float64(10), int64(7)\n",
      "memory usage: 6.6 MB\n"
     ]
    }
   ],
   "source": [
    "cars_cancel_train.info()"
   ]
  },
  {
   "cell_type": "markdown",
   "metadata": {},
   "source": [
    "Let's also set id to be the index of the dataset"
   ]
  },
  {
   "cell_type": "code",
   "execution_count": 12,
   "metadata": {
    "collapsed": true
   },
   "outputs": [],
   "source": [
    "cars_cancel_train.set_index('id', inplace=True)"
   ]
  },
  {
   "cell_type": "code",
   "execution_count": 13,
   "metadata": {
    "collapsed": false
   },
   "outputs": [
    {
     "data": {
      "text/plain": [
       "0    40299\n",
       "1     3132\n",
       "Name: Car_Cancellation, dtype: int64"
      ]
     },
     "execution_count": 13,
     "metadata": {},
     "output_type": "execute_result"
    }
   ],
   "source": [
    "# lets find out the class balance\n",
    "cars_cancel_train.Car_Cancellation.value_counts()"
   ]
  },
  {
   "cell_type": "markdown",
   "metadata": {},
   "source": [
    "# Exploratory-analysis"
   ]
  },
  {
   "cell_type": "markdown",
   "metadata": {},
   "source": [
    "Major class imbalance, very few cancellations as compared to large amount of non-cancellations."
   ]
  },
  {
   "cell_type": "code",
   "execution_count": 14,
   "metadata": {
    "collapsed": false
   },
   "outputs": [
    {
     "data": {
      "text/plain": [
       "1.0    3503\n",
       "2.0    2651\n",
       "6.0     502\n",
       "4.0     412\n",
       "3.0     375\n",
       "7.0     101\n",
       "5.0       6\n",
       "Name: package_id, dtype: int64"
      ]
     },
     "execution_count": 14,
     "metadata": {},
     "output_type": "execute_result"
    }
   ],
   "source": [
    "# Lets see the distribution of package_id\n",
    "%matplotlib inline\n",
    "cars_cancel_train.package_id.value_counts()"
   ]
  },
  {
   "cell_type": "code",
   "execution_count": 15,
   "metadata": {
    "collapsed": false
   },
   "outputs": [
    {
     "data": {
      "image/png": "[encoded data removed]",
      "text/plain": [
       "<matplotlib.figure.Figure at 0xca44ac8>"
      ]
     },
     "metadata": {},
     "output_type": "display_data"
    }
   ],
   "source": [
    "cars_cancel_train.package_id.hist();"
   ]
  },
  {
   "cell_type": "markdown",
   "metadata": {},
   "source": [
    "Most of the packages that people opt for are for a journey of 4hrs and around 40kms, followed by 8hrs and 80kms."
   ]
  },
  {
   "cell_type": "code",
   "execution_count": 16,
   "metadata": {
    "collapsed": false
   },
   "outputs": [
    {
     "data": {
      "image/png": "[encoded data removed]",
      "text/plain": [
       "<matplotlib.figure.Figure at 0xcb5add8>"
      ]
     },
     "metadata": {},
     "output_type": "display_data"
    }
   ],
   "source": [
    "# Let's see whether package type affect car cancellations\n",
    "cars_cancel_train.hist(column='package_id', by='Car_Cancellation');"
   ]
  },
  {
   "cell_type": "markdown",
   "metadata": {},
   "source": [
    "As we can see most of the times 1st package ( 4hrs & 40kms ) gets cancelled followed by packages ( 3hrs & 30kms ) and ( 8hrs & 80kms )."
   ]
  },
  {
   "cell_type": "code",
   "execution_count": 17,
   "metadata": {
    "collapsed": false
   },
   "outputs": [
    {
     "data": {
      "image/png": "[encoded data removed]",
      "text/plain": [
       "<matplotlib.figure.Figure at 0x105f3438>"
      ]
     },
     "metadata": {},
     "output_type": "display_data"
    }
   ],
   "source": [
    "# Lets take a look at travel_type variable\n",
    "cars_cancel_train.hist(column='travel_type_id', by='Car_Cancellation');"
   ]
  },
  {
   "cell_type": "markdown",
   "metadata": {},
   "source": [
    "Not surprisingly, most people rent car from point to point travel and around ( 1 / 10 )th of these bookings get cancelled."
   ]
  },
  {
   "cell_type": "code",
   "execution_count": 18,
   "metadata": {
    "collapsed": true
   },
   "outputs": [],
   "source": [
    "# Lets take a look at from_area_id variable and see if it has any relation with car cancellation.\n",
    "g = cars_cancel_train.groupby(['from_area_id', 'Car_Cancellation']).size().unstack(1)"
   ]
  },
  {
   "cell_type": "code",
   "execution_count": 19,
   "metadata": {
    "collapsed": false
   },
   "outputs": [
    {
     "data": {
      "text/html": [
       "<div>\n",
       "<table border=\"1\" class=\"dataframe\">\n",
       "  <thead>\n",
       "    <tr style=\"text-align: right;\">\n",
       "      <th>Car_Cancellation</th>\n",
       "      <th>0</th>\n",
       "      <th>1</th>\n",
       "    </tr>\n",
       "    <tr>\n",
       "      <th>from_area_id</th>\n",
       "      <th></th>\n",
       "      <th></th>\n",
       "    </tr>\n",
       "  </thead>\n",
       "  <tbody>\n",
       "    <tr>\n",
       "      <th>2.0</th>\n",
       "      <td>27.0</td>\n",
       "      <td>4.0</td>\n",
       "    </tr>\n",
       "    <tr>\n",
       "      <th>6.0</th>\n",
       "      <td>7.0</td>\n",
       "      <td>NaN</td>\n",
       "    </tr>\n",
       "    <tr>\n",
       "      <th>15.0</th>\n",
       "      <td>6.0</td>\n",
       "      <td>NaN</td>\n",
       "    </tr>\n",
       "    <tr>\n",
       "      <th>16.0</th>\n",
       "      <td>5.0</td>\n",
       "      <td>NaN</td>\n",
       "    </tr>\n",
       "    <tr>\n",
       "      <th>17.0</th>\n",
       "      <td>2.0</td>\n",
       "      <td>NaN</td>\n",
       "    </tr>\n",
       "  </tbody>\n",
       "</table>\n",
       "</div>"
      ],
      "text/plain": [
       "Car_Cancellation     0    1\n",
       "from_area_id               \n",
       "2.0               27.0  4.0\n",
       "6.0                7.0  NaN\n",
       "15.0               6.0  NaN\n",
       "16.0               5.0  NaN\n",
       "17.0               2.0  NaN"
      ]
     },
     "execution_count": 19,
     "metadata": {},
     "output_type": "execute_result"
    }
   ],
   "source": [
    "g.head()"
   ]
  },
  {
   "cell_type": "code",
   "execution_count": 20,
   "metadata": {
    "collapsed": true
   },
   "outputs": [],
   "source": [
    "g['percent_cancelled'] = (g[1] / (g[1] + g[0])) * 100."
   ]
  },
  {
   "cell_type": "code",
   "execution_count": 21,
   "metadata": {
    "collapsed": false
   },
   "outputs": [
    {
     "name": "stderr",
     "output_type": "stream",
     "text": [
      "C:\\Anaconda2\\lib\\site-packages\\ipykernel\\__main__.py:1: FutureWarning: order is deprecated, use sort_values(...)\n",
      "  if __name__ == '__main__':\n"
     ]
    },
    {
     "data": {
      "text/plain": [
       "from_area_id\n",
       "130.0     80.000000\n",
       "1148.0    66.666667\n",
       "1174.0    66.666667\n",
       "630.0     66.666667\n",
       "176.0     52.830189\n",
       "1381.0    50.000000\n",
       "1160.0    50.000000\n",
       "1100.0    50.000000\n",
       "1385.0    50.000000\n",
       "1276.0    45.454545\n",
       "211.0     44.444444\n",
       "1372.0    40.000000\n",
       "356.0     40.000000\n",
       "987.0     40.000000\n",
       "626.0     34.375000\n",
       "1258.0    33.333333\n",
       "34.0      33.333333\n",
       "326.0     33.333333\n",
       "177.0     33.333333\n",
       "833.0     33.333333\n",
       "Name: percent_cancelled, dtype: float64"
      ]
     },
     "execution_count": 21,
     "metadata": {},
     "output_type": "execute_result"
    }
   ],
   "source": [
    "g.percent_cancelled.order(ascending=False).iloc[:20]"
   ]
  },
  {
   "cell_type": "markdown",
   "metadata": {},
   "source": [
    "So as you can see there are certain areas ( from area ) for which more than 50% of the bookings were cancelled."
   ]
  },
  {
   "cell_type": "code",
   "execution_count": 22,
   "metadata": {
    "collapsed": true
   },
   "outputs": [],
   "source": [
    "to = cars_cancel_train.groupby(['to_area_id', 'Car_Cancellation']).size().unstack(1)"
   ]
  },
  {
   "cell_type": "code",
   "execution_count": 23,
   "metadata": {
    "collapsed": false
   },
   "outputs": [
    {
     "data": {
      "text/html": [
       "<div>\n",
       "<table border=\"1\" class=\"dataframe\">\n",
       "  <thead>\n",
       "    <tr style=\"text-align: right;\">\n",
       "      <th>Car_Cancellation</th>\n",
       "      <th>0</th>\n",
       "      <th>1</th>\n",
       "    </tr>\n",
       "    <tr>\n",
       "      <th>to_area_id</th>\n",
       "      <th></th>\n",
       "      <th></th>\n",
       "    </tr>\n",
       "  </thead>\n",
       "  <tbody>\n",
       "    <tr>\n",
       "      <th>2.0</th>\n",
       "      <td>4.0</td>\n",
       "      <td>NaN</td>\n",
       "    </tr>\n",
       "    <tr>\n",
       "      <th>6.0</th>\n",
       "      <td>2.0</td>\n",
       "      <td>NaN</td>\n",
       "    </tr>\n",
       "    <tr>\n",
       "      <th>15.0</th>\n",
       "      <td>3.0</td>\n",
       "      <td>2.0</td>\n",
       "    </tr>\n",
       "    <tr>\n",
       "      <th>16.0</th>\n",
       "      <td>3.0</td>\n",
       "      <td>1.0</td>\n",
       "    </tr>\n",
       "    <tr>\n",
       "      <th>17.0</th>\n",
       "      <td>1.0</td>\n",
       "      <td>NaN</td>\n",
       "    </tr>\n",
       "  </tbody>\n",
       "</table>\n",
       "</div>"
      ],
      "text/plain": [
       "Car_Cancellation    0    1\n",
       "to_area_id                \n",
       "2.0               4.0  NaN\n",
       "6.0               2.0  NaN\n",
       "15.0              3.0  2.0\n",
       "16.0              3.0  1.0\n",
       "17.0              1.0  NaN"
      ]
     },
     "execution_count": 23,
     "metadata": {},
     "output_type": "execute_result"
    }
   ],
   "source": [
    "to.head()"
   ]
  },
  {
   "cell_type": "code",
   "execution_count": 24,
   "metadata": {
    "collapsed": true
   },
   "outputs": [],
   "source": [
    "to['percent_cancelled'] = (to[1] / (to[1] + to[0])) * 100."
   ]
  },
  {
   "cell_type": "code",
   "execution_count": 25,
   "metadata": {
    "collapsed": false
   },
   "outputs": [
    {
     "name": "stderr",
     "output_type": "stream",
     "text": [
      "C:\\Anaconda2\\lib\\site-packages\\ipykernel\\__main__.py:1: FutureWarning: order is deprecated, use sort_values(...)\n",
      "  if __name__ == '__main__':\n"
     ]
    },
    {
     "data": {
      "text/plain": [
       "to_area_id\n",
       "1247.0    75.000000\n",
       "677.0     66.666667\n",
       "355.0     66.666667\n",
       "1218.0    60.000000\n",
       "845.0     60.000000\n",
       "1310.0    50.000000\n",
       "1311.0    50.000000\n",
       "1387.0    50.000000\n",
       "1197.0    50.000000\n",
       "1225.0    50.000000\n",
       "1193.0    50.000000\n",
       "1235.0    50.000000\n",
       "598.0     50.000000\n",
       "1357.0    50.000000\n",
       "1336.0    50.000000\n",
       "118.0     50.000000\n",
       "122.0     41.463415\n",
       "626.0     40.000000\n",
       "520.0     40.000000\n",
       "525.0     40.000000\n",
       "Name: percent_cancelled, dtype: float64"
      ]
     },
     "execution_count": 25,
     "metadata": {},
     "output_type": "execute_result"
    }
   ],
   "source": [
    "to.percent_cancelled.order(ascending=False).iloc[:20]"
   ]
  },
  {
   "cell_type": "code",
   "execution_count": 26,
   "metadata": {
    "collapsed": true
   },
   "outputs": [],
   "source": [
    "from_to = cars_cancel_train.groupby(['from_area_id', 'to_area_id', 'Car_Cancellation']).size()"
   ]
  },
  {
   "cell_type": "code",
   "execution_count": 27,
   "metadata": {
    "collapsed": true
   },
   "outputs": [],
   "source": [
    "f_t = from_to.unstack(2)"
   ]
  },
  {
   "cell_type": "code",
   "execution_count": 28,
   "metadata": {
    "collapsed": false
   },
   "outputs": [
    {
     "data": {
      "text/html": [
       "<div>\n",
       "<table border=\"1\" class=\"dataframe\">\n",
       "  <thead>\n",
       "    <tr style=\"text-align: right;\">\n",
       "      <th></th>\n",
       "      <th>Car_Cancellation</th>\n",
       "      <th>0</th>\n",
       "      <th>1</th>\n",
       "    </tr>\n",
       "    <tr>\n",
       "      <th>from_area_id</th>\n",
       "      <th>to_area_id</th>\n",
       "      <th></th>\n",
       "      <th></th>\n",
       "    </tr>\n",
       "  </thead>\n",
       "  <tbody>\n",
       "    <tr>\n",
       "      <th rowspan=\"5\" valign=\"top\">2.0</th>\n",
       "      <th>222.0</th>\n",
       "      <td>1.0</td>\n",
       "      <td>NaN</td>\n",
       "    </tr>\n",
       "    <tr>\n",
       "      <th>393.0</th>\n",
       "      <td>12.0</td>\n",
       "      <td>NaN</td>\n",
       "    </tr>\n",
       "    <tr>\n",
       "      <th>452.0</th>\n",
       "      <td>1.0</td>\n",
       "      <td>NaN</td>\n",
       "    </tr>\n",
       "    <tr>\n",
       "      <th>455.0</th>\n",
       "      <td>NaN</td>\n",
       "      <td>1.0</td>\n",
       "    </tr>\n",
       "    <tr>\n",
       "      <th>572.0</th>\n",
       "      <td>NaN</td>\n",
       "      <td>1.0</td>\n",
       "    </tr>\n",
       "  </tbody>\n",
       "</table>\n",
       "</div>"
      ],
      "text/plain": [
       "Car_Cancellation            0    1\n",
       "from_area_id to_area_id           \n",
       "2.0          222.0        1.0  NaN\n",
       "             393.0       12.0  NaN\n",
       "             452.0        1.0  NaN\n",
       "             455.0        NaN  1.0\n",
       "             572.0        NaN  1.0"
      ]
     },
     "execution_count": 28,
     "metadata": {},
     "output_type": "execute_result"
    }
   ],
   "source": [
    "f_t.head()"
   ]
  },
  {
   "cell_type": "code",
   "execution_count": 29,
   "metadata": {
    "collapsed": true
   },
   "outputs": [],
   "source": [
    "f_t['percent_cancelled'] = (f_t[1] / (f_t[0] + f_t[1])) * 100."
   ]
  },
  {
   "cell_type": "code",
   "execution_count": 30,
   "metadata": {
    "collapsed": false
   },
   "outputs": [
    {
     "name": "stderr",
     "output_type": "stream",
     "text": [
      "C:\\Anaconda2\\lib\\site-packages\\ipykernel\\__main__.py:1: FutureWarning: order is deprecated, use sort_values(...)\n",
      "  if __name__ == '__main__':\n"
     ]
    },
    {
     "data": {
      "text/plain": [
       "from_area_id  to_area_id\n",
       "626.0         122.0         90.909091\n",
       "1349.0        1052.0        83.333333\n",
       "1330.0        176.0         80.000000\n",
       "1052.0        1349.0        78.571429\n",
       "625.0         452.0         75.000000\n",
       "1296.0        793.0         75.000000\n",
       "1365.0        293.0         75.000000\n",
       "1285.0        61.0          70.588235\n",
       "122.0         626.0         70.000000\n",
       "176.0         136.0         66.666667\n",
       "1068.0        352.0         66.666667\n",
       "264.0         585.0         66.666667\n",
       "1384.0        160.0         66.666667\n",
       "839.0         585.0         66.666667\n",
       "571.0         396.0         66.666667\n",
       "83.0          176.0         66.666667\n",
       "1095.0        25.0          66.666667\n",
       "363.0         1068.0        66.666667\n",
       "542.0         1237.0        66.666667\n",
       "541.0         83.0          66.666667\n",
       "Name: percent_cancelled, dtype: float64"
      ]
     },
     "execution_count": 30,
     "metadata": {},
     "output_type": "execute_result"
    }
   ],
   "source": [
    "f_t.percent_cancelled.order(ascending=False).iloc[:20]"
   ]
  },
  {
   "cell_type": "markdown",
   "metadata": {},
   "source": [
    "So there are some routes for which the cancellation rate is pretty high, e.g. from area-626 to-122 almost 90% of the bookings were cancelled"
   ]
  },
  {
   "cell_type": "code",
   "execution_count": 31,
   "metadata": {
    "collapsed": false
   },
   "outputs": [
    {
     "data": {
      "text/plain": [
       "online_booking  mobile_site_booking\n",
       "0               0                       940\n",
       "                1                       289\n",
       "1               0                      1903\n",
       "Name: Car_Cancellation, dtype: int64"
      ]
     },
     "execution_count": 31,
     "metadata": {},
     "output_type": "execute_result"
    }
   ],
   "source": [
    "# Lets see if online or mobile booking has any effect on cancellation\n",
    "pd.pivot_table(cars_cancel_train[['online_booking', 'mobile_site_booking', 'Car_Cancellation']]\n",
    "              , values='Car_Cancellation', index=['online_booking', 'mobile_site_booking'], aggfunc= np.count_nonzero)"
   ]
  },
  {
   "cell_type": "markdown",
   "metadata": {},
   "source": [
    "So most of the cancellations are of orders that were booked online."
   ]
  },
  {
   "cell_type": "code",
   "execution_count": 32,
   "metadata": {
    "collapsed": true
   },
   "outputs": [],
   "source": [
    "booking_diff = cars_cancel_train[['from_date', 'to_date', 'booking_created', 'Car_Cancellation']]"
   ]
  },
  {
   "cell_type": "code",
   "execution_count": 33,
   "metadata": {
    "collapsed": false
   },
   "outputs": [
    {
     "name": "stderr",
     "output_type": "stream",
     "text": [
      "C:\\Anaconda2\\lib\\site-packages\\pandas\\core\\indexing.py:284: SettingWithCopyWarning: \n",
      "A value is trying to be set on a copy of a slice from a DataFrame.\n",
      "Try using .loc[row_indexer,col_indexer] = value instead\n",
      "\n",
      "See the caveats in the documentation: http://pandas.pydata.org/pandas-docs/stable/indexing.html#indexing-view-versus-copy\n",
      "  self.obj[key] = _infer_fill_value(value)\n",
      "C:\\Anaconda2\\lib\\site-packages\\pandas\\core\\indexing.py:461: SettingWithCopyWarning: \n",
      "A value is trying to be set on a copy of a slice from a DataFrame.\n",
      "Try using .loc[row_indexer,col_indexer] = value instead\n",
      "\n",
      "See the caveats in the documentation: http://pandas.pydata.org/pandas-docs/stable/indexing.html#indexing-view-versus-copy\n",
      "  self.obj[item] = s\n"
     ]
    }
   ],
   "source": [
    "booking_diff.loc[:, 'difference'] = booking_diff.loc[:, ('from_date')] - booking_diff.loc[:, ('booking_created')]"
   ]
  },
  {
   "cell_type": "code",
   "execution_count": 35,
   "metadata": {
    "collapsed": false
   },
   "outputs": [
    {
     "data": {
      "text/html": [
       "<div>\n",
       "<table border=\"1\" class=\"dataframe\">\n",
       "  <thead>\n",
       "    <tr style=\"text-align: right;\">\n",
       "      <th></th>\n",
       "      <th>from_date</th>\n",
       "      <th>to_date</th>\n",
       "      <th>booking_created</th>\n",
       "      <th>Car_Cancellation</th>\n",
       "      <th>difference</th>\n",
       "    </tr>\n",
       "    <tr>\n",
       "      <th>id</th>\n",
       "      <th></th>\n",
       "      <th></th>\n",
       "      <th></th>\n",
       "      <th></th>\n",
       "      <th></th>\n",
       "    </tr>\n",
       "  </thead>\n",
       "  <tbody>\n",
       "    <tr>\n",
       "      <th>132512</th>\n",
       "      <td>2013-01-01 02:00:00</td>\n",
       "      <td>NaT</td>\n",
       "      <td>2013-01-01 01:39:00</td>\n",
       "      <td>0</td>\n",
       "      <td>00:21:00</td>\n",
       "    </tr>\n",
       "    <tr>\n",
       "      <th>132513</th>\n",
       "      <td>2013-01-01 09:00:00</td>\n",
       "      <td>NaT</td>\n",
       "      <td>2013-01-01 02:25:00</td>\n",
       "      <td>0</td>\n",
       "      <td>06:35:00</td>\n",
       "    </tr>\n",
       "    <tr>\n",
       "      <th>132514</th>\n",
       "      <td>2013-01-01 03:30:00</td>\n",
       "      <td>NaT</td>\n",
       "      <td>2013-01-01 03:08:00</td>\n",
       "      <td>0</td>\n",
       "      <td>00:22:00</td>\n",
       "    </tr>\n",
       "    <tr>\n",
       "      <th>132515</th>\n",
       "      <td>2013-01-01 05:45:00</td>\n",
       "      <td>NaT</td>\n",
       "      <td>2013-01-01 04:39:00</td>\n",
       "      <td>0</td>\n",
       "      <td>01:06:00</td>\n",
       "    </tr>\n",
       "    <tr>\n",
       "      <th>132517</th>\n",
       "      <td>2013-01-01 09:00:00</td>\n",
       "      <td>NaT</td>\n",
       "      <td>2013-01-01 07:53:00</td>\n",
       "      <td>0</td>\n",
       "      <td>01:07:00</td>\n",
       "    </tr>\n",
       "  </tbody>\n",
       "</table>\n",
       "</div>"
      ],
      "text/plain": [
       "                 from_date to_date     booking_created  Car_Cancellation  \\\n",
       "id                                                                         \n",
       "132512 2013-01-01 02:00:00     NaT 2013-01-01 01:39:00                 0   \n",
       "132513 2013-01-01 09:00:00     NaT 2013-01-01 02:25:00                 0   \n",
       "132514 2013-01-01 03:30:00     NaT 2013-01-01 03:08:00                 0   \n",
       "132515 2013-01-01 05:45:00     NaT 2013-01-01 04:39:00                 0   \n",
       "132517 2013-01-01 09:00:00     NaT 2013-01-01 07:53:00                 0   \n",
       "\n",
       "        difference  \n",
       "id                  \n",
       "132512    00:21:00  \n",
       "132513    06:35:00  \n",
       "132514    00:22:00  \n",
       "132515    01:06:00  \n",
       "132517    01:07:00  "
      ]
     },
     "execution_count": 35,
     "metadata": {},
     "output_type": "execute_result"
    }
   ],
   "source": [
    "booking_diff.head()"
   ]
  },
  {
   "cell_type": "code",
   "execution_count": 34,
   "metadata": {
    "collapsed": true
   },
   "outputs": [],
   "source": [
    "booking_diff.loc[:, 'diff_in_days']=(booking_diff.difference / np.timedelta64(1, 's')).astype(int)/ ( 24. * 60 * 60 )"
   ]
  },
  {
   "cell_type": "code",
   "execution_count": 35,
   "metadata": {
    "collapsed": false
   },
   "outputs": [
    {
     "data": {
      "text/html": [
       "<div>\n",
       "<table border=\"1\" class=\"dataframe\">\n",
       "  <thead>\n",
       "    <tr style=\"text-align: right;\">\n",
       "      <th></th>\n",
       "      <th>from_date</th>\n",
       "      <th>to_date</th>\n",
       "      <th>booking_created</th>\n",
       "      <th>Car_Cancellation</th>\n",
       "      <th>difference</th>\n",
       "      <th>diff_in_days</th>\n",
       "    </tr>\n",
       "    <tr>\n",
       "      <th>id</th>\n",
       "      <th></th>\n",
       "      <th></th>\n",
       "      <th></th>\n",
       "      <th></th>\n",
       "      <th></th>\n",
       "      <th></th>\n",
       "    </tr>\n",
       "  </thead>\n",
       "  <tbody>\n",
       "    <tr>\n",
       "      <th>132512</th>\n",
       "      <td>2013-01-01 02:00:00</td>\n",
       "      <td>NaT</td>\n",
       "      <td>2013-01-01 01:39:00</td>\n",
       "      <td>0</td>\n",
       "      <td>00:21:00</td>\n",
       "      <td>0.014583</td>\n",
       "    </tr>\n",
       "    <tr>\n",
       "      <th>132513</th>\n",
       "      <td>2013-01-01 09:00:00</td>\n",
       "      <td>NaT</td>\n",
       "      <td>2013-01-01 02:25:00</td>\n",
       "      <td>0</td>\n",
       "      <td>06:35:00</td>\n",
       "      <td>0.274306</td>\n",
       "    </tr>\n",
       "    <tr>\n",
       "      <th>132514</th>\n",
       "      <td>2013-01-01 03:30:00</td>\n",
       "      <td>NaT</td>\n",
       "      <td>2013-01-01 03:08:00</td>\n",
       "      <td>0</td>\n",
       "      <td>00:22:00</td>\n",
       "      <td>0.015278</td>\n",
       "    </tr>\n",
       "    <tr>\n",
       "      <th>132515</th>\n",
       "      <td>2013-01-01 05:45:00</td>\n",
       "      <td>NaT</td>\n",
       "      <td>2013-01-01 04:39:00</td>\n",
       "      <td>0</td>\n",
       "      <td>01:06:00</td>\n",
       "      <td>0.045833</td>\n",
       "    </tr>\n",
       "    <tr>\n",
       "      <th>132517</th>\n",
       "      <td>2013-01-01 09:00:00</td>\n",
       "      <td>NaT</td>\n",
       "      <td>2013-01-01 07:53:00</td>\n",
       "      <td>0</td>\n",
       "      <td>01:07:00</td>\n",
       "      <td>0.046528</td>\n",
       "    </tr>\n",
       "  </tbody>\n",
       "</table>\n",
       "</div>"
      ],
      "text/plain": [
       "                 from_date to_date     booking_created  Car_Cancellation  \\\n",
       "id                                                                         \n",
       "132512 2013-01-01 02:00:00     NaT 2013-01-01 01:39:00                 0   \n",
       "132513 2013-01-01 09:00:00     NaT 2013-01-01 02:25:00                 0   \n",
       "132514 2013-01-01 03:30:00     NaT 2013-01-01 03:08:00                 0   \n",
       "132515 2013-01-01 05:45:00     NaT 2013-01-01 04:39:00                 0   \n",
       "132517 2013-01-01 09:00:00     NaT 2013-01-01 07:53:00                 0   \n",
       "\n",
       "        difference  diff_in_days  \n",
       "id                                \n",
       "132512    00:21:00      0.014583  \n",
       "132513    06:35:00      0.274306  \n",
       "132514    00:22:00      0.015278  \n",
       "132515    01:06:00      0.045833  \n",
       "132517    01:07:00      0.046528  "
      ]
     },
     "execution_count": 35,
     "metadata": {},
     "output_type": "execute_result"
    }
   ],
   "source": [
    "booking_diff.head()"
   ]
  },
  {
   "cell_type": "code",
   "execution_count": 36,
   "metadata": {
    "collapsed": false
   },
   "outputs": [
    {
     "data": {
      "image/png": "[encoded data removed]",
      "text/plain": [
       "<matplotlib.figure.Figure at 0x10c16438>"
      ]
     },
     "metadata": {},
     "output_type": "display_data"
    }
   ],
   "source": [
    "booking_diff.hist(column='diff_in_days', by='Car_Cancellation', bins=100);"
   ]
  },
  {
   "cell_type": "markdown",
   "metadata": {},
   "source": [
    "** There seems to be no relation between number of days between date of booking and trip's start date with cancellation. Generally people tend to cancel their booking 5 days prior to their trip's start date which is not unusual **"
   ]
  },
  {
   "cell_type": "markdown",
   "metadata": {},
   "source": [
    "# Data-Preparation"
   ]
  },
  {
   "cell_type": "markdown",
   "metadata": {},
   "source": [
    "# Following features will be considered for analysis\n",
    "    vehicle_model_id\n",
    "    package_id\n",
    "    travel_type_id\n",
    "    from_area_id\n",
    "    to_area_id\n",
    "    from_city_id\n",
    "    to_city_id\n",
    "    days_before_booking\n",
    "    online_booking\n",
    "    mobile_site_booking\n",
    "    from_month\n",
    "    from_weekday\n",
    "    booking_month\n",
    "    booking_weekday\n",
    "Many of them have missing values which have to be dealt accordingly"
   ]
  },
  {
   "cell_type": "code",
   "execution_count": 37,
   "metadata": {
    "collapsed": false
   },
   "outputs": [
    {
     "data": {
      "text/plain": [
       "Index([u'user_id', u'vehicle_model_id', u'package_id', u'travel_type_id',\n",
       "       u'from_area_id', u'to_area_id', u'from_city_id', u'to_city_id',\n",
       "       u'from_date', u'to_date', u'online_booking', u'mobile_site_booking',\n",
       "       u'booking_created', u'from_lat', u'from_long', u'to_lat', u'to_long',\n",
       "       u'Car_Cancellation', u'Cost_of_error'],\n",
       "      dtype='object')"
      ]
     },
     "execution_count": 37,
     "metadata": {},
     "output_type": "execute_result"
    }
   ],
   "source": [
    "cars_cancel_train.columns"
   ]
  },
  {
   "cell_type": "code",
   "execution_count": 38,
   "metadata": {
    "collapsed": false
   },
   "outputs": [
    {
     "name": "stdout",
     "output_type": "stream",
     "text": [
      "<class 'pandas.core.frame.DataFrame'>\n",
      "Int64Index: 43431 entries, 132512 to 185941\n",
      "Data columns (total 19 columns):\n",
      "user_id                43431 non-null int64\n",
      "vehicle_model_id       43431 non-null int64\n",
      "package_id             7550 non-null float64\n",
      "travel_type_id         43431 non-null int64\n",
      "from_area_id           43343 non-null float64\n",
      "to_area_id             34293 non-null float64\n",
      "from_city_id           16345 non-null float64\n",
      "to_city_id             1588 non-null float64\n",
      "from_date              43431 non-null datetime64[ns]\n",
      "to_date                25541 non-null datetime64[ns]\n",
      "online_booking         43431 non-null int64\n",
      "mobile_site_booking    43431 non-null int64\n",
      "booking_created        43431 non-null datetime64[ns]\n",
      "from_lat               43338 non-null float64\n",
      "from_long              43338 non-null float64\n",
      "to_lat                 34293 non-null float64\n",
      "to_long                34293 non-null float64\n",
      "Car_Cancellation       43431 non-null int64\n",
      "Cost_of_error          43431 non-null float64\n",
      "dtypes: datetime64[ns](3), float64(10), int64(6)\n",
      "memory usage: 6.6 MB\n"
     ]
    }
   ],
   "source": [
    "cars_cancel_train.info()"
   ]
  },
  {
   "cell_type": "code",
   "execution_count": 39,
   "metadata": {
    "collapsed": true
   },
   "outputs": [],
   "source": [
    "cars_cancel_train.loc[:, 'from_month'] = cars_cancel_train.from_date.dt.month\n",
    "cars_cancel_train.loc[:, 'from_weekday'] = cars_cancel_train.from_date.dt.weekday\n",
    "\n",
    "cars_cancel_train.loc[:, 'booking_month'] = cars_cancel_train.booking_created.dt.month\n",
    "cars_cancel_train.loc[:, 'booking_weekday'] = cars_cancel_train.booking_created.dt.weekday"
   ]
  },
  {
   "cell_type": "code",
   "execution_count": 40,
   "metadata": {
    "collapsed": true
   },
   "outputs": [],
   "source": [
    "cars_cancel_train.loc[:, 'days_before_booking'] = booking_diff['diff_in_days']"
   ]
  },
  {
   "cell_type": "markdown",
   "metadata": {},
   "source": [
    "# Set up subsets X and y, and split them into train and test"
   ]
  },
  {
   "cell_type": "code",
   "execution_count": 41,
   "metadata": {
    "collapsed": true
   },
   "outputs": [],
   "source": [
    "features_cols = ['vehicle_model_id', 'travel_type_id', 'from_area_id',\n",
    "                 'to_area_id','from_month', 'from_weekday',\n",
    "                 'days_before_booking', 'online_booking', 'mobile_site_booking',\n",
    "                 'booking_month', 'booking_weekday']"
   ]
  },
  {
   "cell_type": "code",
   "execution_count": 42,
   "metadata": {
    "collapsed": true
   },
   "outputs": [],
   "source": [
    "features = cars_cancel_train[features_cols]\n",
    "y = cars_cancel_train.Car_Cancellation"
   ]
  },
  {
   "cell_type": "code",
   "execution_count": 43,
   "metadata": {
    "collapsed": false
   },
   "outputs": [
    {
     "name": "stderr",
     "output_type": "stream",
     "text": [
      "C:\\Anaconda2\\lib\\site-packages\\pandas\\core\\generic.py:3178: SettingWithCopyWarning: \n",
      "A value is trying to be set on a copy of a slice from a DataFrame\n",
      "\n",
      "See the caveats in the documentation: http://pandas.pydata.org/pandas-docs/stable/indexing.html#indexing-view-versus-copy\n",
      "  self._update_inplace(new_data)\n"
     ]
    }
   ],
   "source": [
    "# Add a new level ( -9999 ) for missing values\n",
    "features.from_area_id.fillna(-9999, inplace=True)\n",
    "features.to_area_id.fillna(-9999, inplace=True)"
   ]
  },
  {
   "cell_type": "code",
   "execution_count": 45,
   "metadata": {
    "collapsed": true
   },
   "outputs": [],
   "source": [
    "X_train, X_test, y_train, y_test = train_test_split(features, y, random_state=1234567)"
   ]
  },
  {
   "cell_type": "markdown",
   "metadata": {},
   "source": [
    "# Null Model"
   ]
  },
  {
   "cell_type": "code",
   "execution_count": 44,
   "metadata": {
    "collapsed": false
   },
   "outputs": [
    {
     "name": "stdout",
     "output_type": "stream",
     "text": [
      "Number of car bokking cancellation: 3132\n",
      "Null model accuracy: 0.927886\n",
      "Null model AUC: 0.500000\n"
     ]
    }
   ],
   "source": [
    "#null model and its accuracy\n",
    "Cancellation_y = np.count_nonzero(y)\n",
    "print 'Number of car bokking cancellation: %d' %Cancellation_y\n",
    "# total observation is 43431, and Cancellation_y =3132 , so the null model is all zeros. \n",
    "null_ypred = np.ones(43431)\n",
    "null_score = 1 - 3132/43431.0\n",
    "print ('Null model accuracy: %f' %null_score)\n",
    "null_auc = metrics.roc_auc_score(y, null_ypred)\n",
    "print ('Null model AUC: %f' %null_auc)"
   ]
  },
  {
   "cell_type": "markdown",
   "metadata": {},
   "source": [
    "# Part 1: Model Evaluations without Feature Selection"
   ]
  },
  {
   "cell_type": "markdown",
   "metadata": {},
   "source": [
    "# Model 1: Gaussian Naive Bayes\n",
    "\n",
    "Average accuracy and AUC"
   ]
  },
  {
   "cell_type": "code",
   "execution_count": 45,
   "metadata": {
    "collapsed": false
   },
   "outputs": [
    {
     "name": "stdout",
     "output_type": "stream",
     "text": [
      "Gaussian NB average accracy: 0.869374\n",
      "Gaussian NB average AUC: 0.738319\n",
      "Computation time (in second): 0.938000\n"
     ]
    }
   ],
   "source": [
    "# 10-fold cross-validation for GaussianNB \n",
    "m1_start = time.time()\n",
    "gnb = GaussianNB()\n",
    "m1_scores = cross_val_score(gnb, features, y, cv=10, scoring='accuracy')\n",
    "# use average accuracy as an estimate of out-of-sample accuracy\n",
    "print (\"Gaussian NB average accracy: %f\" %m1_scores.mean())\n",
    "m1_auc = cross_val_score(gnb, features, y, cv=10, scoring='roc_auc')\n",
    "print (\"Gaussian NB average AUC: %f\" %m1_auc.mean())\n",
    "m1_end = time.time()\n",
    "m1_time = m1_end - m1_start \n",
    "print (\"Computation time (in second): %f\"\n",
    "      % m1_time)"
   ]
  },
  {
   "cell_type": "markdown",
   "metadata": {},
   "source": [
    "# Model 2: Logistcl Regression\n",
    "Average accuracy and AUC\n"
   ]
  },
  {
   "cell_type": "code",
   "execution_count": 47,
   "metadata": {
    "collapsed": false
   },
   "outputs": [
    {
     "name": "stdout",
     "output_type": "stream",
     "text": [
      "Logistic regression average accracy: 0.927886\n",
      "Logistic regression average auc: 0.759234\n",
      "Computation time (in second): 13.082000\n"
     ]
    }
   ],
   "source": [
    "#10-fold cross-validation for logreg\n",
    "m2_start = time.time()\n",
    "logreg = LogisticRegression(C=1e9)\n",
    "m2_scores = cross_val_score(logreg, features, y, cv=10, scoring='accuracy')\n",
    "# use average accuracy as an estimate of out-of-sample accuracy\n",
    "print (\"Logistic regression average accracy: %f\" %m2_scores.mean())\n",
    "m2_auc = cross_val_score(logreg, features, y, cv=10, scoring='roc_auc')\n",
    "print (\"Logistic regression average auc: %f\" %m2_auc.mean())\n",
    "m2_end = time.time()\n",
    "m2_time = m2_end - m2_start \n",
    "print (\"Computation time (in second): %f\" % m2_time)"
   ]
  },
  {
   "cell_type": "markdown",
   "metadata": {},
   "source": [
    "# Model 3: Decision Tree Classifier\n",
    "\n",
    "Parameter tunning: max_depth"
   ]
  },
  {
   "cell_type": "code",
   "execution_count": 46,
   "metadata": {
    "collapsed": false
   },
   "outputs": [
    {
     "name": "stdout",
     "output_type": "stream",
     "text": [
      "Computation time : 37.835000\n",
      "Index of the best score:\n"
     ]
    },
    {
     "data": {
      "text/plain": [
       "(array([1], dtype=int64),)"
      ]
     },
     "execution_count": 46,
     "metadata": {},
     "output_type": "execute_result"
    }
   ],
   "source": [
    "# search for an optimal value of max_depth for treeclf\n",
    "tune1_start = time.time()\n",
    "d_range = range(1,30)\n",
    "d_scores = []\n",
    "for d in d_range:\n",
    "    treeclf = DecisionTreeClassifier(max_depth=d)\n",
    "    scores = cross_val_score(treeclf, features, y, cv=10, scoring='accuracy')\n",
    "    d_scores.append(scores.mean())\n",
    "tune1_end = time.time()\n",
    "print \"Computation time : %f\" % (tune1_end - tune1_start)\n",
    "print \"Index of the best score:\" \n",
    "np.where(d_scores == max(d_scores))"
   ]
  },
  {
   "cell_type": "code",
   "execution_count": 48,
   "metadata": {
    "collapsed": false
   },
   "outputs": [
    {
     "data": {
      "text/plain": [
       "<matplotlib.text.Text at 0xc7e7710>"
      ]
     },
     "execution_count": 48,
     "metadata": {},
     "output_type": "execute_result"
    },
    {
     "data": {
      "image/png": "[encoded data removed]",
      "text/plain": [
       "<matplotlib.figure.Figure at 0x3bedf28>"
      ]
     },
     "metadata": {},
     "output_type": "display_data"
    }
   ],
   "source": [
    "%matplotlib inline\n",
    "# plot the value of d for treeclf (x-axis) versus the cross-validated accuracy (y-axis)\n",
    "plt.plot(d_range, d_scores)\n",
    "plt.xlabel('Value of d for depth')\n",
    "plt.ylabel('Cross-Validated Accuracy')"
   ]
  },
  {
   "cell_type": "markdown",
   "metadata": {},
   "source": [
    "# Average accuracy and AUC"
   ]
  },
  {
   "cell_type": "code",
   "execution_count": 49,
   "metadata": {
    "collapsed": false
   },
   "outputs": [
    {
     "name": "stdout",
     "output_type": "stream",
     "text": [
      "Decision Tree average accuracy: 0.865658\n",
      "Decision Tree average AUC: 0.675560\n",
      "Computation time (in second): 1.522000\n"
     ]
    }
   ],
   "source": [
    "\n",
    "# 10-fold cross-validation for Decision Tree with the optimal max depth (previously found max_depth=4)\n",
    "m3_start = time.time()\n",
    "treeclf = DecisionTreeClassifier(max_depth = 5)\n",
    "m3_scores = cross_val_score(treeclf, features, y, cv=10, scoring='accuracy').mean()\n",
    "# use average accuracy as an estimate of out-of-sample accuracy\n",
    "print (\"Decision Tree average accuracy: %f\" % m3_scores.mean())\n",
    "m3_auc = cross_val_score(treeclf,features, y, cv=10, scoring='roc_auc')\n",
    "print (\"Decision Tree average AUC: %f\" % m3_auc.mean())\n",
    "m3_end = time.time()\n",
    "m3_time = m3_end - m3_start\n",
    "print (\"Computation time (in second): %f\" % m3_time)"
   ]
  },
  {
   "cell_type": "markdown",
   "metadata": {},
   "source": [
    "# Model 4.1: Ensemble Bagging (use Decision Tree as base estimator)\n",
    "Parameter tuning: n_estimator and max_samples"
   ]
  },
  {
   "cell_type": "code",
   "execution_count": 50,
   "metadata": {
    "collapsed": false
   },
   "outputs": [
    {
     "name": "stdout",
     "output_type": "stream",
     "text": [
      "Computation time : 490.141000\n",
      "Index of the best score: \n"
     ]
    },
    {
     "data": {
      "text/plain": [
       "(array([1], dtype=int64), array([0], dtype=int64))"
      ]
     },
     "execution_count": 50,
     "metadata": {},
     "output_type": "execute_result"
    }
   ],
   "source": [
    "# search for an optimal values of n_estimator and max_samples for bagging\n",
    "tune4_start = time.time()\n",
    "est_range = range(1,21)  \n",
    "sam_range = range(100,2001,100)\n",
    "tune4_scores = np.empty(shape=[20,20])\n",
    "i = 0\n",
    "for est in est_range:\n",
    "    for sam in sam_range:\n",
    "        bag = BaggingClassifier(n_estimators=est, max_samples=sam)\n",
    "        scores = cross_val_score(bag, features, y, cv=10, scoring='accuracy')\n",
    "        tune4_scores[est-1, i] = scores.mean()\n",
    "        i = i+1\n",
    "    i = 0\n",
    "tune4_end = time.time()\n",
    "print (\"Computation time : %f\" % (tune4_end - tune4_start))\n",
    "print \"Index of the best score: \"\n",
    "np.where(tune4_scores == tune4_scores.max())"
   ]
  },
  {
   "cell_type": "code",
   "execution_count": 51,
   "metadata": {
    "collapsed": false
   },
   "outputs": [
    {
     "data": {
      "text/plain": [
       "<matplotlib.legend.Legend at 0xc79db00>"
      ]
     },
     "execution_count": 51,
     "metadata": {},
     "output_type": "execute_result"
    },
    {
     "data": {
      "image/png": "[encoded data removed]",
      "text/plain": [
       "<matplotlib.figure.Figure at 0x10b5a9e8>"
      ]
     },
     "metadata": {},
     "output_type": "display_data"
    }
   ],
   "source": [
    "%matplotlib inline\n",
    "# plot the value of max_samples for bagging (x-axis) versus the cross-validated accuracy (y-axis)\n",
    "# each line represents a different value of n_estimators\n",
    "plt.plot(sam_range, tune4_scores[0,:],'r', label ='n_est=1')\n",
    "plt.plot(sam_range, tune4_scores[4,:],'g',label = 'n_est=5')\n",
    "plt.plot(sam_range, tune4_scores[9,:],'b',label = 'n_est=10')\n",
    "plt.plot(sam_range, tune4_scores[14,:],'c', label ='n_est=15')\n",
    "plt.plot(sam_range, tune4_scores[19,:],'m',label = 'n_est=20')\n",
    "plt.xlabel('Value of Max_samples for Bagging')\n",
    "plt.ylabel('Cross-Validated Accuracy')\n",
    "plt.legend(bbox_to_anchor=(1, 1), loc=2, borderaxespad=0.)"
   ]
  },
  {
   "cell_type": "markdown",
   "metadata": {},
   "source": [
    "Average accuracy and AUC"
   ]
  },
  {
   "cell_type": "code",
   "execution_count": 52,
   "metadata": {
    "collapsed": false
   },
   "outputs": [
    {
     "name": "stdout",
     "output_type": "stream",
     "text": [
      "Bagging average acurracy: 0.865520\n",
      "Bagging average AUC: 0.622129\n",
      "Computation time (in second): 5.683000\n"
     ]
    }
   ],
   "source": [
    "# 10-fold cross-validation for Bagging using Decision Tree as the base estimator \n",
    "# previously found n_estimators=20, max_samples=1900\n",
    "m4a_start = time.time()\n",
    "bag = BaggingClassifier(n_estimators=20, max_samples=1900)\n",
    "m4a_scores = cross_val_score(bag, features, y, cv=10, scoring='accuracy').mean()\n",
    "# use average accuracy as an estimate of out-of-sample accuracy\n",
    "print (\"Bagging average acurracy: %f\" % m4a_scores.mean())\n",
    "m4a_auc = cross_val_score(bag, features, y, cv=10, scoring='roc_auc')\n",
    "print (\"Bagging average AUC: %f\" % m4a_auc.mean())\n",
    "m4a_end = time.time()\n",
    "m4a_time = m4a_end - m4a_start\n",
    "print (\"Computation time (in second): %f\" % m4a_time)"
   ]
  },
  {
   "cell_type": "markdown",
   "metadata": {},
   "source": [
    "# Model 4.2: Ensemble Bagging (use Gaussian NB as base estimator)\n",
    "Parameter tuning: n_estimator and max_samples"
   ]
  },
  {
   "cell_type": "code",
   "execution_count": 53,
   "metadata": {
    "collapsed": false
   },
   "outputs": [
    {
     "name": "stdout",
     "output_type": "stream",
     "text": [
      "Computation time : 367.203000\n",
      "Index of the best score: \n"
     ]
    },
    {
     "data": {
      "text/plain": [
       "(array([ 0,  1,  2,  3,  4,  5,  6,  7,  8,  9, 10, 11, 12, 13, 14, 15, 16,\n",
       "        17, 18, 19], dtype=int64),\n",
       " array([0, 0, 0, 0, 0, 0, 0, 0, 0, 0, 0, 0, 0, 0, 0, 0, 0, 0, 0, 0], dtype=int64))"
      ]
     },
     "execution_count": 53,
     "metadata": {},
     "output_type": "execute_result"
    }
   ],
   "source": [
    "# search for an optimal values of n_estimator and max_samples for bagging using GNB as the base estimator \n",
    "# the accuracy didn't look right! All of them are about zero???!!!\n",
    "tune4b_start = time.time()\n",
    "gnb = GaussianNB()\n",
    "est_range = range(1,21)  \n",
    "sam_range = (1,100,200,300,400,500)\n",
    "tune4b_scores = np.empty(shape=[20,6])\n",
    "i = 0\n",
    "for est in est_range:\n",
    "    for sam in sam_range:\n",
    "        bag = BaggingClassifier(base_estimator= gnb, n_estimators=est, max_samples=sam)\n",
    "        scores = cross_val_score(bag, features, y, cv=10, scoring='accuracy')\n",
    "        tune4b_scores[est-1, i] = scores.mean()\n",
    "        i = i+1\n",
    "    i = 0\n",
    "tune4b_end = time.time()\n",
    "print (\"Computation time : %f\" % (tune4b_end - tune4b_start))\n",
    "print \"Index of the best score: \"\n",
    "np.where(tune4b_scores == tune4b_scores.max())"
   ]
  },
  {
   "cell_type": "code",
   "execution_count": 54,
   "metadata": {
    "collapsed": false
   },
   "outputs": [
    {
     "data": {
      "text/plain": [
       "<matplotlib.legend.Legend at 0x10607ba8>"
      ]
     },
     "execution_count": 54,
     "metadata": {},
     "output_type": "execute_result"
    },
    {
     "data": {
      "image/png": "[encoded data removed]",
      "text/plain": [
       "<matplotlib.figure.Figure at 0x106731d0>"
      ]
     },
     "metadata": {},
     "output_type": "display_data"
    }
   ],
   "source": [
    "%matplotlib inline\n",
    "# plot the value of max_samples for bagging (x-axis) versus the cross-validated accuracy (y-axis)\n",
    "# each line represents a different value of n_estimators\n",
    "plt.plot(sam_range, tune4b_scores[0,:],'r', label ='n_est=1')\n",
    "plt.plot(sam_range, tune4b_scores[4,:],'g',label = 'n_est=5')\n",
    "plt.plot(sam_range, tune4b_scores[9,:],'b',label = 'n_est=10')\n",
    "plt.plot(sam_range, tune4b_scores[14,:],'c', label ='n_est=15')\n",
    "plt.plot(sam_range, tune4b_scores[19,:],'m',label = 'n_est=20')\n",
    "plt.xlabel('Value of Max_samples for Bagging (GNB)')\n",
    "plt.ylabel('Cross-Validated Accuracy')\n",
    "plt.legend(bbox_to_anchor=(1, 1), loc=2, borderaxespad=0.)"
   ]
  },
  {
   "cell_type": "markdown",
   "metadata": {},
   "source": [
    "# Average accuracy and AUC"
   ]
  },
  {
   "cell_type": "code",
   "execution_count": 55,
   "metadata": {
    "collapsed": false
   },
   "outputs": [
    {
     "name": "stdout",
     "output_type": "stream",
     "text": [
      "Bagging (GNB) average acurracy: 0.866749\n",
      "Bagging (GNB) average AUC: 0.736956\n",
      "Computation time (in second): 5.844000\n"
     ]
    }
   ],
   "source": [
    "# 10-fold cross-validation for Bagging using GNB as the base estimator \n",
    "# we will use the default parameters \n",
    "m4b_start = time.time()\n",
    "gnb = GaussianNB()\n",
    "bag2 = BaggingClassifier(base_estimator=gnb)\n",
    "m4b_scores = cross_val_score(bag2, features, y, cv=10, scoring='accuracy').mean()\n",
    "# use average accuracy as an estimate of out-of-sample accuracy\n",
    "print (\"Bagging (GNB) average acurracy: %f\" % m4b_scores.mean())\n",
    "m4b_auc = cross_val_score(bag2, features, y, cv=10, scoring='roc_auc')\n",
    "print (\"Bagging (GNB) average AUC: %f\" % m4b_auc.mean())\n",
    "m4b_end = time.time()\n",
    "m4b_time = m4b_end - m4b_start\n",
    "print (\"Computation time (in second): %f\" % m4b_time)"
   ]
  },
  {
   "cell_type": "markdown",
   "metadata": {},
   "source": [
    "# Model 5: Ensemble Random Forest\n",
    "Parameter tuning: n_estimator and max_depth"
   ]
  },
  {
   "cell_type": "code",
   "execution_count": 56,
   "metadata": {
    "collapsed": false
   },
   "outputs": [
    {
     "name": "stdout",
     "output_type": "stream",
     "text": [
      "Computation time : 401.843000\n",
      "Index of the best score: \n"
     ]
    },
    {
     "data": {
      "text/plain": [
       "(array([ 0,  1,  2,  3,  4,  6,  6,  7,  7,  9, 10, 11, 12, 13, 14], dtype=int64),\n",
       " array([0, 1, 0, 0, 0, 0, 1, 0, 1, 0, 0, 0, 0, 0, 0], dtype=int64))"
      ]
     },
     "execution_count": 56,
     "metadata": {},
     "output_type": "execute_result"
    }
   ],
   "source": [
    "# search for an optimal values of n_estimator and max_depth for Random Forest Classifier \n",
    "tune5_start = time.time()\n",
    "est_range = range(1,16)\n",
    "dep_range = range(1,16)\n",
    "tune5_scores = np.empty(shape=[15,15])\n",
    "for est in est_range:\n",
    "    for dep in dep_range:\n",
    "        rfc = RandomForestClassifier(n_estimators=est, max_depth=dep)\n",
    "        scores = cross_val_score(rfc, features, y, cv=10, scoring='accuracy')\n",
    "        tune5_scores[est-1, dep-1] = scores.mean()\n",
    "tune5_end = time.time()\n",
    "print (\"Computation time : %f\" % (tune5_end - tune5_start))\n",
    "print \"Index of the best score: \"\n",
    "np.where(tune5_scores == tune5_scores.max())"
   ]
  },
  {
   "cell_type": "code",
   "execution_count": 57,
   "metadata": {
    "collapsed": false
   },
   "outputs": [
    {
     "data": {
      "text/plain": [
       "<matplotlib.legend.Legend at 0x10464c50>"
      ]
     },
     "execution_count": 57,
     "metadata": {},
     "output_type": "execute_result"
    },
    {
     "data": {
      "image/png": "[encoded data removed]",
      "text/plain": [
       "<matplotlib.figure.Figure at 0x10673b00>"
      ]
     },
     "metadata": {},
     "output_type": "display_data"
    }
   ],
   "source": [
    "%matplotlib inline\n",
    "# plot the value of max_samples for bagging (x-axis) versus the cross-validated accuracy (y-axis)\n",
    "# each line represents a different value of n_estimators\n",
    "plt.plot(dep_range, tune5_scores[0,:],'r', label ='n_est=1')\n",
    "plt.plot(dep_range, tune5_scores[4,:],'g',label = 'n_est=5')\n",
    "plt.plot(dep_range, tune5_scores[9,:],'b',label = 'n_est=10')\n",
    "plt.plot(dep_range, tune5_scores[14,:],'c', label ='n_est=15')\n",
    "plt.xlabel('Value of max_depth for Random Forest')\n",
    "plt.ylabel('Cross-Validated Accuracy')\n",
    "plt.legend(bbox_to_anchor=(1, 1), loc=2, borderaxespad=0.)"
   ]
  },
  {
   "cell_type": "markdown",
   "metadata": {},
   "source": [
    "Average accuracy and AUC"
   ]
  },
  {
   "cell_type": "code",
   "execution_count": 58,
   "metadata": {
    "collapsed": false
   },
   "outputs": [
    {
     "name": "stdout",
     "output_type": "stream",
     "text": [
      "Random Forest average scores: 0.799621\n",
      "Random Forest AUC: 0.563945\n",
      "Computation time (in second): 5.936000\n"
     ]
    }
   ],
   "source": [
    "# 10-fold cross-validation for Bagging\n",
    "# previously found best n_estimator = 14, max_depth = 8\n",
    "m5_start = time.time()\n",
    "rfc = RandomForestClassifier(n_estimators=14, max_depth=8)\n",
    "m5_scores = cross_val_score(rfc, features, y, cv=10, scoring='accuracy').mean()\n",
    "# use average accuracy as an estimate of out-of-sample accuracy\n",
    "print (\"Random Forest average scores: %f\" % m5_scores.mean())\n",
    "m5_auc = cross_val_score(rfc, features, y, cv=10, scoring='roc_auc')\n",
    "print (\"Random Forest AUC: %f\" % m5_auc.mean())\n",
    "m5_end = time.time()\n",
    "m5_time = m5_end - m5_start\n",
    "print (\"Computation time (in second): %f\" % m5_time)"
   ]
  },
  {
   "cell_type": "markdown",
   "metadata": {},
   "source": [
    "# Model 6: K Nearest Neighbor\n",
    "\n",
    "Parameter tuning: k"
   ]
  },
  {
   "cell_type": "code",
   "execution_count": 59,
   "metadata": {
    "collapsed": false
   },
   "outputs": [
    {
     "name": "stdout",
     "output_type": "stream",
     "text": [
      "Computation time: 365.857000\n",
      "Index of the best score:\n"
     ]
    },
    {
     "data": {
      "text/plain": [
       "(array([ 39,  40,  41,  42,  43,  44,  45,  46,  47,  48,  49,  50,  51,\n",
       "         52,  53,  54,  55,  56,  57,  58,  59,  60,  61,  62,  63,  64,\n",
       "         65,  66,  67,  68,  69,  70,  71,  72,  73,  74,  75,  76,  77,\n",
       "         78,  79,  80,  81,  82,  83,  84,  85,  86,  87,  88,  89,  90,\n",
       "         91,  92,  93,  94,  95,  96,  97,  98,  99, 100, 101, 102, 103,\n",
       "        104, 105, 106, 107, 108, 109, 110, 111, 112, 113, 114, 115, 116,\n",
       "        117, 118, 119, 120, 121, 122, 123, 124, 125, 126, 127, 128, 129,\n",
       "        130, 131, 132, 133, 134, 135, 136, 137, 138], dtype=int64),)"
      ]
     },
     "execution_count": 59,
     "metadata": {},
     "output_type": "execute_result"
    }
   ],
   "source": [
    "# search for an optimal value of K for KNN\n",
    "tune6_start = time.time()\n",
    "k_range = range(1, 140)\n",
    "tune6_scores = []\n",
    "for k in k_range:\n",
    "    knn = KNeighborsClassifier(n_neighbors=k)\n",
    "    scores = cross_val_score(knn, features, y, cv=10, scoring='accuracy')\n",
    "    tune6_scores.append(scores.mean())\n",
    "tune6_end = time.time()\n",
    "print (\"Computation time: %f\" % (tune6_end - tune6_start))\n",
    "print \"Index of the best score:\"\n",
    "np.where(tune6_scores == max(tune6_scores))"
   ]
  },
  {
   "cell_type": "code",
   "execution_count": 60,
   "metadata": {
    "collapsed": false
   },
   "outputs": [
    {
     "data": {
      "text/plain": [
       "(array([ 39,  40,  41,  42,  43,  44,  45,  46,  47,  48,  49,  50,  51,\n",
       "         52,  53,  54,  55,  56,  57,  58,  59,  60,  61,  62,  63,  64,\n",
       "         65,  66,  67,  68,  69,  70,  71,  72,  73,  74,  75,  76,  77,\n",
       "         78,  79,  80,  81,  82,  83,  84,  85,  86,  87,  88,  89,  90,\n",
       "         91,  92,  93,  94,  95,  96,  97,  98,  99, 100, 101, 102, 103,\n",
       "        104, 105, 106, 107, 108, 109, 110, 111, 112, 113, 114, 115, 116,\n",
       "        117, 118, 119, 120, 121, 122, 123, 124, 125, 126, 127, 128, 129,\n",
       "        130, 131, 132, 133, 134, 135, 136, 137, 138], dtype=int64),)"
      ]
     },
     "execution_count": 60,
     "metadata": {},
     "output_type": "execute_result"
    },
    {
     "data": {
      "image/png": "[encoded data removed]",
      "text/plain": [
       "<matplotlib.figure.Figure at 0x103f6cf8>"
      ]
     },
     "metadata": {},
     "output_type": "display_data"
    }
   ],
   "source": [
    "%matplotlib inline\n",
    "# plot the value of K for KNN (x-axis) versus the cross-validated accuracy (y-axis)\n",
    "plt.plot(k_range, tune6_scores)\n",
    "plt.xlabel('Value of K for KNN')\n",
    "plt.ylabel('Cross-Validated Accuracy')\n",
    "np.where(tune6_scores == max(tune6_scores))"
   ]
  },
  {
   "cell_type": "markdown",
   "metadata": {},
   "source": [
    "Average accuracy and AUC"
   ]
  },
  {
   "cell_type": "code",
   "execution_count": 61,
   "metadata": {
    "collapsed": false
   },
   "outputs": [
    {
     "name": "stdout",
     "output_type": "stream",
     "text": [
      "Knn average accuracy: 0.927356\n",
      "knn average AUC: 0.652422\n",
      "Computation time (in second): 3.950000\n"
     ]
    }
   ],
   "source": [
    "#previously found optimal k = 25\n",
    "m6_start = time.time()\n",
    "knn = KNeighborsClassifier(n_neighbors=25)\n",
    "m6_scores = cross_val_score(knn, features, y, cv=10, scoring='accuracy')\n",
    "# use average accuracy as an estimate of out-of-sample accuracy\n",
    "print (\"Knn average accuracy: %f\" %m6_scores.mean())\n",
    "m6_auc = cross_val_score(knn, features, y, cv=10, scoring='roc_auc')\n",
    "print (\"knn average AUC: %f\" %m6_auc.mean())\n",
    "m6_end = time.time()\n",
    "m6_time = m6_end - m6_start \n",
    "print (\"Computation time (in second): %f\" % m6_time)"
   ]
  },
  {
   "cell_type": "markdown",
   "metadata": {},
   "source": [
    "# Model 7: SVM Gaussian Kernel\n",
    "\n",
    "Parameter tuning: Gamma"
   ]
  },
  {
   "cell_type": "code",
   "execution_count": null,
   "metadata": {
    "collapsed": true
   },
   "outputs": [],
   "source": [
    "#parameter tuning hasn't been computed, it should take a LONG time\n",
    "tune7_start = time.time()\n",
    "gamma_range = [.1,1,5,10]\n",
    "tune7_scores = []\n",
    "for g in gamma_range:\n",
    "    svm_rbf = svm.SVC(kernel='rbf', gamma=g)\n",
    "    scores = cross_val_score(svm_rbf, features, y, cv=10, scoring='accuracy')\n",
    "    tune7_scores.append(scores.mean())\n",
    "tune7_end = time.time()\n",
    "print (\"Computation time: %f\"\n",
    "      % tune7_end - tune7_start)"
   ]
  },
  {
   "cell_type": "code",
   "execution_count": null,
   "metadata": {
    "collapsed": true
   },
   "outputs": [],
   "source": [
    "%matplotlib inline\n",
    "# plot the value of K for KNN (x-axis) versus the cross-validated accuracy (y-axis)\n",
    "plt.plot(gamma_range, tune7_scores)\n",
    "plt.xlabel('Value of gamma for SVM Gaussian')\n",
    "plt.ylabel('Cross-Validated Accuracy')"
   ]
  },
  {
   "cell_type": "markdown",
   "metadata": {},
   "source": [
    "Average accuracy and AUC"
   ]
  },
  {
   "cell_type": "code",
   "execution_count": null,
   "metadata": {
    "collapsed": true
   },
   "outputs": [],
   "source": [
    "#10-fold cross-validation for SVM Gaussian\n",
    "#I used the default parameter\n",
    "m7_start = time.time()\n",
    "svm_rbf = svm.SVC(kernel='rbf')\n",
    "m7_scores = cross_val_score(svm_rbf, features, y, cv=10, scoring='accuracy')\n",
    "# use average accuracy as an estimate of out-of-sample accuracy\n",
    "print (\"SVM Gaussian average accuracy: %f\" %m7_scores.mean())\n",
    "m7_auc = cross_val_score(svm_rbf, features, y, cv=10, scoring='roc_auc')\n",
    "print (\"SVM Gaussian average AUC: %f\" %m7_auc.mean())\n",
    "m7_end = time.time()\n",
    "m7_time = m7_end - m7_start \n",
    "print (\"Computation time (in second): %f\" % m7_time)"
   ]
  },
  {
   "cell_type": "markdown",
   "metadata": {
    "collapsed": true
   },
   "source": [
    "# Model 8: Ensemble Voting Classifier\n",
    "Average accuracy and AUC"
   ]
  },
  {
   "cell_type": "code",
   "execution_count": 62,
   "metadata": {
    "collapsed": false
   },
   "outputs": [
    {
     "name": "stdout",
     "output_type": "stream",
     "text": [
      "Voting Classifier average scores: 0.864231\n",
      "Voting Classifier AUC: 0.637923\n",
      "Computation time (in second): 11.937000\n"
     ]
    }
   ],
   "source": [
    "m8_start = time.time()\n",
    "clf1 = DecisionTreeClassifier(max_depth = 5)\n",
    "clf2 = RandomForestClassifier(n_estimators=14, max_depth=8)\n",
    "clf3 = BaggingClassifier(n_estimators=20, max_samples=1900)\n",
    "eclf = VotingClassifier(estimators=[('treeclf', clf1), ('rf', clf2), ('bag', clf3)], voting='soft')\n",
    "m8_scores = cross_val_score(eclf, features, y, cv=10, scoring='accuracy').mean()\n",
    "# use average accuracy as an estimate of out-of-sample accuracy\n",
    "print (\"Voting Classifier average scores: %f\" % m8_scores.mean())\n",
    "m8_auc = cross_val_score(eclf, features, y, cv=10, scoring='roc_auc')\n",
    "print (\"Voting Classifier AUC: %f\" % m8_auc.mean())\n",
    "m8_end = time.time()\n",
    "m8_time = m8_end - m8_start\n",
    "print (\"Computation time (in second): %f\" % m8_time)"
   ]
  },
  {
   "cell_type": "markdown",
   "metadata": {},
   "source": [
    "# Compare the ROC Curves"
   ]
  },
  {
   "cell_type": "code",
   "execution_count": 71,
   "metadata": {
    "collapsed": false
   },
   "outputs": [
    {
     "name": "stdout",
     "output_type": "stream",
     "text": [
      "Gaussian Naive Bayes AUC:  0.700549029442\n",
      "Computation time: 0.022000\n",
      "Logistic Regression AUC:  0.745810191296\n",
      "Computation time: 0.459000\n",
      "Decision Tree AUC:  0.806771773754\n",
      "Computation time: 0.047000\n",
      "Bagging 1 AUC:  0.811766318216\n",
      "Computation time: 0.228000\n",
      "Bagging 2 AUC:  0.702751834644\n",
      "Computation time: 0.244000\n"
     ]
    }
   ],
   "source": [
    "start1 = time.time()\n",
    "gnb = GaussianNB()\n",
    "gnb.fit(X_train,y_train)\n",
    "gnb_y_pred_prob = gnb.predict_proba(X_test)[:, 1]\n",
    "gnb_fpr, gnb_tpr, gnb_thresholds = metrics.roc_curve(y_test, gnb_y_pred_prob)\n",
    "print 'Gaussian Naive Bayes AUC: ', metrics.roc_auc_score(y_test, gnb_y_pred_prob)\n",
    "end1 = time.time()\n",
    "run1 = end1 - start1\n",
    "print (\"Computation time: %f\" %run1 )\n",
    "\n",
    "start2 = time.time()\n",
    "logreg = LogisticRegression(C=1e9)\n",
    "logreg.fit(X_train,y_train)\n",
    "lr_y_pred_prob = logreg.predict_proba(X_test)[:, 1]\n",
    "lr_fpr, lr_tpr, lr_thresholds = metrics.roc_curve(y_test, lr_y_pred_prob)\n",
    "print 'Logistic Regression AUC: ', metrics.roc_auc_score(y_test, lr_y_pred_prob)\n",
    "end2 = time.time()\n",
    "run2 = end2 - start2\n",
    "print ('Computation time: %f' %run2)\n",
    "\n",
    "start3 = time.time()\n",
    "treeclf = DecisionTreeClassifier(max_depth = 5)\n",
    "treeclf.fit(X_train,y_train)\n",
    "ct_y_pred_prob = treeclf.predict_proba(X_test)[:, 1]\n",
    "ct_fpr, ct_tpr, ct_thresholds = metrics.roc_curve(y_test, ct_y_pred_prob)\n",
    "print 'Decision Tree AUC: ', metrics.roc_auc_score(y_test, ct_y_pred_prob)\n",
    "end3 = time.time()\n",
    "run3 = end3 - start3\n",
    "print ('Computation time: %f' %run3)\n",
    "\n",
    "start4a = time.time()\n",
    "bag = BaggingClassifier(n_estimators=20, max_samples=1900)\n",
    "bag.fit(X_train,y_train)\n",
    "bag1_y_pred_prob = bag.predict_proba(X_test)[:, 1]\n",
    "bag1_fpr, bag1_tpr, bag1_thresholds = metrics.roc_curve(y_test, bag1_y_pred_prob)\n",
    "print 'Bagging 1 AUC: ', metrics.roc_auc_score(y_test, bag1_y_pred_prob)\n",
    "end4a = time.time()\n",
    "run4a = end4a - start4a\n",
    "print ('Computation time: %f' %run4a)\n",
    "\n",
    "start4b = time.time()\n",
    "gnb = GaussianNB()\n",
    "bag2 = BaggingClassifier(base_estimator=gnb)\n",
    "bag2.fit(X_train,y_train)\n",
    "bag2_y_pred_prob = bag2.predict_proba(X_test)[:, 1]\n",
    "bag2_fpr, bag2_tpr, bag2_thresholds = metrics.roc_curve(y_test, bag2_y_pred_prob)\n",
    "print 'Bagging 2 AUC: ', metrics.roc_auc_score(y_test, bag2_y_pred_prob)\n",
    "end4b = time.time()\n",
    "run4b = end4b - start4b\n",
    "print ('Computation time: %f' %run4b)"
   ]
  },
  {
   "cell_type": "code",
   "execution_count": 73,
   "metadata": {
    "collapsed": false
   },
   "outputs": [
    {
     "name": "stdout",
     "output_type": "stream",
     "text": [
      "Random Forest AUC:  0.863186033824\n",
      "Computation time: 0.265000\n",
      "Knn AUC:  0.69026934516\n",
      "Computation time: 0.320000\n",
      "SVM Gaussian Kernel AUC:  0.673407247065\n",
      "Computation time: 781.144000\n",
      "Voting Classifier AUC:  0.848643287049\n",
      "Computation time: 0.752000\n"
     ]
    }
   ],
   "source": [
    "start5 = time.time()\n",
    "rfc = RandomForestClassifier(n_estimators=14, max_depth=8)\n",
    "rfc.fit(X_train,y_train)\n",
    "rf_y_pred_prob = rfc.predict_proba(X_test)[:, 1]\n",
    "rf_fpr, rf_tpr, rf_thresholds = metrics.roc_curve(y_test, rf_y_pred_prob)\n",
    "print 'Random Forest AUC: ', metrics.roc_auc_score(y_test, rf_y_pred_prob)\n",
    "end5 = time.time()\n",
    "run5 = end5 - start5\n",
    "print ('Computation time: %f' %run5)\n",
    "\n",
    "start6 = time.time()\n",
    "knn = KNeighborsClassifier(n_neighbors=25 )\n",
    "knn.fit(X_train,y_train)\n",
    "knn_y_pred_prob = knn.predict_proba(X_test)[:, 1]\n",
    "knn_fpr, knn_tpr, knn_thresholds = metrics.roc_curve(y_test, knn_y_pred_prob)\n",
    "print 'Knn AUC: ', metrics.roc_auc_score(y_test, knn_y_pred_prob)\n",
    "end6 = time.time()\n",
    "run6 = end6 - start6\n",
    "print ('Computation time: %f' %run6)\n",
    "\n",
    "start7 = time.time()\n",
    "svm_rbf = svm.SVC(kernel='rbf',probability=True)\n",
    "svm_rbf.fit(X_train,y_train)\n",
    "svm2_y_pred_prob = svm_rbf.predict_proba(X_test)[:, 1]\n",
    "svm2_fpr, svm2_tpr, svm2_thresholds = metrics.roc_curve(y_test, svm2_y_pred_prob)\n",
    "print 'SVM Gaussian Kernel AUC: ', metrics.roc_auc_score(y_test, svm2_y_pred_prob)\n",
    "end7 = time.time()\n",
    "run7 = end7 - start7\n",
    "print ('Computation time: %f' %run7)\n",
    "\n",
    "start8 = time.time()\n",
    "clf1 = DecisionTreeClassifier(max_depth = 5)\n",
    "clf2 = RandomForestClassifier(n_estimators=14, max_depth=8)\n",
    "clf3 = BaggingClassifier(n_estimators=20, max_samples=1900)\n",
    "eclf = VotingClassifier(estimators=[('treeclf', clf1), ('rf', clf2), ('bag', clf3)], voting='soft')\n",
    "eclf.fit(X_train,y_train)\n",
    "vc_y_pred_prob = eclf.predict_proba(X_test)[:, 1]\n",
    "vc_fpr, vc_tpr, vc_thresholds = metrics.roc_curve(y_test, vc_y_pred_prob)\n",
    "print 'Voting Classifier AUC: ', metrics.roc_auc_score(y_test, vc_y_pred_prob)\n",
    "end8 = time.time()\n",
    "run8 = end8 - start8\n",
    "print ('Computation time: %f' %run8)"
   ]
  },
  {
   "cell_type": "code",
   "execution_count": 74,
   "metadata": {
    "collapsed": false
   },
   "outputs": [
    {
     "data": {
      "text/plain": [
       "<matplotlib.legend.Legend at 0xf8156a0>"
      ]
     },
     "execution_count": 74,
     "metadata": {},
     "output_type": "execute_result"
    },
    {
     "data": {
      "image/png": "[encoded data removed]",
      "text/plain": [
       "<matplotlib.figure.Figure at 0x1123d5c0>"
      ]
     },
     "metadata": {},
     "output_type": "display_data"
    }
   ],
   "source": [
    "%matplotlib inline\n",
    "plt.plot(gnb_fpr, gnb_tpr, 'blue', label ='Naive Bayes')\n",
    "plt.plot(lr_fpr, lr_tpr, 'cyan', label ='Logistic Regression')\n",
    "plt.plot(knn_fpr, knn_tpr, 'deeppink', label ='k-Nearest Neighbors')\n",
    "plt.plot(ct_fpr, ct_tpr, 'green', label = 'Decision Tree')\n",
    "plt.plot(svm2_fpr, svm2_tpr, 'red', label ='SVM Gaussian Kernel')\n",
    "plt.plot(bag1_fpr, bag1_tpr, 'yellow', label ='Bagging Tree clf')\n",
    "plt.plot(bag2_fpr, bag2_tpr, 'orange', label ='Bagging GNB')\n",
    "plt.plot(rf_fpr, rf_tpr, 'olive', label ='Random Forest')\n",
    "plt.plot(vc_fpr, vc_tpr, 'black' , label ='Voting Classifier')\n",
    "plt.xlim([0.0, 1.0])\n",
    "plt.ylim([0.0, 1.0])\n",
    "plt.xlabel('False Positive Rate (1 - Specificity)')\n",
    "plt.ylabel('True Positive Rate (Sensitivity)')\n",
    "plt.legend(bbox_to_anchor=(1, 1), loc=2, borderaxespad=0.)"
   ]
  },
  {
   "cell_type": "markdown",
   "metadata": {},
   "source": [
    "Random Forest has the greatest AUC!"
   ]
  },
  {
   "cell_type": "markdown",
   "metadata": {},
   "source": [
    "# Overview of the Model Performance"
   ]
  },
  {
   "cell_type": "code",
   "execution_count": 75,
   "metadata": {
    "collapsed": false
   },
   "outputs": [
    {
     "name": "stdout",
     "output_type": "stream",
     "text": [
      "       Model        CV Accuracy  CV AUC  CV Time      AUC        Time\n",
      "------------------- ----------- -------- ------- -------------- -----\n",
      "               Null    0.927886      0.5                    0.5      \n",
      "        Gaussian NB    0.869374 0.738319   0.956 0.705189767546 0.031\n",
      "Logistic Regression    0.927863 0.759281  20.033 0.749813865133 0.787\n",
      "      Decision Tree    0.865658 0.676056   1.807 0.804150504211 0.069\n",
      "     Bagging (Tree)    0.863355 0.627638   5.924 0.819530195204 0.294\n",
      "      Bagging (GNB)    0.867808 0.738419   5.925 0.705150890245 0.273\n",
      "      Rondom Forest    0.823383 0.541847   6.726 0.858356552084 0.364\n",
      "                Knn    0.927356 0.652422    5.12 0.665510001708 0.441\n",
      "  Voting Classifier    0.864092 0.642437  14.516  0.84666811739 0.865\n"
     ]
    }
   ],
   "source": [
    "arr = np.array([['Null', 0.927886 , 0.5, '', 0.5, ''],\n",
    "             ['Gaussian NB', 0.869374, 0.738319, 0.956000, 0.705189767546, 0.031000],\n",
    "             ['Logistic Regression', 0.927863, 0.759281, 20.033000, 0.749813865133, 0.787000],\n",
    "             ['Decision Tree', 0.865658, 0.676056, 1.807000, 0.804150504211, 0.069000],\n",
    "             ['Bagging (Tree)', 0.863355, 0.627638, 5.924000, 0.819530195204, 0.294000],\n",
    "             ['Bagging (GNB)', 0.867808, 0.738419, 5.925000, 0.705150890245, 0.273000],\n",
    "             ['Rondom Forest', 0.823383, 0.541847, 6.726000, 0.858356552084, 0.364000],\n",
    "             ['Knn', 0.927356, 0.652422, 5.120000,0.665510001708, 0.441000],\n",
    "             #['SVM Gaussian', 0.930431, 0.633914, 69664.545, 0.631741, 9757.358],\n",
    "            ['Voting Classifier', 0.864092, 0.642437, 14.516000, 0.84666811739, 0.865000]])\n",
    "t = Table(arr, names=('Model', 'CV Accuracy', 'CV AUC', 'CV Time', 'AUC', 'Time'))\n",
    "print t"
   ]
  },
  {
   "cell_type": "code",
   "execution_count": 219,
   "metadata": {
    "collapsed": false
   },
   "outputs": [
    {
     "name": "stdout",
     "output_type": "stream",
     "text": [
      "(300L, 2L)\n"
     ]
    }
   ],
   "source": [
    "sel = VarianceThreshold(threshold=(.8 * (1 - .8)))\n",
    "sel.fit_transform(features)\n",
    "print features.shape"
   ]
  },
  {
   "cell_type": "markdown",
   "metadata": {
    "collapsed": true
   },
   "source": [
    "# Model Evaluation With feature selection\n",
    "Feature Importances\n",
    "Since Gaussian NB,Logistic Regression,Knn  had the best predictability, I used these models to compute the featue importances."
   ]
  },
  {
   "cell_type": "code",
   "execution_count": null,
   "metadata": {
    "collapsed": true
   },
   "outputs": [],
   "source": [
    "# compute feature importances\n",
    "rfc = RandomForestClassifier(n_estimators=14, max_depth=8)\n",
    "rfc.fit(X_train,y_train)\n",
    "pd.DataFrame({'feature':feature_cols, 'importance':rfc.feature_importances_}).sort('importance')"
   ]
  },
  {
   "cell_type": "code",
   "execution_count": 64,
   "metadata": {
    "collapsed": true
   },
   "outputs": [],
   "source": [
    "from sklearn.cross_validation import StratifiedShuffleSplit\n",
    "\n",
    "sss = StratifiedShuffleSplit(y, n_iter=2, test_size=0.3)"
   ]
  },
  {
   "cell_type": "code",
   "execution_count": 65,
   "metadata": {
    "collapsed": true
   },
   "outputs": [],
   "source": [
    "train_index, test_index = next(iter(sss))\n",
    "\n",
    "X_train = features.iloc[train_index]\n",
    "y_train = y.iloc[train_index]\n",
    "\n",
    "X_test = features.iloc[test_index]\n",
    "y_test = y.iloc[test_index]"
   ]
  },
  {
   "cell_type": "code",
   "execution_count": 66,
   "metadata": {
    "collapsed": false
   },
   "outputs": [
    {
     "name": "stdout",
     "output_type": "stream",
     "text": [
      "Shape of training and test dataset (30401, 11) (13030, 11) \n"
     ]
    }
   ],
   "source": [
    "print 'Shape of training and test dataset %s %s ' %(X_train.shape, X_test.shape)"
   ]
  },
  {
   "cell_type": "code",
   "execution_count": 67,
   "metadata": {
    "collapsed": true
   },
   "outputs": [],
   "source": [
    "## Take a sample from the training data to do feature selection\n",
    "sss = StratifiedShuffleSplit(y_train, n_iter=2, test_size=.2)"
   ]
  },
  {
   "cell_type": "code",
   "execution_count": 68,
   "metadata": {
    "collapsed": true
   },
   "outputs": [],
   "source": [
    "train_index, test_index = next(iter(sss))\n",
    "\n",
    "X_train_features = X_train.iloc[test_index]\n",
    "y_train_features = y_train.iloc[test_index]\n",
    "\n",
    "X_train_rest = X_train.iloc[train_index]\n",
    "y_train_rest = y_train.iloc[train_index]"
   ]
  },
  {
   "cell_type": "code",
   "execution_count": 69,
   "metadata": {
    "collapsed": false
   },
   "outputs": [
    {
     "name": "stdout",
     "output_type": "stream",
     "text": [
      "Shape of the training data used for feature selection (6081, 11) and rest of the dataset (24320, 11) \n"
     ]
    }
   ],
   "source": [
    "print 'Shape of the training data used for feature selection %s and rest of the dataset %s ' %(X_train_features.shape, X_train_rest.shape)"
   ]
  },
  {
   "cell_type": "code",
   "execution_count": 70,
   "metadata": {
    "collapsed": false
   },
   "outputs": [
    {
     "data": {
      "text/plain": [
       "RFECV(cv=sklearn.cross_validation.StratifiedKFold(labels=[0 0 ..., 0 0], n_folds=5, shuffle=False, random_state=None),\n",
       "   estimator=LogisticRegression(C=1.0, class_weight=None, dual=False, fit_intercept=True,\n",
       "          intercept_scaling=1, max_iter=100, multi_class='ovr', n_jobs=1,\n",
       "          penalty='l2', random_state=None, solver='liblinear', tol=0.0001,\n",
       "          verbose=0, warm_start=False),\n",
       "   estimator_params=None, scoring='roc_auc', step=1, verbose=0)"
      ]
     },
     "execution_count": 70,
     "metadata": {},
     "output_type": "execute_result"
    }
   ],
   "source": [
    "logreg = LogisticRegression()\n",
    "rfecv = RFECV(estimator=logreg, step=1, cv=StratifiedKFold(y_train_features, 5), scoring='roc_auc')\n",
    "\n",
    "rfecv.fit(X_train_features, y_train_features)"
   ]
  },
  {
   "cell_type": "code",
   "execution_count": 76,
   "metadata": {
    "collapsed": false
   },
   "outputs": [
    {
     "name": "stdout",
     "output_type": "stream",
     "text": [
      "Optimal number of features : 11\n"
     ]
    }
   ],
   "source": [
    "print(\"Optimal number of features : %d\" % rfecv.n_features_)"
   ]
  },
  {
   "cell_type": "code",
   "execution_count": 77,
   "metadata": {
    "collapsed": false
   },
   "outputs": [
    {
     "data": {
      "image/png": "[encoded data removed]",
      "text/plain": [
       "<matplotlib.figure.Figure at 0xc1df518>"
      ]
     },
     "metadata": {},
     "output_type": "display_data"
    }
   ],
   "source": [
    "# Plot number of features VS. cross-validation scores\n",
    "plt.figure()\n",
    "plt.xlabel(\"Number of features selected\")\n",
    "plt.ylabel(\"Cross validation score (nb of correct classifications)\")\n",
    "plt.plot(range(1, len(rfecv.grid_scores_) + 1), rfecv.grid_scores_)\n",
    "plt.show()"
   ]
  },
  {
   "cell_type": "code",
   "execution_count": 78,
   "metadata": {
    "collapsed": false
   },
   "outputs": [
    {
     "data": {
      "text/plain": [
       "array([ True,  True,  True,  True,  True,  True,  True,  True,  True,\n",
       "        True,  True], dtype=bool)"
      ]
     },
     "execution_count": 78,
     "metadata": {},
     "output_type": "execute_result"
    }
   ],
   "source": [
    "rfecv.support_"
   ]
  },
  {
   "cell_type": "code",
   "execution_count": 79,
   "metadata": {
    "collapsed": true
   },
   "outputs": [],
   "source": [
    "features_cols_np = np.array(features_cols)"
   ]
  },
  {
   "cell_type": "code",
   "execution_count": 80,
   "metadata": {
    "collapsed": true
   },
   "outputs": [],
   "source": [
    "features_to_consider = features_cols_np[rfecv.support_]"
   ]
  },
  {
   "cell_type": "code",
   "execution_count": 81,
   "metadata": {
    "collapsed": false
   },
   "outputs": [
    {
     "name": "stdout",
     "output_type": "stream",
     "text": [
      "Selected features are ['vehicle_model_id' 'travel_type_id' 'from_area_id' 'to_area_id'\n",
      " 'from_month' 'from_weekday' 'days_before_booking' 'online_booking'\n",
      " 'mobile_site_booking' 'booking_month' 'booking_weekday'] \n"
     ]
    }
   ],
   "source": [
    "print 'Selected features are %s ' %(features_to_consider)"
   ]
  },
  {
   "cell_type": "markdown",
   "metadata": {},
   "source": [
    "# Fitting-Model"
   ]
  },
  {
   "cell_type": "code",
   "execution_count": 82,
   "metadata": {
    "collapsed": true
   },
   "outputs": [],
   "source": [
    "Xt = X_train_rest[features_cols]\n",
    "yt = y_train_rest"
   ]
  },
  {
   "cell_type": "code",
   "execution_count": 83,
   "metadata": {
    "collapsed": true
   },
   "outputs": [],
   "source": [
    "Xtr, Xv, ytr, yv = train_test_split(Xt, yt, test_size=0.3)"
   ]
  },
  {
   "cell_type": "code",
   "execution_count": 84,
   "metadata": {
    "collapsed": true
   },
   "outputs": [],
   "source": [
    "logreg = LogisticRegression(C=13., penalty='l1', class_weight='auto')\n",
    "etr = ExtraTreesClassifier(n_estimators=75, class_weight='auto')\n",
    "knn = KNeighborsClassifier(weights='distance', n_neighbors=10)\n",
    "rf = RandomForestClassifier(n_estimators=50)\n",
    "gbc = GradientBoostingClassifier(subsample=0.8, n_estimators=200, max_depth=6)"
   ]
  },
  {
   "cell_type": "code",
   "execution_count": 90,
   "metadata": {
    "collapsed": true
   },
   "outputs": [],
   "source": [
    "sss = StratifiedShuffleSplit(ytr, 5, test_size=.2)\n",
    "\n",
    "cv_scores_gbc = cross_val_score(gbc, Xtr, ytr, scoring='roc_auc', cv=sss)"
   ]
  },
  {
   "cell_type": "code",
   "execution_count": 91,
   "metadata": {
    "collapsed": false
   },
   "outputs": [
    {
     "name": "stdout",
     "output_type": "stream",
     "text": [
      "cross validation scores are [ 0.86787432  0.87559933  0.84944867  0.86144698  0.85467736] \n"
     ]
    }
   ],
   "source": [
    "print 'cross validation scores are %s ' %(cv_scores_gbc)"
   ]
  },
  {
   "cell_type": "code",
   "execution_count": 92,
   "metadata": {
    "collapsed": false
   },
   "outputs": [
    {
     "name": "stdout",
     "output_type": "stream",
     "text": [
      "Mean cross validation score 0.861809333214 \n"
     ]
    }
   ],
   "source": [
    "print 'Mean cross validation score %s ' %(cv_scores_gbc.mean())"
   ]
  },
  {
   "cell_type": "code",
   "execution_count": 93,
   "metadata": {
    "collapsed": false
   },
   "outputs": [
    {
     "name": "stdout",
     "output_type": "stream",
     "text": [
      "Standard deviation in cv scores 0.00928148937303 \n"
     ]
    }
   ],
   "source": [
    "print 'Standard deviation in cv scores %s ' %(cv_scores_gbc.std())"
   ]
  },
  {
   "cell_type": "code",
   "execution_count": 95,
   "metadata": {
    "collapsed": true
   },
   "outputs": [],
   "source": [
    "sss = StratifiedShuffleSplit(ytr, 5, test_size=.2)\n",
    "\n",
    "cv_scores_rf = cross_val_score(rf, Xtr, ytr, scoring='roc_auc', cv=sss)"
   ]
  },
  {
   "cell_type": "code",
   "execution_count": 96,
   "metadata": {
    "collapsed": false
   },
   "outputs": [
    {
     "name": "stdout",
     "output_type": "stream",
     "text": [
      "cross validation scores are [ 0.83712644  0.84151515  0.82965848  0.83463996  0.82959225] \n"
     ]
    }
   ],
   "source": [
    "print 'cross validation scores are %s ' %(cv_scores_rf)"
   ]
  },
  {
   "cell_type": "code",
   "execution_count": 98,
   "metadata": {
    "collapsed": false
   },
   "outputs": [
    {
     "name": "stdout",
     "output_type": "stream",
     "text": [
      "Mean cross validation score 0.834506454879 \n"
     ]
    }
   ],
   "source": [
    "print 'Mean cross validation score %s ' %(cv_scores_rf.mean())"
   ]
  },
  {
   "cell_type": "code",
   "execution_count": 99,
   "metadata": {
    "collapsed": false
   },
   "outputs": [
    {
     "name": "stdout",
     "output_type": "stream",
     "text": [
      "Standard deviation in cv scores 0.00455315914431 \n"
     ]
    }
   ],
   "source": [
    "print 'Standard deviation in cv scores %s ' %(cv_scores_rf.std())"
   ]
  },
  {
   "cell_type": "code",
   "execution_count": 100,
   "metadata": {
    "collapsed": true
   },
   "outputs": [],
   "source": [
    "sss = StratifiedShuffleSplit(ytr, 5, test_size=.2)\n",
    "\n",
    "cv_scores_knn = cross_val_score(knn, Xtr, ytr, scoring='roc_auc', cv=sss)"
   ]
  },
  {
   "cell_type": "code",
   "execution_count": 101,
   "metadata": {
    "collapsed": false
   },
   "outputs": [
    {
     "name": "stdout",
     "output_type": "stream",
     "text": [
      "cross validation scores are [ 0.65433678  0.63483444  0.6619949   0.62062047  0.62574948] \n"
     ]
    }
   ],
   "source": [
    "print 'cross validation scores are %s ' %(cv_scores_knn)"
   ]
  },
  {
   "cell_type": "code",
   "execution_count": 102,
   "metadata": {
    "collapsed": false
   },
   "outputs": [
    {
     "name": "stdout",
     "output_type": "stream",
     "text": [
      "Mean cross validation score 0.639507215511 \n"
     ]
    }
   ],
   "source": [
    "print 'Mean cross validation score %s ' %(cv_scores_knn.mean())"
   ]
  },
  {
   "cell_type": "code",
   "execution_count": 103,
   "metadata": {
    "collapsed": false
   },
   "outputs": [
    {
     "name": "stdout",
     "output_type": "stream",
     "text": [
      "Standard deviation in cv scores 0.016083726554 \n"
     ]
    }
   ],
   "source": [
    "print 'Standard deviation in cv scores %s ' %(cv_scores_knn.std())"
   ]
  },
  {
   "cell_type": "code",
   "execution_count": 104,
   "metadata": {
    "collapsed": true
   },
   "outputs": [],
   "source": [
    "sss = StratifiedShuffleSplit(ytr, 5, test_size=.2)\n",
    "\n",
    "cv_scores_etr = cross_val_score(etr, Xtr, ytr, scoring='roc_auc', cv=sss)"
   ]
  },
  {
   "cell_type": "code",
   "execution_count": 105,
   "metadata": {
    "collapsed": false
   },
   "outputs": [
    {
     "name": "stdout",
     "output_type": "stream",
     "text": [
      "cross validation scores are [ 0.83519076  0.8059707   0.81012466  0.79457433  0.82175446] \n"
     ]
    }
   ],
   "source": [
    "print 'cross validation scores are %s ' %(cv_scores_etr)"
   ]
  },
  {
   "cell_type": "code",
   "execution_count": 106,
   "metadata": {
    "collapsed": false
   },
   "outputs": [
    {
     "name": "stdout",
     "output_type": "stream",
     "text": [
      "Mean cross validation score 0.813522984195 \n"
     ]
    }
   ],
   "source": [
    "print 'Mean cross validation score %s ' %(cv_scores_etr.mean())"
   ]
  },
  {
   "cell_type": "code",
   "execution_count": 107,
   "metadata": {
    "collapsed": false
   },
   "outputs": [
    {
     "name": "stdout",
     "output_type": "stream",
     "text": [
      "Standard deviation in cv scores 0.0138916286244 \n"
     ]
    }
   ],
   "source": [
    "print 'Standard deviation in cv scores %s ' %(cv_scores_etr.std())"
   ]
  },
  {
   "cell_type": "code",
   "execution_count": 108,
   "metadata": {
    "collapsed": true
   },
   "outputs": [],
   "source": [
    "sss = StratifiedShuffleSplit(ytr, 5, test_size=.2)\n",
    "\n",
    "cv_scores_logreg = cross_val_score(logreg, Xtr, ytr, scoring='roc_auc', cv=sss)"
   ]
  },
  {
   "cell_type": "code",
   "execution_count": 109,
   "metadata": {
    "collapsed": false
   },
   "outputs": [
    {
     "name": "stdout",
     "output_type": "stream",
     "text": [
      "cross validation scores are [ 0.73625486  0.7505731   0.74417068  0.74280678  0.78367501] \n"
     ]
    }
   ],
   "source": [
    "print 'cross validation scores are %s ' %(cv_scores_logreg)"
   ]
  },
  {
   "cell_type": "code",
   "execution_count": 110,
   "metadata": {
    "collapsed": false
   },
   "outputs": [
    {
     "name": "stdout",
     "output_type": "stream",
     "text": [
      "Mean cross validation score 0.751496084058 \n"
     ]
    }
   ],
   "source": [
    "print 'Mean cross validation score %s ' %(cv_scores_logreg.mean())"
   ]
  },
  {
   "cell_type": "code",
   "execution_count": 111,
   "metadata": {
    "collapsed": false
   },
   "outputs": [
    {
     "name": "stdout",
     "output_type": "stream",
     "text": [
      "Standard deviation in cv scores 0.0167200203236 \n"
     ]
    }
   ],
   "source": [
    "print 'Standard deviation in cv scores %s ' %(cv_scores_logreg.std())"
   ]
  },
  {
   "cell_type": "markdown",
   "metadata": {},
   "source": [
    "# Validation"
   ]
  },
  {
   "cell_type": "code",
   "execution_count": 114,
   "metadata": {
    "collapsed": false
   },
   "outputs": [],
   "source": [
    "C = np.linspace(0.1, 50, 5)\n",
    "val_train, val_test = validation_curve(LogisticRegression(penalty='l1', class_weight='auto'),\n",
    "                                       Xtr, ytr, 'C', C, cv=5, scoring='roc_auc')"
   ]
  },
  {
   "cell_type": "code",
   "execution_count": 115,
   "metadata": {
    "collapsed": false
   },
   "outputs": [
    {
     "data": {
      "image/png": "[encoded data removed]",
      "text/plain": [
       "<matplotlib.figure.Figure at 0xc1efef0>"
      ]
     },
     "metadata": {},
     "output_type": "display_data"
    }
   ],
   "source": [
    "def plot_with_err(x, data, **kwargs):\n",
    "    mu, std = data.mean(1), data.std(1)\n",
    "    lines = plt.plot(x, mu, '-', **kwargs)\n",
    "    plt.fill_between(x, mu - std, mu + std, edgecolor='none',\n",
    "                     facecolor=lines[0].get_color(), alpha=0.2)\n",
    "\n",
    "plot_with_err(C, val_train, label='training scores')\n",
    "plot_with_err(C, val_test, label='validation scores')\n",
    "plt.xlabel('C'); plt.ylabel('ROC AUC score')\n",
    "plt.legend();"
   ]
  },
  {
   "cell_type": "markdown",
   "metadata": {},
   "source": [
    "# Learning-Curves"
   ]
  },
  {
   "cell_type": "code",
   "execution_count": 116,
   "metadata": {
    "collapsed": true
   },
   "outputs": [],
   "source": [
    "def plot_learning_curve(C=13):\n",
    "    train_sizes = np.linspace(0.05, 1, 10)\n",
    "    N_train, val_train, val_test = learning_curve(LogisticRegression(C=C, penalty='l2', class_weight='auto'),\n",
    "                                                  Xtr, ytr, train_sizes, cv=5,\n",
    "                                                  scoring='roc_auc')\n",
    "    plot_with_err(N_train, val_train, label='training scores')\n",
    "    plot_with_err(N_train, val_test, label='validation scores')\n",
    "    plt.xlabel('Training Set Size'); plt.ylabel('ROC AUC Score')\n",
    "    plt.legend()"
   ]
  },
  {
   "cell_type": "code",
   "execution_count": 117,
   "metadata": {
    "collapsed": false
   },
   "outputs": [
    {
     "data": {
      "image/png": "[encoded data removed]",
      "text/plain": [
       "<matplotlib.figure.Figure at 0xc79d2e8>"
      ]
     },
     "metadata": {},
     "output_type": "display_data"
    }
   ],
   "source": [
    "plot_learning_curve()"
   ]
  },
  {
   "cell_type": "markdown",
   "metadata": {},
   "source": [
    "# Performance-on-test-set"
   ]
  },
  {
   "cell_type": "code",
   "execution_count": 118,
   "metadata": {
    "collapsed": false
   },
   "outputs": [
    {
     "data": {
      "text/plain": [
       "KNeighborsClassifier(algorithm='auto', leaf_size=30, metric='minkowski',\n",
       "           metric_params=None, n_jobs=1, n_neighbors=10, p=2,\n",
       "           weights='distance')"
      ]
     },
     "execution_count": 118,
     "metadata": {},
     "output_type": "execute_result"
    }
   ],
   "source": [
    "knn.fit(Xtr, ytr)"
   ]
  },
  {
   "cell_type": "code",
   "execution_count": 119,
   "metadata": {
    "collapsed": false
   },
   "outputs": [
    {
     "data": {
      "text/plain": [
       "LogisticRegression(C=13.0, class_weight='auto', dual=False,\n",
       "          fit_intercept=True, intercept_scaling=1, max_iter=100,\n",
       "          multi_class='ovr', n_jobs=1, penalty='l1', random_state=None,\n",
       "          solver='liblinear', tol=0.0001, verbose=0, warm_start=False)"
      ]
     },
     "execution_count": 119,
     "metadata": {},
     "output_type": "execute_result"
    }
   ],
   "source": [
    "logreg.fit(Xtr, ytr)"
   ]
  },
  {
   "cell_type": "code",
   "execution_count": 120,
   "metadata": {
    "collapsed": false
   },
   "outputs": [
    {
     "data": {
      "text/plain": [
       "GradientBoostingClassifier(init=None, learning_rate=0.1, loss='deviance',\n",
       "              max_depth=6, max_features=None, max_leaf_nodes=None,\n",
       "              min_samples_leaf=1, min_samples_split=2,\n",
       "              min_weight_fraction_leaf=0.0, n_estimators=200,\n",
       "              presort='auto', random_state=None, subsample=0.8, verbose=0,\n",
       "              warm_start=False)"
      ]
     },
     "execution_count": 120,
     "metadata": {},
     "output_type": "execute_result"
    }
   ],
   "source": [
    "gbc.fit(Xtr, ytr)"
   ]
  },
  {
   "cell_type": "code",
   "execution_count": 121,
   "metadata": {
    "collapsed": false
   },
   "outputs": [
    {
     "data": {
      "text/plain": [
       "RandomForestClassifier(bootstrap=True, class_weight=None, criterion='gini',\n",
       "            max_depth=None, max_features='auto', max_leaf_nodes=None,\n",
       "            min_samples_leaf=1, min_samples_split=2,\n",
       "            min_weight_fraction_leaf=0.0, n_estimators=50, n_jobs=1,\n",
       "            oob_score=False, random_state=None, verbose=0,\n",
       "            warm_start=False)"
      ]
     },
     "execution_count": 121,
     "metadata": {},
     "output_type": "execute_result"
    }
   ],
   "source": [
    "rf.fit(Xtr, ytr)"
   ]
  },
  {
   "cell_type": "code",
   "execution_count": 134,
   "metadata": {
    "collapsed": true
   },
   "outputs": [],
   "source": [
    "ytest_pred_knn = knn.predict(Xv)\n",
    "ytest_pred_logreg = logreg.predict_proba(Xv)[:, 1]\n",
    "ytest_pred_gbc = gbc.predict_proba(Xv)[:, 1]\n",
    "ytest_preds_threshold_gbc = [1 if pred > 0.10 else 0 for pred in ytest_pred_gbc]\n",
    "ytest_pred_rf = rf.predict(Xv)"
   ]
  },
  {
   "cell_type": "code",
   "execution_count": 138,
   "metadata": {
    "collapsed": false
   },
   "outputs": [
    {
     "name": "stdout",
     "output_type": "stream",
     "text": [
      "GradientBoost ROC AUC score on the test dataset  0.750358040663\n"
     ]
    }
   ],
   "source": [
    "print 'GradientBoost ROC AUC score on the test dataset ', roc_auc_score(yv, ytest_preds_threshold_gbc)"
   ]
  },
  {
   "cell_type": "code",
   "execution_count": 126,
   "metadata": {
    "collapsed": true
   },
   "outputs": [],
   "source": [
    "ytest_preds_threshold_knn = [1 if pred > 0.10 else 0 for pred in ytest_pred_knn]"
   ]
  },
  {
   "cell_type": "code",
   "execution_count": 140,
   "metadata": {
    "collapsed": false
   },
   "outputs": [
    {
     "name": "stdout",
     "output_type": "stream",
     "text": [
      "KNeighbors ROC AUC score on the test dataset  0.521129266741\n"
     ]
    }
   ],
   "source": [
    "print 'KNeighbors ROC AUC score on the test dataset ', roc_auc_score(yv, ytest_preds_threshold_knn)"
   ]
  },
  {
   "cell_type": "code",
   "execution_count": 129,
   "metadata": {
    "collapsed": true
   },
   "outputs": [],
   "source": [
    "ytest_preds_threshold_logreg = [1 if pred > 0.10 else 0 for pred in ytest_pred_logreg]"
   ]
  },
  {
   "cell_type": "code",
   "execution_count": 141,
   "metadata": {
    "collapsed": false
   },
   "outputs": [
    {
     "name": "stdout",
     "output_type": "stream",
     "text": [
      "LogisticRegression ROC AUC score on the test dataset  0.518375815056\n"
     ]
    }
   ],
   "source": [
    "print 'LogisticRegression ROC AUC score on the test dataset ', roc_auc_score(yv, ytest_preds_threshold_logreg)"
   ]
  },
  {
   "cell_type": "code",
   "execution_count": 136,
   "metadata": {
    "collapsed": false
   },
   "outputs": [],
   "source": [
    "ytest_preds_threshold_rf = [1 if pred > 0.10 else 0 for pred in ytest_pred_rf]"
   ]
  },
  {
   "cell_type": "code",
   "execution_count": 139,
   "metadata": {
    "collapsed": false
   },
   "outputs": [
    {
     "name": "stdout",
     "output_type": "stream",
     "text": [
      "RandomForest ROC AUC score on the test dataset  0.578384403705\n"
     ]
    }
   ],
   "source": [
    "print 'RandomForest ROC AUC score on the test dataset ', roc_auc_score(yv, ytest_preds_threshold_rf)"
   ]
  },
  {
   "cell_type": "markdown",
   "metadata": {},
   "source": [
    "# Model-Training-on-full-dataset"
   ]
  },
  {
   "cell_type": "code",
   "execution_count": 142,
   "metadata": {
    "collapsed": true
   },
   "outputs": [],
   "source": [
    "final_features = features[features_cols]"
   ]
  },
  {
   "cell_type": "code",
   "execution_count": 143,
   "metadata": {
    "collapsed": false
   },
   "outputs": [
    {
     "data": {
      "text/plain": [
       "GradientBoostingClassifier(init=None, learning_rate=0.1, loss='deviance',\n",
       "              max_depth=6, max_features=None, max_leaf_nodes=None,\n",
       "              min_samples_leaf=1, min_samples_split=2,\n",
       "              min_weight_fraction_leaf=0.0, n_estimators=200,\n",
       "              presort='auto', random_state=None, subsample=0.8, verbose=0,\n",
       "              warm_start=False)"
      ]
     },
     "execution_count": 143,
     "metadata": {},
     "output_type": "execute_result"
    }
   ],
   "source": [
    "logreg.fit(final_features, y)\n",
    "knn.fit(final_features, y)\n",
    "gbc.fit(final_features, y)"
   ]
  },
  {
   "cell_type": "code",
   "execution_count": 144,
   "metadata": {
    "collapsed": false
   },
   "outputs": [
    {
     "data": {
      "text/html": [
       "<div>\n",
       "<table border=\"1\" class=\"dataframe\">\n",
       "  <thead>\n",
       "    <tr style=\"text-align: right;\">\n",
       "      <th></th>\n",
       "      <th>user_id</th>\n",
       "      <th>vehicle_model_id</th>\n",
       "      <th>package_id</th>\n",
       "      <th>travel_type_id</th>\n",
       "      <th>from_area_id</th>\n",
       "      <th>to_area_id</th>\n",
       "      <th>from_city_id</th>\n",
       "      <th>to_city_id</th>\n",
       "      <th>from_date</th>\n",
       "      <th>to_date</th>\n",
       "      <th>online_booking</th>\n",
       "      <th>mobile_site_booking</th>\n",
       "      <th>booking_created</th>\n",
       "      <th>from_lat</th>\n",
       "      <th>from_long</th>\n",
       "      <th>to_lat</th>\n",
       "      <th>to_long</th>\n",
       "      <th>Unnamed: 18</th>\n",
       "      <th>Unnamed: 19</th>\n",
       "    </tr>\n",
       "    <tr>\n",
       "      <th>id</th>\n",
       "      <th></th>\n",
       "      <th></th>\n",
       "      <th></th>\n",
       "      <th></th>\n",
       "      <th></th>\n",
       "      <th></th>\n",
       "      <th></th>\n",
       "      <th></th>\n",
       "      <th></th>\n",
       "      <th></th>\n",
       "      <th></th>\n",
       "      <th></th>\n",
       "      <th></th>\n",
       "      <th></th>\n",
       "      <th></th>\n",
       "      <th></th>\n",
       "      <th></th>\n",
       "      <th></th>\n",
       "      <th></th>\n",
       "    </tr>\n",
       "  </thead>\n",
       "  <tbody>\n",
       "    <tr>\n",
       "      <th>132516</th>\n",
       "      <td>22179</td>\n",
       "      <td>12</td>\n",
       "      <td>NaN</td>\n",
       "      <td>2</td>\n",
       "      <td>1096.0</td>\n",
       "      <td>393.0</td>\n",
       "      <td>NaN</td>\n",
       "      <td>NaN</td>\n",
       "      <td>1/1/2013 9:30</td>\n",
       "      <td>NaN</td>\n",
       "      <td>0</td>\n",
       "      <td>0</td>\n",
       "      <td>1/1/2013 7:51</td>\n",
       "      <td>12.965190</td>\n",
       "      <td>77.719320</td>\n",
       "      <td>13.19956</td>\n",
       "      <td>77.70688</td>\n",
       "      <td>NaN</td>\n",
       "      <td>NaN</td>\n",
       "    </tr>\n",
       "    <tr>\n",
       "      <th>132529</th>\n",
       "      <td>22187</td>\n",
       "      <td>65</td>\n",
       "      <td>NaN</td>\n",
       "      <td>2</td>\n",
       "      <td>1061.0</td>\n",
       "      <td>393.0</td>\n",
       "      <td>NaN</td>\n",
       "      <td>NaN</td>\n",
       "      <td>1/2/2013 1:00</td>\n",
       "      <td>NaN</td>\n",
       "      <td>0</td>\n",
       "      <td>0</td>\n",
       "      <td>1/1/2013 12:11</td>\n",
       "      <td>12.924878</td>\n",
       "      <td>77.566255</td>\n",
       "      <td>13.19956</td>\n",
       "      <td>77.70688</td>\n",
       "      <td>NaN</td>\n",
       "      <td>NaN</td>\n",
       "    </tr>\n",
       "    <tr>\n",
       "      <th>132532</th>\n",
       "      <td>23180</td>\n",
       "      <td>12</td>\n",
       "      <td>NaN</td>\n",
       "      <td>2</td>\n",
       "      <td>1192.0</td>\n",
       "      <td>353.0</td>\n",
       "      <td>NaN</td>\n",
       "      <td>NaN</td>\n",
       "      <td>1/2/2013 4:30</td>\n",
       "      <td>NaN</td>\n",
       "      <td>0</td>\n",
       "      <td>0</td>\n",
       "      <td>1/1/2013 12:22</td>\n",
       "      <td>12.976770</td>\n",
       "      <td>77.572700</td>\n",
       "      <td>13.03241</td>\n",
       "      <td>77.59914</td>\n",
       "      <td>NaN</td>\n",
       "      <td>NaN</td>\n",
       "    </tr>\n",
       "    <tr>\n",
       "      <th>132547</th>\n",
       "      <td>30849</td>\n",
       "      <td>12</td>\n",
       "      <td>NaN</td>\n",
       "      <td>2</td>\n",
       "      <td>515.0</td>\n",
       "      <td>849.0</td>\n",
       "      <td>NaN</td>\n",
       "      <td>NaN</td>\n",
       "      <td>1/1/2013 20:15</td>\n",
       "      <td>NaN</td>\n",
       "      <td>0</td>\n",
       "      <td>0</td>\n",
       "      <td>1/1/2013 16:51</td>\n",
       "      <td>12.978960</td>\n",
       "      <td>77.673450</td>\n",
       "      <td>12.95434</td>\n",
       "      <td>77.60072</td>\n",
       "      <td>NaN</td>\n",
       "      <td>NaN</td>\n",
       "    </tr>\n",
       "    <tr>\n",
       "      <th>132548</th>\n",
       "      <td>22198</td>\n",
       "      <td>12</td>\n",
       "      <td>NaN</td>\n",
       "      <td>2</td>\n",
       "      <td>83.0</td>\n",
       "      <td>463.0</td>\n",
       "      <td>NaN</td>\n",
       "      <td>NaN</td>\n",
       "      <td>1/3/2013 0:30</td>\n",
       "      <td>NaN</td>\n",
       "      <td>0</td>\n",
       "      <td>0</td>\n",
       "      <td>1/1/2013 17:04</td>\n",
       "      <td>12.924150</td>\n",
       "      <td>77.672290</td>\n",
       "      <td>12.96037</td>\n",
       "      <td>77.58132</td>\n",
       "      <td>NaN</td>\n",
       "      <td>NaN</td>\n",
       "    </tr>\n",
       "  </tbody>\n",
       "</table>\n",
       "</div>"
      ],
      "text/plain": [
       "        user_id  vehicle_model_id  package_id  travel_type_id  from_area_id  \\\n",
       "id                                                                            \n",
       "132516    22179                12         NaN               2        1096.0   \n",
       "132529    22187                65         NaN               2        1061.0   \n",
       "132532    23180                12         NaN               2        1192.0   \n",
       "132547    30849                12         NaN               2         515.0   \n",
       "132548    22198                12         NaN               2          83.0   \n",
       "\n",
       "        to_area_id  from_city_id  to_city_id       from_date to_date  \\\n",
       "id                                                                     \n",
       "132516       393.0           NaN         NaN   1/1/2013 9:30     NaN   \n",
       "132529       393.0           NaN         NaN   1/2/2013 1:00     NaN   \n",
       "132532       353.0           NaN         NaN   1/2/2013 4:30     NaN   \n",
       "132547       849.0           NaN         NaN  1/1/2013 20:15     NaN   \n",
       "132548       463.0           NaN         NaN   1/3/2013 0:30     NaN   \n",
       "\n",
       "        online_booking  mobile_site_booking booking_created   from_lat  \\\n",
       "id                                                                       \n",
       "132516               0                    0   1/1/2013 7:51  12.965190   \n",
       "132529               0                    0  1/1/2013 12:11  12.924878   \n",
       "132532               0                    0  1/1/2013 12:22  12.976770   \n",
       "132547               0                    0  1/1/2013 16:51  12.978960   \n",
       "132548               0                    0  1/1/2013 17:04  12.924150   \n",
       "\n",
       "        from_long    to_lat   to_long  Unnamed: 18  Unnamed: 19  \n",
       "id                                                               \n",
       "132516  77.719320  13.19956  77.70688          NaN          NaN  \n",
       "132529  77.566255  13.19956  77.70688          NaN          NaN  \n",
       "132532  77.572700  13.03241  77.59914          NaN          NaN  \n",
       "132547  77.673450  12.95434  77.60072          NaN          NaN  \n",
       "132548  77.672290  12.96037  77.58132          NaN          NaN  "
      ]
     },
     "execution_count": 144,
     "metadata": {},
     "output_type": "execute_result"
    }
   ],
   "source": [
    "cars_cancel_test = pd.read_csv('Kaggle_YourCabs_score.csv', index_col='id')\n",
    "cars_cancel_test.head()"
   ]
  },
  {
   "cell_type": "code",
   "execution_count": 145,
   "metadata": {
    "collapsed": true
   },
   "outputs": [],
   "source": [
    "cars_cancel_test['from_date'] = pd.to_datetime(cars_cancel_test['from_date'])\n",
    "cars_cancel_test['to_date'] = pd.to_datetime(cars_cancel_test['to_date'])\n",
    "cars_cancel_test['booking_created'] = pd.to_datetime(cars_cancel_test['booking_created'])"
   ]
  },
  {
   "cell_type": "code",
   "execution_count": 146,
   "metadata": {
    "collapsed": true
   },
   "outputs": [],
   "source": [
    "cars_cancel_test.loc[:, 'difference'] = cars_cancel_test.loc[:, ('from_date')] - cars_cancel_test.loc[:, ('booking_created')]"
   ]
  },
  {
   "cell_type": "code",
   "execution_count": 147,
   "metadata": {
    "collapsed": true
   },
   "outputs": [],
   "source": [
    "cars_cancel_test.loc[:, 'from_month'] = cars_cancel_test.from_date.dt.month\n",
    "cars_cancel_test.loc[:, 'from_weekday'] = cars_cancel_test.from_date.dt.weekday\n",
    "\n",
    "cars_cancel_test.loc[:, 'booking_month'] = cars_cancel_test.booking_created.dt.month\n",
    "cars_cancel_test.loc[:, 'booking_weekday'] = cars_cancel_test.booking_created.dt.weekday"
   ]
  },
  {
   "cell_type": "code",
   "execution_count": 148,
   "metadata": {
    "collapsed": false
   },
   "outputs": [],
   "source": [
    "cars_cancel_test.loc[:, 'days_before_booking'] = (cars_cancel_test.difference / np.timedelta64(1, 's')).astype(int)/ ( 24. * 60 * 60 )"
   ]
  },
  {
   "cell_type": "code",
   "execution_count": 149,
   "metadata": {
    "collapsed": true
   },
   "outputs": [],
   "source": [
    "features_test = cars_cancel_test[features_cols]"
   ]
  },
  {
   "cell_type": "code",
   "execution_count": 150,
   "metadata": {
    "collapsed": false
   },
   "outputs": [
    {
     "name": "stdout",
     "output_type": "stream",
     "text": [
      "<class 'pandas.core.frame.DataFrame'>\n",
      "Int64Index: 10000 entries, 132516 to 185942\n",
      "Data columns (total 11 columns):\n",
      "vehicle_model_id       10000 non-null int64\n",
      "travel_type_id         10000 non-null int64\n",
      "from_area_id           9980 non-null float64\n",
      "to_area_id             7850 non-null float64\n",
      "from_month             10000 non-null int64\n",
      "from_weekday           10000 non-null int64\n",
      "days_before_booking    10000 non-null float64\n",
      "online_booking         10000 non-null int64\n",
      "mobile_site_booking    10000 non-null int64\n",
      "booking_month          10000 non-null int64\n",
      "booking_weekday        10000 non-null int64\n",
      "dtypes: float64(3), int64(8)\n",
      "memory usage: 937.5 KB\n"
     ]
    }
   ],
   "source": [
    "features_test.info()"
   ]
  },
  {
   "cell_type": "code",
   "execution_count": 151,
   "metadata": {
    "collapsed": true
   },
   "outputs": [],
   "source": [
    "features_test.from_area_id.fillna(-9999, inplace=True)\n",
    "features_test.to_area_id.fillna(-9999, inplace=True)"
   ]
  },
  {
   "cell_type": "code",
   "execution_count": 152,
   "metadata": {
    "collapsed": true
   },
   "outputs": [],
   "source": [
    "preds_logreg = logreg.predict(features_test)\n",
    "preds_knn = knn.predict(features_test)\n",
    "preds_gbc = gbc.predict_proba(features_test)[:, 1]"
   ]
  },
  {
   "cell_type": "code",
   "execution_count": 153,
   "metadata": {
    "collapsed": true
   },
   "outputs": [],
   "source": [
    "preds_threshold_gbc = [1 if pred > 0.10 else 0 for pred in preds_gbc]\n",
    "preds_threshold_knn = [1 if pred > 0.10 else 0 for pred in preds_knn]\n",
    "preds_threshold_logreg = [1 if pred > 0.10 else 0 for pred in preds_logreg]"
   ]
  },
  {
   "cell_type": "code",
   "execution_count": 154,
   "metadata": {
    "collapsed": true
   },
   "outputs": [],
   "source": [
    "submission = pd.DataFrame({'id': features_test.index.values, 'Car_Cancellation': preds_threshold_gbc})"
   ]
  },
  {
   "cell_type": "code",
   "execution_count": 155,
   "metadata": {
    "collapsed": false
   },
   "outputs": [],
   "source": [
    "submission.to_csv('GBC_threshold.csv', index=False)"
   ]
  },
  {
   "cell_type": "markdown",
   "metadata": {},
   "source": [
    "# Clustering: K-Means In-Depth"
   ]
  },
  {
   "cell_type": "markdown",
   "metadata": {},
   "source": [
    "Here we'll explore K Means Clustering, which is an unsupervised clustering technique.\n",
    "We'll start with our standard set of initial imports"
   ]
  },
  {
   "cell_type": "code",
   "execution_count": 156,
   "metadata": {
    "collapsed": true
   },
   "outputs": [],
   "source": [
    "%matplotlib inline\n",
    "import numpy as np\n",
    "import matplotlib.pyplot as plt\n",
    "from scipy import stats\n",
    "\n",
    "# use seaborn plotting defaults\n",
    "import seaborn as sns; sns.set()"
   ]
  },
  {
   "cell_type": "markdown",
   "metadata": {},
   "source": [
    "Introducing K-Means\n",
    "K Means is an algorithm for unsupervised clustering: that is, finding clusters in data based on the data attributes alone (not the labels).\n",
    "K Means is a relatively easy-to-understand algorithm. It searches for cluster centers which are the mean of the points within them, such that every point is closest to the cluster center it is assigned to.\n",
    "Let's look at how KMeans operates on the simple clusters we looked at previously. To emphasize that this is unsupervised, we'll not plot the colors of the clusters:"
   ]
  },
  {
   "cell_type": "code",
   "execution_count": 157,
   "metadata": {
    "collapsed": false
   },
   "outputs": [
    {
     "data": {
      "image/png": "[encoded data removed]",
      "text/plain": [
       "<matplotlib.figure.Figure at 0x13d9c748>"
      ]
     },
     "metadata": {},
     "output_type": "display_data"
    }
   ],
   "source": [
    "from sklearn.datasets.samples_generator import make_blobs\n",
    "features, y = make_blobs(n_samples=300, centers=4,\n",
    "                  random_state=0, cluster_std=0.60)\n",
    "plt.scatter(features[:, 0], features[:, 1], s=50);"
   ]
  },
  {
   "cell_type": "markdown",
   "metadata": {},
   "source": [
    "By eye, it is relatively easy to pick out the four clusters. If you were to perform an exhaustive search for the different segmentations of the data, however, the search space would be exponential in the number of points. Fortunately, there is a well-known Expectation Maximization (EM) procedure which scikit-learn implements, so that KMeans can be solved relatively quickly."
   ]
  },
  {
   "cell_type": "code",
   "execution_count": 158,
   "metadata": {
    "collapsed": false
   },
   "outputs": [
    {
     "data": {
      "image/png": "[encoded data removed]",
      "text/plain": [
       "<matplotlib.figure.Figure at 0x14e07ba8>"
      ]
     },
     "metadata": {},
     "output_type": "display_data"
    }
   ],
   "source": [
    "from sklearn.cluster import KMeans\n",
    "est = KMeans(4)  # 4 clusters\n",
    "est.fit(features)\n",
    "y_kmeans = est.predict(features)\n",
    "plt.scatter(features[:, 0], features[:, 1], c=y_kmeans, s=50, cmap='rainbow');"
   ]
  },
  {
   "cell_type": "markdown",
   "metadata": {},
   "source": [
    "The algorithm identifies the four clusters of points in a manner very similar to what we would do by eye!"
   ]
  },
  {
   "cell_type": "code",
   "execution_count": 171,
   "metadata": {
    "collapsed": true
   },
   "outputs": [],
   "source": [
    "from sklearn import cluster"
   ]
  },
  {
   "cell_type": "code",
   "execution_count": 175,
   "metadata": {
    "collapsed": true
   },
   "outputs": [],
   "source": [
    "kmeans = KMeans(n_clusters=5, max_iter=500, verbose=1)"
   ]
  },
  {
   "cell_type": "code",
   "execution_count": 176,
   "metadata": {
    "collapsed": false
   },
   "outputs": [
    {
     "name": "stdout",
     "output_type": "stream",
     "text": [
      "Initialization complete\n",
      "Iteration  0, inertia 268.984\n",
      "Iteration  1, inertia 194.823\n",
      "Iteration  2, inertia 193.499\n",
      "Iteration  3, inertia 193.235\n",
      "Converged at iteration 3\n",
      "Initialization complete\n",
      "Iteration  0, inertia 338.661\n",
      "Iteration  1, inertia 195.995\n",
      "Iteration  2, inertia 194.729\n",
      "Iteration  3, inertia 194.577\n",
      "Iteration  4, inertia 194.247\n",
      "Iteration  5, inertia 193.397\n",
      "Iteration  6, inertia 193.332\n",
      "Converged at iteration 6\n",
      "Initialization complete\n",
      "Iteration  0, inertia 289.954\n",
      "Iteration  1, inertia 192.378\n",
      "Iteration  2, inertia 190.436\n",
      "Iteration  3, inertia 189.231\n",
      "Iteration  4, inertia 188.983\n",
      "Iteration  5, inertia 188.773\n",
      "Converged at iteration 5\n",
      "Initialization complete\n",
      "Iteration  0, inertia 340.425\n",
      "Iteration  1, inertia 200.138\n",
      "Iteration  2, inertia 194.672\n",
      "Iteration  3, inertia 194.465\n",
      "Iteration  4, inertia 194.122\n",
      "Iteration  5, inertia 193.973\n",
      "Converged at iteration 5\n",
      "Initialization complete\n",
      "Iteration  0, inertia 309.548\n",
      "Iteration  1, inertia 199.967\n",
      "Iteration  2, inertia 196.903\n",
      "Converged at iteration 2\n",
      "Initialization complete\n",
      "Iteration  0, inertia 313.207\n",
      "Iteration  1, inertia 197.586\n",
      "Iteration  2, inertia 196.538\n",
      "Iteration  3, inertia 196.304\n",
      "Iteration  4, inertia 196.159\n",
      "Iteration  5, inertia 196.108\n",
      "Iteration  6, inertia 195.759\n",
      "Iteration  7, inertia 195.641\n",
      "Iteration  8, inertia 195.491\n",
      "Iteration  9, inertia 195.287\n",
      "Iteration 10, inertia 195.115\n",
      "Converged at iteration 10\n",
      "Initialization complete\n",
      "Iteration  0, inertia 278.306\n",
      "Iteration  1, inertia 196.878\n",
      "Iteration  2, inertia 196.727\n",
      "Converged at iteration 2\n",
      "Initialization complete\n",
      "Iteration  0, inertia 258.194\n",
      "Iteration  1, inertia 198.894\n",
      "Iteration  2, inertia 197.757\n",
      "Iteration  3, inertia 197.331\n",
      "Iteration  4, inertia 196.966\n",
      "Iteration  5, inertia 196.561\n",
      "Iteration  6, inertia 195.905\n",
      "Iteration  7, inertia 195.216\n",
      "Iteration  8, inertia 194.921\n",
      "Iteration  9, inertia 194.388\n",
      "Iteration 10, inertia 193.511\n",
      "Iteration 11, inertia 193.356\n",
      "Converged at iteration 11\n",
      "Initialization complete\n",
      "Iteration  0, inertia 344.119\n",
      "Iteration  1, inertia 200.168\n",
      "Iteration  2, inertia 197.417\n",
      "Iteration  3, inertia 196.725\n",
      "Iteration  4, inertia 196.261\n",
      "Iteration  5, inertia 196.005\n",
      "Iteration  6, inertia 195.854\n",
      "Iteration  7, inertia 195.196\n",
      "Iteration  8, inertia 195.000\n",
      "Iteration  9, inertia 194.783\n",
      "Iteration 10, inertia 194.543\n",
      "Converged at iteration 10\n",
      "Initialization complete\n",
      "Iteration  0, inertia 333.062\n",
      "Iteration  1, inertia 194.794\n",
      "Iteration  2, inertia 194.224\n",
      "Iteration  3, inertia 194.181\n",
      "Iteration  4, inertia 194.157\n",
      "Converged at iteration 4\n"
     ]
    },
    {
     "data": {
      "text/plain": [
       "KMeans(copy_x=True, init='k-means++', max_iter=500, n_clusters=5, n_init=10,\n",
       "    n_jobs=1, precompute_distances='auto', random_state=None, tol=0.0001,\n",
       "    verbose=1)"
      ]
     },
     "execution_count": 176,
     "metadata": {},
     "output_type": "execute_result"
    }
   ],
   "source": [
    "kmeans.fit(features)"
   ]
  },
  {
   "cell_type": "code",
   "execution_count": 177,
   "metadata": {
    "collapsed": false
   },
   "outputs": [],
   "source": [
    "clusters = kmeans.predict(features)"
   ]
  },
  {
   "cell_type": "code",
   "execution_count": 178,
   "metadata": {
    "collapsed": false
   },
   "outputs": [
    {
     "name": "stdout",
     "output_type": "stream",
     "text": [
      "[2 4 1 0 2 2 3 1 0 0 3 4 1 4 2 1 1 2 3 3 2 2 1 3 3 1 2 1 3 1 0 4 1 4 4 4 4\n",
      " 4 3 2 1 3 1 1 3 3 0 3 4 2 3 2 0 2 2 3 0 3 4 2 4 1 0 3 3 3 4 2 4 3 1 3 0 3\n",
      " 3 0 3 1 2 0 2 1 2 2 0 1 2 1 4 4 1 2 0 3 3 1 2 2 1 3 0 2 0 2 1 2 2 1 4 1 3\n",
      " 3 2 4 2 1 4 2 2 1 3 2 3 2 2 2 2 3 2 3 0 3 3 2 4 3 3 4 1 0 4 3 1 3 1 3 4 1\n",
      " 4 4 4 1 4 1 2 3 0 3 2 1 4 1 1 2 1 3 3 1 2 1 1 0 2 1 3 0 2 2 1 3 2 1 3 3 1\n",
      " 1 1 1 2 4 1 3 1 1 3 3 3 1 3 4 1 3 2 3 1 4 3 0 1 4 1 3 1 1 4 3 3 2 2 1 4 2\n",
      " 2 3 2 3 1 0 0 1 1 0 1 2 3 1 2 3 0 3 2 1 2 4 4 4 4 3 3 4 1 3 2 1 3 3 3 2 2\n",
      " 4 1 1 3 2 0 3 1 0 1 2 2 3 3 1 2 2 2 1 0 4 2 2 1 2 2 2 4 3 0 1 2 2 4 0 0 2\n",
      " 2 1 0 3]\n"
     ]
    }
   ],
   "source": [
    "print clusters"
   ]
  },
  {
   "cell_type": "markdown",
   "metadata": {},
   "source": [
    "The centroids provide an aggregate representation and a characterization of each cluster."
   ]
  },
  {
   "cell_type": "code",
   "execution_count": 179,
   "metadata": {
    "collapsed": false
   },
   "outputs": [
    {
     "name": "stdout",
     "output_type": "stream",
     "text": [
      "[[-0.89247947  8.18394342]\n",
      " [ 0.94973532  4.41906906]\n",
      " [ 1.98258281  0.86771314]\n",
      " [-1.58438467  2.83081263]\n",
      " [-1.73102222  7.43349916]]\n"
     ]
    }
   ],
   "source": [
    "print kmeans.cluster_centers_"
   ]
  },
  {
   "cell_type": "code",
   "execution_count": 180,
   "metadata": {
    "collapsed": true
   },
   "outputs": [],
   "source": [
    "from sklearn.metrics import completeness_score, homogeneity_score"
   ]
  },
  {
   "cell_type": "code",
   "execution_count": 181,
   "metadata": {
    "collapsed": false
   },
   "outputs": [
    {
     "name": "stdout",
     "output_type": "stream",
     "text": [
      "0.890429639086\n"
     ]
    }
   ],
   "source": [
    "print completeness_score(y,clusters)"
   ]
  },
  {
   "cell_type": "code",
   "execution_count": 182,
   "metadata": {
    "collapsed": false
   },
   "outputs": [
    {
     "name": "stdout",
     "output_type": "stream",
     "text": [
      "1.0\n"
     ]
    }
   ],
   "source": [
    "print homogeneity_score(y,clusters)"
   ]
  },
  {
   "cell_type": "markdown",
   "metadata": {},
   "source": [
    "The completeness score approaches is 0.89 where most of the data points that are members of a given class are elements of the same cluster while the homogeneity score is 1 where all the clusters contain almost only data points that are member of a single class."
   ]
  },
  {
   "cell_type": "code",
   "execution_count": 184,
   "metadata": {
    "collapsed": false
   },
   "outputs": [],
   "source": [
    "import kMeans"
   ]
  },
  {
   "cell_type": "code",
   "execution_count": 185,
   "metadata": {
    "collapsed": false
   },
   "outputs": [
    {
     "data": {
      "text/plain": [
       "<module 'kMeans' from 'kMeans.pyc'>"
      ]
     },
     "execution_count": 185,
     "metadata": {},
     "output_type": "execute_result"
    }
   ],
   "source": [
    "reload(kMeans)"
   ]
  },
  {
   "cell_type": "code",
   "execution_count": 186,
   "metadata": {
    "collapsed": true
   },
   "outputs": [],
   "source": [
    "centroids, clusters = kMeans.kMeans(features, 3, kMeans.distEclud, kMeans.randCent)"
   ]
  },
  {
   "cell_type": "code",
   "execution_count": 187,
   "metadata": {
    "collapsed": false
   },
   "outputs": [
    {
     "name": "stdout",
     "output_type": "stream",
     "text": [
      "[[ 1.98726097  0.90144281]\n",
      " [-1.37324398  7.75368871]\n",
      " [-0.33514647  3.62624134]]\n"
     ]
    }
   ],
   "source": [
    "print centroids"
   ]
  },
  {
   "cell_type": "code",
   "execution_count": 188,
   "metadata": {
    "collapsed": false
   },
   "outputs": [
    {
     "name": "stdout",
     "output_type": "stream",
     "text": [
      "[[  0.00000000e+00   2.84844858e+00]\n",
      " [  1.00000000e+00   1.20014351e-01]\n",
      " [  2.00000000e+00   4.39201264e+00]\n",
      " [  1.00000000e+00   1.29509394e-01]\n",
      " [  0.00000000e+00   1.49480423e+00]\n",
      " [  0.00000000e+00   2.51286370e+00]\n",
      " [  2.00000000e+00   6.28770249e+00]\n",
      " [  2.00000000e+00   3.62847734e+00]\n",
      " [  1.00000000e+00   1.82518982e+00]\n",
      " [  1.00000000e+00   1.26063027e+00]\n",
      " [  2.00000000e+00   2.61660090e+00]\n",
      " [  1.00000000e+00   2.04183998e+00]\n",
      " [  2.00000000e+00   3.25969220e+00]\n",
      " [  1.00000000e+00   1.46801924e+00]\n",
      " [  0.00000000e+00   1.14924870e+00]\n",
      " [  2.00000000e+00   7.31479516e-01]\n",
      " [  2.00000000e+00   2.79031528e+00]\n",
      " [  0.00000000e+00   4.94393166e-01]\n",
      " [  2.00000000e+00   7.80084890e-01]\n",
      " [  2.00000000e+00   2.57401475e+00]\n",
      " [  0.00000000e+00   6.81312276e-01]\n",
      " [  0.00000000e+00   1.25451016e-01]\n",
      " [  2.00000000e+00   3.13481023e+00]\n",
      " [  2.00000000e+00   3.36002789e+00]\n",
      " [  2.00000000e+00   3.54890171e+00]\n",
      " [  2.00000000e+00   1.19286095e+00]\n",
      " [  0.00000000e+00   8.52210015e-02]\n",
      " [  2.00000000e+00   2.03849905e+00]\n",
      " [  2.00000000e+00   8.22483634e+00]\n",
      " [  2.00000000e+00   4.32827026e-01]\n",
      " [  1.00000000e+00   7.54011004e-01]\n",
      " [  1.00000000e+00   6.08291952e-01]\n",
      " [  2.00000000e+00   5.18207935e+00]\n",
      " [  1.00000000e+00   1.03307605e+00]\n",
      " [  1.00000000e+00   1.08533021e-01]\n",
      " [  1.00000000e+00   1.19301204e+00]\n",
      " [  1.00000000e+00   4.85847833e-01]\n",
      " [  1.00000000e+00   1.61209443e+00]\n",
      " [  2.00000000e+00   4.80394658e+00]\n",
      " [  0.00000000e+00   1.61423809e-01]\n",
      " [  2.00000000e+00   1.01084196e+00]\n",
      " [  2.00000000e+00   5.19145263e+00]\n",
      " [  2.00000000e+00   3.49789057e+00]\n",
      " [  2.00000000e+00   3.87521364e+00]\n",
      " [  2.00000000e+00   3.22612398e+00]\n",
      " [  2.00000000e+00   1.20788783e+00]\n",
      " [  1.00000000e+00   1.21832914e-01]\n",
      " [  2.00000000e+00   2.25650115e+00]\n",
      " [  1.00000000e+00   4.52448888e-02]\n",
      " [  0.00000000e+00   3.70061497e-01]\n",
      " [  2.00000000e+00   2.62713970e+00]\n",
      " [  0.00000000e+00   2.97389117e-01]\n",
      " [  1.00000000e+00   2.48004886e-01]\n",
      " [  0.00000000e+00   1.05794021e-01]\n",
      " [  0.00000000e+00   1.38485231e+00]\n",
      " [  2.00000000e+00   1.24797226e+00]\n",
      " [  1.00000000e+00   1.77656387e+00]\n",
      " [  2.00000000e+00   3.37418330e+00]\n",
      " [  1.00000000e+00   1.88224798e-01]\n",
      " [  0.00000000e+00   3.54334393e-01]\n",
      " [  1.00000000e+00   9.84954158e-01]\n",
      " [  2.00000000e+00   1.30763030e+00]\n",
      " [  1.00000000e+00   2.36980926e+00]\n",
      " [  2.00000000e+00   9.47207198e-01]\n",
      " [  2.00000000e+00   3.41841514e+00]\n",
      " [  2.00000000e+00   1.43375726e+00]\n",
      " [  1.00000000e+00   1.23542837e+00]\n",
      " [  0.00000000e+00   1.48612705e-01]\n",
      " [  1.00000000e+00   1.68201457e+00]\n",
      " [  2.00000000e+00   1.52017572e+00]\n",
      " [  2.00000000e+00   3.05220875e+00]\n",
      " [  2.00000000e+00   1.11742495e-01]\n",
      " [  1.00000000e+00   2.08608118e-01]\n",
      " [  2.00000000e+00   2.03753442e+00]\n",
      " [  2.00000000e+00   4.26370275e+00]\n",
      " [  1.00000000e+00   8.34754959e-01]\n",
      " [  2.00000000e+00   2.44880945e+00]\n",
      " [  2.00000000e+00   3.53962601e+00]\n",
      " [  0.00000000e+00   6.16354981e-02]\n",
      " [  1.00000000e+00   3.18354309e-01]\n",
      " [  0.00000000e+00   1.19566227e+00]\n",
      " [  2.00000000e+00   1.07794120e+00]\n",
      " [  0.00000000e+00   5.25327068e-01]\n",
      " [  0.00000000e+00   1.26857269e-01]\n",
      " [  1.00000000e+00   6.84835489e-01]\n",
      " [  2.00000000e+00   4.52300439e+00]\n",
      " [  0.00000000e+00   1.57289402e-01]\n",
      " [  2.00000000e+00   2.39971874e+00]\n",
      " [  1.00000000e+00   1.66342087e+00]\n",
      " [  1.00000000e+00   7.82528181e-02]\n",
      " [  2.00000000e+00   7.80478975e-01]\n",
      " [  0.00000000e+00   4.21984090e-02]\n",
      " [  1.00000000e+00   1.08344121e+00]\n",
      " [  2.00000000e+00   2.36712774e+00]\n",
      " [  2.00000000e+00   9.61993035e-01]\n",
      " [  2.00000000e+00   2.27502628e+00]\n",
      " [  0.00000000e+00   6.07673060e-01]\n",
      " [  0.00000000e+00   4.11937445e-01]\n",
      " [  2.00000000e+00   3.76840655e+00]\n",
      " [  2.00000000e+00   7.88754992e+00]\n",
      " [  1.00000000e+00   1.35708002e+00]\n",
      " [  0.00000000e+00   1.89099379e+00]\n",
      " [  1.00000000e+00   4.82954706e-01]\n",
      " [  0.00000000e+00   2.66867894e-01]\n",
      " [  2.00000000e+00   2.76941577e+00]\n",
      " [  0.00000000e+00   1.88212042e-01]\n",
      " [  0.00000000e+00   1.15296529e+00]\n",
      " [  2.00000000e+00   4.33698457e+00]\n",
      " [  1.00000000e+00   8.40027078e-01]\n",
      " [  2.00000000e+00   4.79561680e+00]\n",
      " [  2.00000000e+00   2.54237533e+00]\n",
      " [  2.00000000e+00   1.62173773e+00]\n",
      " [  0.00000000e+00   3.45742277e-01]\n",
      " [  1.00000000e+00   7.58790803e-01]\n",
      " [  0.00000000e+00   4.52917558e-02]\n",
      " [  2.00000000e+00   5.97716938e+00]\n",
      " [  1.00000000e+00   1.24401764e-01]\n",
      " [  0.00000000e+00   9.08863397e-01]\n",
      " [  0.00000000e+00   9.91312562e-01]\n",
      " [  2.00000000e+00   3.95698022e+00]\n",
      " [  2.00000000e+00   4.13042295e-01]\n",
      " [  0.00000000e+00   1.80880925e-01]\n",
      " [  2.00000000e+00   4.58894913e-01]\n",
      " [  0.00000000e+00   5.11207007e-01]\n",
      " [  0.00000000e+00   8.35239661e-01]\n",
      " [  0.00000000e+00   5.33871911e-02]\n",
      " [  0.00000000e+00   1.57515228e-01]\n",
      " [  2.00000000e+00   2.74856129e+00]\n",
      " [  0.00000000e+00   7.34711836e-01]\n",
      " [  2.00000000e+00   4.78720257e+00]\n",
      " [  1.00000000e+00   1.23816489e+00]\n",
      " [  2.00000000e+00   3.12038646e+00]\n",
      " [  2.00000000e+00   3.74766395e+00]\n",
      " [  0.00000000e+00   1.12762939e+00]\n",
      " [  1.00000000e+00   3.23408959e-01]\n",
      " [  2.00000000e+00   2.49814837e+00]\n",
      " [  2.00000000e+00   4.29434122e+00]\n",
      " [  1.00000000e+00   5.90498229e-01]\n",
      " [  2.00000000e+00   8.06523773e-01]\n",
      " [  1.00000000e+00   7.83677544e-01]\n",
      " [  1.00000000e+00   1.58952703e+00]\n",
      " [  2.00000000e+00   9.43570403e-01]\n",
      " [  2.00000000e+00   2.59032296e+00]\n",
      " [  2.00000000e+00   2.07161251e+00]\n",
      " [  2.00000000e+00   8.15375125e+00]\n",
      " [  2.00000000e+00   4.01298870e+00]\n",
      " [  1.00000000e+00   2.17300581e-01]\n",
      " [  2.00000000e+00   4.20094418e-01]\n",
      " [  1.00000000e+00   2.76856814e-01]\n",
      " [  1.00000000e+00   2.06493156e-01]\n",
      " [  1.00000000e+00   5.55079047e-02]\n",
      " [  2.00000000e+00   2.54912348e+00]\n",
      " [  1.00000000e+00   2.70919829e+00]\n",
      " [  2.00000000e+00   1.62213611e+00]\n",
      " [  0.00000000e+00   9.57218684e-01]\n",
      " [  2.00000000e+00   9.85613742e-01]\n",
      " [  1.00000000e+00   3.22539781e-01]\n",
      " [  2.00000000e+00   4.30404649e+00]\n",
      " [  0.00000000e+00   1.70360305e-02]\n",
      " [  2.00000000e+00   3.65969849e+00]\n",
      " [  1.00000000e+00   6.17889626e-01]\n",
      " [  2.00000000e+00   1.18325938e+00]\n",
      " [  2.00000000e+00   1.41046420e+00]\n",
      " [  0.00000000e+00   9.63374501e-01]\n",
      " [  2.00000000e+00   2.66724074e+00]\n",
      " [  2.00000000e+00   6.26927297e+00]\n",
      " [  2.00000000e+00   5.92447018e+00]\n",
      " [  2.00000000e+00   1.88708325e+00]\n",
      " [  0.00000000e+00   4.69468369e-01]\n",
      " [  2.00000000e+00   2.39993602e+00]\n",
      " [  2.00000000e+00   2.20087421e+00]\n",
      " [  1.00000000e+00   3.15985463e-01]\n",
      " [  0.00000000e+00   3.00267889e-01]\n",
      " [  2.00000000e+00   7.40871996e+00]\n",
      " [  2.00000000e+00   1.23124962e+00]\n",
      " [  1.00000000e+00   6.93612880e-02]\n",
      " [  0.00000000e+00   8.36464884e-01]\n",
      " [  0.00000000e+00   2.66719829e-01]\n",
      " [  2.00000000e+00   1.03762781e+00]\n",
      " [  2.00000000e+00   6.54643421e-01]\n",
      " [  0.00000000e+00   4.08985765e-01]\n",
      " [  2.00000000e+00   4.39952027e+00]\n",
      " [  2.00000000e+00   4.35998007e+00]\n",
      " [  2.00000000e+00   1.89604218e+00]\n",
      " [  2.00000000e+00   1.05942891e+00]\n",
      " [  2.00000000e+00   3.68928935e+00]\n",
      " [  2.00000000e+00   4.35680549e+00]\n",
      " [  2.00000000e+00   1.81086860e+00]\n",
      " [  0.00000000e+00   4.03848296e-01]\n",
      " [  1.00000000e+00   4.75617060e-01]\n",
      " [  2.00000000e+00   4.95950460e-01]\n",
      " [  2.00000000e+00   1.04828696e+00]\n",
      " [  2.00000000e+00   2.56401538e+00]\n",
      " [  2.00000000e+00   1.14591285e+00]\n",
      " [  2.00000000e+00   5.71206237e+00]\n",
      " [  2.00000000e+00   2.59964765e+00]\n",
      " [  2.00000000e+00   6.39736288e+00]\n",
      " [  2.00000000e+00   3.95062660e+00]\n",
      " [  2.00000000e+00   4.63870234e+00]\n",
      " [  1.00000000e+00   2.45499682e-01]\n",
      " [  2.00000000e+00   2.36352539e+00]\n",
      " [  2.00000000e+00   5.30923544e-01]\n",
      " [  0.00000000e+00   1.03263393e+00]\n",
      " [  2.00000000e+00   4.59531700e+00]\n",
      " [  2.00000000e+00   2.48236223e+00]\n",
      " [  1.00000000e+00   3.06041568e+00]\n",
      " [  2.00000000e+00   2.10691631e+00]\n",
      " [  1.00000000e+00   1.33536832e+00]\n",
      " [  2.00000000e+00   3.11266778e+00]\n",
      " [  1.00000000e+00   1.19021762e+00]\n",
      " [  2.00000000e+00   3.79064299e+00]\n",
      " [  2.00000000e+00   2.59955996e+00]\n",
      " [  2.00000000e+00   1.02352360e+00]\n",
      " [  2.00000000e+00   6.15795106e+00]\n",
      " [  1.00000000e+00   1.78435176e-03]\n",
      " [  2.00000000e+00   1.39810582e+00]\n",
      " [  2.00000000e+00   1.26438317e+00]\n",
      " [  0.00000000e+00   1.69658501e-01]\n",
      " [  0.00000000e+00   2.48258415e+00]\n",
      " [  2.00000000e+00   1.09062101e+00]\n",
      " [  1.00000000e+00   2.59456229e-01]\n",
      " [  0.00000000e+00   3.71833958e-01]\n",
      " [  0.00000000e+00   2.02302225e-01]\n",
      " [  2.00000000e+00   5.23300313e+00]\n",
      " [  0.00000000e+00   8.30165712e-01]\n",
      " [  2.00000000e+00   5.32056537e+00]\n",
      " [  2.00000000e+00   8.67495324e-01]\n",
      " [  1.00000000e+00   1.04033524e+00]\n",
      " [  1.00000000e+00   6.24565684e-02]\n",
      " [  2.00000000e+00   8.52902258e+00]\n",
      " [  2.00000000e+00   2.11206869e+00]\n",
      " [  1.00000000e+00   9.85917897e-01]\n",
      " [  2.00000000e+00   1.18296475e+00]\n",
      " [  0.00000000e+00   1.20830147e+00]\n",
      " [  2.00000000e+00   1.09561174e+00]\n",
      " [  2.00000000e+00   1.77033631e+00]\n",
      " [  0.00000000e+00   3.34267456e-02]\n",
      " [  2.00000000e+00   1.12775002e+00]\n",
      " [  1.00000000e+00   1.35832228e+00]\n",
      " [  2.00000000e+00   2.64971716e+00]\n",
      " [  0.00000000e+00   6.44426684e-01]\n",
      " [  2.00000000e+00   1.85856995e+00]\n",
      " [  0.00000000e+00   2.02746272e+00]\n",
      " [  1.00000000e+00   8.33416408e-02]\n",
      " [  1.00000000e+00   2.69886588e-02]\n",
      " [  1.00000000e+00   3.58998819e-01]\n",
      " [  1.00000000e+00   1.37500258e-01]\n",
      " [  2.00000000e+00   1.76408284e+00]\n",
      " [  2.00000000e+00   1.32775090e+00]\n",
      " [  1.00000000e+00   2.69780013e+00]\n",
      " [  2.00000000e+00   9.06286185e+00]\n",
      " [  2.00000000e+00   1.81710361e+00]\n",
      " [  0.00000000e+00   3.11067513e-01]\n",
      " [  2.00000000e+00   1.72378623e+00]\n",
      " [  2.00000000e+00   2.30206411e+00]\n",
      " [  2.00000000e+00   2.64951208e+00]\n",
      " [  2.00000000e+00   1.82850018e-01]\n",
      " [  0.00000000e+00   4.98485471e-01]\n",
      " [  0.00000000e+00   4.45832393e-02]\n",
      " [  1.00000000e+00   2.61520665e-04]\n",
      " [  2.00000000e+00   2.41481397e+00]\n",
      " [  2.00000000e+00   2.16418279e+00]\n",
      " [  2.00000000e+00   3.37567352e+00]\n",
      " [  0.00000000e+00   4.55995666e-01]\n",
      " [  1.00000000e+00   7.87359047e-01]\n",
      " [  2.00000000e+00   7.43428417e-01]\n",
      " [  2.00000000e+00   3.40312512e+00]\n",
      " [  1.00000000e+00   6.16222589e-01]\n",
      " [  2.00000000e+00   4.29692290e+00]\n",
      " [  0.00000000e+00   1.35749273e-01]\n",
      " [  0.00000000e+00   7.08334835e-01]\n",
      " [  2.00000000e+00   5.11341260e+00]\n",
      " [  2.00000000e+00   4.06660424e+00]\n",
      " [  0.00000000e+00   6.52261320e+00]\n",
      " [  0.00000000e+00   2.50283793e+00]\n",
      " [  0.00000000e+00   7.07674856e-01]\n",
      " [  0.00000000e+00   6.98075605e-01]\n",
      " [  2.00000000e+00   7.40565313e+00]\n",
      " [  1.00000000e+00   1.75326083e-01]\n",
      " [  1.00000000e+00   2.37266609e-01]\n",
      " [  0.00000000e+00   9.91422401e-01]\n",
      " [  0.00000000e+00   4.20187655e-01]\n",
      " [  2.00000000e+00   3.98426542e+00]\n",
      " [  0.00000000e+00   1.38072898e-01]\n",
      " [  0.00000000e+00   5.96051928e-02]\n",
      " [  0.00000000e+00   1.59448360e+00]\n",
      " [  1.00000000e+00   2.89976018e-01]\n",
      " [  2.00000000e+00   1.35966900e-01]\n",
      " [  1.00000000e+00   5.82212718e-01]\n",
      " [  2.00000000e+00   1.64646542e+00]\n",
      " [  0.00000000e+00   2.87452124e+00]\n",
      " [  0.00000000e+00   7.71031139e-02]\n",
      " [  1.00000000e+00   4.77976251e-01]\n",
      " [  1.00000000e+00   8.19850339e-01]\n",
      " [  1.00000000e+00   5.53475816e-02]\n",
      " [  0.00000000e+00   4.60350371e-01]\n",
      " [  0.00000000e+00   5.22463883e-01]\n",
      " [  2.00000000e+00   1.42681882e+00]\n",
      " [  1.00000000e+00   3.03848218e+00]\n",
      " [  2.00000000e+00   2.88922122e+00]]\n"
     ]
    }
   ],
   "source": [
    "print clusters"
   ]
  },
  {
   "cell_type": "code",
   "execution_count": 190,
   "metadata": {
    "collapsed": false
   },
   "outputs": [],
   "source": [
    "newC = np.ravel(clusters.T[0])"
   ]
  },
  {
   "cell_type": "code",
   "execution_count": 191,
   "metadata": {
    "collapsed": true
   },
   "outputs": [],
   "source": [
    "\n",
    "newC = newC.astype(int)"
   ]
  },
  {
   "cell_type": "code",
   "execution_count": 192,
   "metadata": {
    "collapsed": false
   },
   "outputs": [
    {
     "name": "stdout",
     "output_type": "stream",
     "text": [
      "[0 1 2 1 0 0 2 2 1 1 2 1 2 1 0 2 2 0 2 2 0 0 2 2 2 2 0 2 2 2 1 1 2 1 1 1 1\n",
      " 1 2 0 2 2 2 2 2 2 1 2 1 0 2 0 1 0 0 2 1 2 1 0 1 2 1 2 2 2 1 0 1 2 2 2 1 2\n",
      " 2 1 2 2 0 1 0 2 0 0 1 2 0 2 1 1 2 0 1 2 2 2 0 0 2 2 1 0 1 0 2 0 0 2 1 2 2\n",
      " 2 0 1 0 2 1 0 0 2 2 0 2 0 0 0 0 2 0 2 1 2 2 0 1 2 2 1 2 1 1 2 2 2 2 2 1 2\n",
      " 1 1 1 2 1 2 0 2 1 2 0 2 1 2 2 0 2 2 2 2 0 2 2 1 0 2 2 1 0 0 2 2 0 2 2 2 2\n",
      " 2 2 2 0 1 2 2 2 2 2 2 2 2 2 1 2 2 0 2 2 1 2 1 2 1 2 2 2 2 1 2 2 0 0 2 1 0\n",
      " 0 2 0 2 2 1 1 2 2 1 2 0 2 2 0 2 1 2 0 2 0 1 1 1 1 2 2 1 2 2 0 2 2 2 2 0 0\n",
      " 1 2 2 2 0 1 2 2 1 2 0 0 2 2 0 0 0 0 2 1 1 0 0 2 0 0 0 1 2 1 2 0 0 1 1 1 0\n",
      " 0 2 1 2]\n"
     ]
    }
   ],
   "source": [
    "print newC"
   ]
  },
  {
   "cell_type": "code",
   "execution_count": 193,
   "metadata": {
    "collapsed": false
   },
   "outputs": [
    {
     "name": "stdout",
     "output_type": "stream",
     "text": [
      "0.983010870748\n"
     ]
    }
   ],
   "source": [
    "print completeness_score(y,newC)"
   ]
  },
  {
   "cell_type": "code",
   "execution_count": 194,
   "metadata": {
    "collapsed": false
   },
   "outputs": [
    {
     "name": "stdout",
     "output_type": "stream",
     "text": [
      "0.738872920101\n"
     ]
    }
   ],
   "source": [
    "print homogeneity_score(y,newC)"
   ]
  },
  {
   "cell_type": "code",
   "execution_count": 195,
   "metadata": {
    "collapsed": false
   },
   "outputs": [
    {
     "name": "stdout",
     "output_type": "stream",
     "text": [
      "sseSplit, and notSplit:  1190.78235936 0.0\n",
      "the bestCentToSplit is:  0\n",
      "the len of bestClustAss is:  300\n",
      "sseSplit, and notSplit:  51.4909680918 1116.84667042\n",
      "sseSplit, and notSplit:  480.082908229 73.9356889432\n",
      "the bestCentToSplit is:  1\n",
      "the len of bestClustAss is:  223\n"
     ]
    }
   ],
   "source": [
    "centroids_bk, clusters_bk = kMeans.biKmeans(features, 3, kMeans.distEclud)"
   ]
  },
  {
   "cell_type": "code",
   "execution_count": 196,
   "metadata": {
    "collapsed": false
   },
   "outputs": [
    {
     "name": "stdout",
     "output_type": "stream",
     "text": [
      "[[-1.33465447  1.98726097 -0.34123624]]\n"
     ]
    }
   ],
   "source": [
    "print centroids_bk"
   ]
  },
  {
   "cell_type": "code",
   "execution_count": 197,
   "metadata": {
    "collapsed": true
   },
   "outputs": [],
   "source": [
    "bkC =np.ravel(clusters_bk.T[0])\n",
    "bkC = bkC.astype(int)"
   ]
  },
  {
   "cell_type": "code",
   "execution_count": 198,
   "metadata": {
    "collapsed": false
   },
   "outputs": [
    {
     "name": "stdout",
     "output_type": "stream",
     "text": [
      "[1 0 2 0 1 1 2 2 0 0 2 0 2 0 1 2 2 1 2 2 1 1 2 2 2 2 1 2 2 2 0 0 2 0 0 0 0\n",
      " 0 2 1 2 2 0 2 2 2 0 2 0 1 2 1 0 1 1 2 0 2 0 1 0 2 0 2 2 2 0 1 0 2 2 2 0 2\n",
      " 2 0 2 2 1 0 1 2 1 1 0 2 1 2 0 0 2 1 0 2 2 2 1 1 0 2 0 1 0 1 2 1 1 2 0 2 2\n",
      " 2 1 0 1 2 0 1 1 2 2 1 2 1 1 1 1 2 1 2 0 2 2 1 0 2 2 0 2 0 0 2 2 2 2 2 0 2\n",
      " 0 0 0 2 0 2 1 2 0 2 1 2 0 2 2 1 2 2 2 2 1 2 2 0 1 2 2 0 1 1 2 2 1 2 2 2 2\n",
      " 2 2 2 1 0 2 2 2 2 2 2 2 2 2 0 2 2 1 2 2 0 2 0 2 0 2 2 2 2 0 2 2 1 1 2 0 1\n",
      " 1 2 1 2 2 0 0 2 2 0 2 1 2 2 1 2 0 2 1 2 1 0 0 0 0 2 2 0 2 2 1 2 2 2 2 1 1\n",
      " 0 2 2 2 1 0 2 2 0 2 1 1 2 2 1 1 1 1 2 0 0 1 1 2 1 1 1 0 2 0 2 1 1 0 0 0 1\n",
      " 1 2 0 2]\n"
     ]
    }
   ],
   "source": [
    "print bkC"
   ]
  },
  {
   "cell_type": "code",
   "execution_count": 199,
   "metadata": {
    "collapsed": false
   },
   "outputs": [
    {
     "name": "stdout",
     "output_type": "stream",
     "text": [
      "0.953794659143\n"
     ]
    }
   ],
   "source": [
    "print completeness_score(y,bkC)"
   ]
  },
  {
   "cell_type": "code",
   "execution_count": 200,
   "metadata": {
    "collapsed": false
   },
   "outputs": [
    {
     "name": "stdout",
     "output_type": "stream",
     "text": [
      "0.719969860199\n"
     ]
    }
   ],
   "source": [
    "print homogeneity_score(y,bkC)"
   ]
  },
  {
   "cell_type": "markdown",
   "metadata": {},
   "source": [
    "#  PCA for dimension reduction"
   ]
  },
  {
   "cell_type": "code",
   "execution_count": 203,
   "metadata": {
    "collapsed": false
   },
   "outputs": [],
   "source": [
    "from sklearn import decomposition\n",
    "pca = decomposition.PCA(n_components=2)\n",
    "feature_trans =pca.fit(features).transform(features)"
   ]
  },
  {
   "cell_type": "code",
   "execution_count": 204,
   "metadata": {
    "collapsed": false
   },
   "outputs": [
    {
     "name": "stdout",
     "output_type": "stream",
     "text": [
      "[[ 2.02  0.02]\n",
      " [-3.72  0.13]\n",
      " [-0.56  1.52]\n",
      " [-3.92  0.66]\n",
      " [ 2.42  0.31]\n",
      " [ 4.79  1.62]\n",
      " [ 1.42 -2.62]\n",
      " [ 0.21  1.46]\n",
      " [-4.15  1.65]\n",
      " [-4.57  1.28]\n",
      " [ 0.38 -2.04]\n",
      " [-5.09 -0.63]\n",
      " [ 0.02  1.36]\n",
      " [-3.58 -0.82]\n",
      " [ 4.24 -0.31]\n",
      " [ 0.2   0.41]\n",
      " [-0.07  1.21]\n",
      " [ 4.21  0.93]\n",
      " [ 0.33 -1.31]\n",
      " [ 1.17 -1.7 ]\n",
      " [ 3.56  1.38]\n",
      " [ 3.27  0.48]\n",
      " [-0.67  1.11]\n",
      " [ 0.2  -2.27]\n",
      " [ 0.46 -2.3 ]\n",
      " [-0.89 -0.2 ]\n",
      " [ 3.53  0.28]\n",
      " [-0.43  0.85]\n",
      " [ 0.34 -3.3 ]\n",
      " [ 0.03  0.2 ]\n",
      " [-3.77  1.14]\n",
      " [-3.95 -0.47]\n",
      " [ 0.58  1.8 ]\n",
      " [-3.01  0.12]\n",
      " [-4.3   0.14]\n",
      " [-4.16 -0.77]\n",
      " [-4.03 -0.39]\n",
      " [-4.74 -0.73]\n",
      " [ 0.46 -2.61]\n",
      " [ 3.7   0.17]\n",
      " [ 0.62  0.46]\n",
      " [ 0.93 -2.59]\n",
      " [-1.39  0.58]\n",
      " [ 0.42  1.51]\n",
      " [ 0.68 -2.16]\n",
      " [ 0.68 -1.42]\n",
      " [-4.33  0.45]\n",
      " [ 0.48 -1.91]\n",
      " [-3.89  0.14]\n",
      " [ 3.06  0.81]\n",
      " [-0.36 -1.97]\n",
      " [ 4.06  0.87]\n",
      " [-3.69  0.69]\n",
      " [ 3.63  0.23]\n",
      " [ 2.47  0.82]\n",
      " [ 0.59 -1.48]\n",
      " [-3.52  1.55]\n",
      " [ 1.35 -1.85]\n",
      " [-4.17 -0.1 ]\n",
      " [ 3.35  0.03]\n",
      " [-3.96 -0.68]\n",
      " [-0.09  0.67]\n",
      " [-5.48  0.77]\n",
      " [ 0.5  -1.36]\n",
      " [-0.08 -2.27]\n",
      " [ 0.59 -1.56]\n",
      " [-4.24 -0.78]\n",
      " [ 3.73  0.93]\n",
      " [-4.63 -0.83]\n",
      " [ 0.07 -1.67]\n",
      " [ 0.35  1.3 ]\n",
      " [ 0.39 -0.7 ]\n",
      " [-4.16  0.74]\n",
      " [ 0.25 -1.87]\n",
      " [ 1.25 -2.2 ]\n",
      " [-4.41  1.13]\n",
      " [ 0.19 -2.  ]\n",
      " [-0.2   1.4 ]\n",
      " [ 3.86  0.62]\n",
      " [-4.29  0.8 ]\n",
      " [ 4.05 -0.44]\n",
      " [ 0.14  0.6 ]\n",
      " [ 3.18 -0.02]\n",
      " [ 3.28  0.42]\n",
      " [-4.49  0.99]\n",
      " [-0.86  1.42]\n",
      " [ 3.87  0.86]\n",
      " [-0.74  0.81]\n",
      " [-3.29 -0.76]\n",
      " [-3.8   0.12]\n",
      " [ 0.37  0.42]\n",
      " [ 3.52  0.37]\n",
      " [-5.04  0.13]\n",
      " [ 0.16 -1.98]\n",
      " [ 0.28 -1.41]\n",
      " [ 0.64  0.99]\n",
      " [ 2.93  0.18]\n",
      " [ 3.7   1.2 ]\n",
      " [-1.26  0.87]\n",
      " [-0.65 -3.12]\n",
      " [-4.48  1.38]\n",
      " [ 4.7  -0.28]\n",
      " [-3.66  0.91]\n",
      " [ 4.09  0.76]\n",
      " [-0.09  1.2 ]\n",
      " [ 3.38  0.93]\n",
      " [ 4.69  0.57]\n",
      " [-0.26  1.6 ]\n",
      " [-3.16 -0.01]\n",
      " [-0.88  1.48]\n",
      " [ 1.17 -1.69]\n",
      " [-0.29 -1.63]\n",
      " [ 3.83  0.01]\n",
      " [-4.65 -0.29]\n",
      " [ 3.69  0.36]\n",
      " [ 1.3   1.73]\n",
      " [-3.92 -0.03]\n",
      " [ 2.92 -0.1 ]\n",
      " [ 2.62  0.59]\n",
      " [-1.16  1.03]\n",
      " [ 0.65 -0.88]\n",
      " [ 3.75  0.16]\n",
      " [-0.08 -1.07]\n",
      " [ 3.63 -0.16]\n",
      " [ 2.73  0.35]\n",
      " [ 3.43  0.7 ]\n",
      " [ 3.71  0.17]\n",
      " [ 0.95 -1.91]\n",
      " [ 3.23 -0.21]\n",
      " [ 1.13 -2.41]\n",
      " [-3.97  1.42]\n",
      " [ 0.73 -2.12]\n",
      " [ 0.88 -2.24]\n",
      " [ 4.68  0.57]\n",
      " [-3.5   0.07]\n",
      " [ 0.97 -1.81]\n",
      " [-0.46 -2.41]\n",
      " [-4.06 -0.46]\n",
      " [ 0.84  0.16]\n",
      " [-3.4   0.95]\n",
      " [-4.81 -0.67]\n",
      " [ 0.49 -1.36]\n",
      " [ 1.05  0.91]\n",
      " [-0.94 -1.35]\n",
      " [-0.57  2.32]\n",
      " [ 0.87 -2.32]\n",
      " [-3.59  0.11]\n",
      " [-0.18  0.1 ]\n",
      " [-3.49  0.37]\n",
      " [-4.03 -0.15]\n",
      " [-4.24  0.26]\n",
      " [-0.14  1.12]\n",
      " [-2.37  0.42]\n",
      " [-0.64  0.54]\n",
      " [ 4.25 -0.19]\n",
      " [ 0.53 -1.37]\n",
      " [-4.14  0.86]\n",
      " [ 0.8  -2.42]\n",
      " [ 3.52  0.47]\n",
      " [-0.39  1.39]\n",
      " [-4.75  0.03]\n",
      " [ 0.21  0.65]\n",
      " [ 0.17  0.75]\n",
      " [ 2.63  0.62]\n",
      " [-0.41  1.08]\n",
      " [ 0.14 -2.94]\n",
      " [ 2.06 -1.98]\n",
      " [-0.75  0.58]\n",
      " [ 3.02  0.22]\n",
      " [ 0.79  0.98]\n",
      " [ 0.36  1.03]\n",
      " [-4.45  0.67]\n",
      " [ 3.6   0.01]\n",
      " [-0.33  2.23]\n",
      " [-0.69 -1.13]\n",
      " [-4.05  0.57]\n",
      " [ 3.1   1.32]\n",
      " [ 3.38  1.02]\n",
      " [ 0.13  0.58]\n",
      " [ 0.38 -1.22]\n",
      " [ 3.83  1.16]\n",
      " [ 0.49  1.63]\n",
      " [ 0.22 -2.53]\n",
      " [ 0.21 -1.82]\n",
      " [-0.51  0.33]\n",
      " [ 0.22  1.48]\n",
      " [-0.66  1.47]\n",
      " [-0.07  0.88]\n",
      " [ 3.44  1.17]\n",
      " [-3.62 -0.26]\n",
      " [ 0.62  0.11]\n",
      " [ 0.61 -1.37]\n",
      " [-0.05  1.14]\n",
      " [ 0.01  0.62]\n",
      " [ 0.9  -2.72]\n",
      " [ 0.89 -1.89]\n",
      " [-0.25 -2.93]\n",
      " [ 0.97  1.38]\n",
      " [ 0.83 -2.49]\n",
      " [-4.4  -0.  ]\n",
      " [ 0.79  0.97]\n",
      " [ 0.24 -1.17]\n",
      " [ 4.49  0.04]\n",
      " [ 0.99 -2.42]\n",
      " [ 0.57  1.09]\n",
      " [-2.47 -0.51]\n",
      " [ 0.38 -1.88]\n",
      " [-4.58  1.32]\n",
      " [-0.21  1.28]\n",
      " [-2.92  0.25]\n",
      " [ 0.04  1.5 ]\n",
      " [ 0.5  -2.02]\n",
      " [-0.56  0.26]\n",
      " [-0.26  2.  ]\n",
      " [-4.    0.27]\n",
      " [ 1.05 -1.24]\n",
      " [ 0.84 -1.34]\n",
      " [ 3.99  0.39]\n",
      " [ 5.15  0.93]\n",
      " [-0.15  0.55]\n",
      " [-4.1  -0.19]\n",
      " [ 4.09  0.93]\n",
      " [ 4.04  0.42]\n",
      " [-0.35 -2.67]\n",
      " [ 4.22 -0.12]\n",
      " [-0.3  -2.7 ]\n",
      " [ 0.96  0.06]\n",
      " [-3.23  0.96]\n",
      " [-3.96  0.55]\n",
      " [-0.24  2.45]\n",
      " [ 0.21  1.01]\n",
      " [-4.93  0.7 ]\n",
      " [ 0.4   0.62]\n",
      " [ 3.07 -0.39]\n",
      " [ 0.5  -1.43]\n",
      " [-0.01  0.88]\n",
      " [ 3.78  0.47]\n",
      " [ 0.29 -1.5 ]\n",
      " [-4.92  1.04]\n",
      " [ 0.05 -2.06]\n",
      " [ 3.77  1.35]\n",
      " [-0.68  0.62]\n",
      " [ 4.23  1.84]\n",
      " [-3.92  0.04]\n",
      " [-4.03  0.15]\n",
      " [-3.84 -0.27]\n",
      " [-4.32  0.11]\n",
      " [-0.2  -1.71]\n",
      " [ 0.35 -1.58]\n",
      " [-2.37  0.27]\n",
      " [ 0.17  2.57]\n",
      " [ 0.24 -1.79]\n",
      " [ 3.64  0.  ]\n",
      " [-0.39  0.75]\n",
      " [-0.12 -1.93]\n",
      " [-0.74 -1.78]\n",
      " [-0.23 -0.56]\n",
      " [ 4.28  0.31]\n",
      " [ 3.56  0.76]\n",
      " [-4.03  0.32]\n",
      " [-0.15  1.08]\n",
      " [-0.74  0.71]\n",
      " [-0.38 -2.19]\n",
      " [ 3.6  -0.12]\n",
      " [-4.03  1.2 ]\n",
      " [ 0.4  -1.27]\n",
      " [ 0.72  1.32]\n",
      " [-3.64  1.  ]\n",
      " [-1.02  1.25]\n",
      " [ 3.35  0.82]\n",
      " [ 3.56 -0.28]\n",
      " [-0.3  -2.65]\n",
      " [ 0.6  -2.41]\n",
      " [ 1.45  1.92]\n",
      " [ 3.45  2.13]\n",
      " [ 4.31  0.09]\n",
      " [ 2.88  0.16]\n",
      " [ 0.06  2.28]\n",
      " [-4.32  0.59]\n",
      " [-4.24 -0.12]\n",
      " [ 3.34  1.52]\n",
      " [ 3.7   1.2 ]\n",
      " [ 1.05  1.35]\n",
      " [ 3.83  0.86]\n",
      " [ 3.77  0.75]\n",
      " [ 3.91  1.79]\n",
      " [-3.63 -0.07]\n",
      " [ 0.23 -0.81]\n",
      " [-4.69  0.66]\n",
      " [ 0.44  0.82]\n",
      " [ 5.26  0.15]\n",
      " [ 3.35  0.49]\n",
      " [-3.32  0.27]\n",
      " [-4.91  0.4 ]\n",
      " [-4.17  0.49]\n",
      " [ 2.99  0.82]\n",
      " [ 3.39  1.24]\n",
      " [-0.34  0.64]\n",
      " [-3.33  1.91]\n",
      " [ 0.38 -2.13]]\n"
     ]
    }
   ],
   "source": [
    "np.set_printoptions(precision=2,suppress=True)\n",
    "print feature_trans"
   ]
  },
  {
   "cell_type": "code",
   "execution_count": 205,
   "metadata": {
    "collapsed": false
   },
   "outputs": [
    {
     "name": "stdout",
     "output_type": "stream",
     "text": [
      "[ 0.83  0.17]\n"
     ]
    }
   ],
   "source": [
    "print pca.explained_variance_ratio_"
   ]
  },
  {
   "cell_type": "markdown",
   "metadata": {},
   "source": [
    "Looking at the above, it can be observed that the first 2 components capture (explain) 95% of the variance in the data.\n",
    "Now, we can redo the clustering, but this time in the lower dimensional space:"
   ]
  },
  {
   "cell_type": "code",
   "execution_count": 212,
   "metadata": {
    "collapsed": false
   },
   "outputs": [],
   "source": [
    "centroids_pca,clusters_pca = kMeans.kMeans(feature_trans,3,kMeans.distEclud,kMeans.randCent)"
   ]
  },
  {
   "cell_type": "code",
   "execution_count": 213,
   "metadata": {
    "collapsed": false
   },
   "outputs": [
    {
     "name": "stdout",
     "output_type": "stream",
     "text": [
      "[[ 1.    2.85]\n",
      " [ 0.    0.12]\n",
      " [ 2.    4.39]\n",
      " [ 0.    0.13]\n",
      " [ 1.    1.49]\n",
      " [ 1.    2.51]\n",
      " [ 2.    6.29]\n",
      " [ 2.    3.63]\n",
      " [ 0.    1.83]\n",
      " [ 0.    1.26]\n",
      " [ 2.    2.62]\n",
      " [ 0.    2.04]\n",
      " [ 2.    3.26]\n",
      " [ 0.    1.47]\n",
      " [ 1.    1.15]\n",
      " [ 2.    0.73]\n",
      " [ 2.    2.79]\n",
      " [ 1.    0.49]\n",
      " [ 2.    0.78]\n",
      " [ 2.    2.57]\n",
      " [ 1.    0.68]\n",
      " [ 1.    0.13]\n",
      " [ 2.    3.13]\n",
      " [ 2.    3.36]\n",
      " [ 2.    3.55]\n",
      " [ 2.    1.19]\n",
      " [ 1.    0.09]\n",
      " [ 2.    2.04]\n",
      " [ 2.    8.22]\n",
      " [ 2.    0.43]\n",
      " [ 0.    0.75]\n",
      " [ 0.    0.61]\n",
      " [ 2.    5.18]\n",
      " [ 0.    1.03]\n",
      " [ 0.    0.11]\n",
      " [ 0.    1.19]\n",
      " [ 0.    0.49]\n",
      " [ 0.    1.61]\n",
      " [ 2.    4.8 ]\n",
      " [ 1.    0.16]\n",
      " [ 2.    1.01]\n",
      " [ 2.    5.19]\n",
      " [ 2.    3.5 ]\n",
      " [ 2.    3.88]\n",
      " [ 2.    3.23]\n",
      " [ 2.    1.21]\n",
      " [ 0.    0.12]\n",
      " [ 2.    2.26]\n",
      " [ 0.    0.05]\n",
      " [ 1.    0.37]\n",
      " [ 2.    2.63]\n",
      " [ 1.    0.3 ]\n",
      " [ 0.    0.25]\n",
      " [ 1.    0.11]\n",
      " [ 1.    1.38]\n",
      " [ 2.    1.25]\n",
      " [ 0.    1.78]\n",
      " [ 2.    3.37]\n",
      " [ 0.    0.19]\n",
      " [ 1.    0.35]\n",
      " [ 0.    0.98]\n",
      " [ 2.    1.31]\n",
      " [ 0.    2.37]\n",
      " [ 2.    0.95]\n",
      " [ 2.    3.42]\n",
      " [ 2.    1.43]\n",
      " [ 0.    1.24]\n",
      " [ 1.    0.15]\n",
      " [ 0.    1.68]\n",
      " [ 2.    1.52]\n",
      " [ 2.    3.05]\n",
      " [ 2.    0.11]\n",
      " [ 0.    0.21]\n",
      " [ 2.    2.04]\n",
      " [ 2.    4.26]\n",
      " [ 0.    0.83]\n",
      " [ 2.    2.45]\n",
      " [ 2.    3.54]\n",
      " [ 1.    0.06]\n",
      " [ 0.    0.32]\n",
      " [ 1.    1.2 ]\n",
      " [ 2.    1.08]\n",
      " [ 1.    0.53]\n",
      " [ 1.    0.13]\n",
      " [ 0.    0.68]\n",
      " [ 2.    4.52]\n",
      " [ 1.    0.16]\n",
      " [ 2.    2.4 ]\n",
      " [ 0.    1.66]\n",
      " [ 0.    0.08]\n",
      " [ 2.    0.78]\n",
      " [ 1.    0.04]\n",
      " [ 0.    1.08]\n",
      " [ 2.    2.37]\n",
      " [ 2.    0.96]\n",
      " [ 2.    2.28]\n",
      " [ 1.    0.61]\n",
      " [ 1.    0.41]\n",
      " [ 2.    3.77]\n",
      " [ 2.    7.89]\n",
      " [ 0.    1.36]\n",
      " [ 1.    1.89]\n",
      " [ 0.    0.48]\n",
      " [ 1.    0.27]\n",
      " [ 2.    2.77]\n",
      " [ 1.    0.19]\n",
      " [ 1.    1.15]\n",
      " [ 2.    4.34]\n",
      " [ 0.    0.84]\n",
      " [ 2.    4.8 ]\n",
      " [ 2.    2.54]\n",
      " [ 2.    1.62]\n",
      " [ 1.    0.35]\n",
      " [ 0.    0.76]\n",
      " [ 1.    0.05]\n",
      " [ 2.    5.98]\n",
      " [ 0.    0.12]\n",
      " [ 1.    0.91]\n",
      " [ 1.    0.99]\n",
      " [ 2.    3.96]\n",
      " [ 2.    0.41]\n",
      " [ 1.    0.18]\n",
      " [ 2.    0.46]\n",
      " [ 1.    0.51]\n",
      " [ 1.    0.84]\n",
      " [ 1.    0.05]\n",
      " [ 1.    0.16]\n",
      " [ 2.    2.75]\n",
      " [ 1.    0.73]\n",
      " [ 2.    4.79]\n",
      " [ 0.    1.24]\n",
      " [ 2.    3.12]\n",
      " [ 2.    3.75]\n",
      " [ 1.    1.13]\n",
      " [ 0.    0.32]\n",
      " [ 2.    2.5 ]\n",
      " [ 2.    4.29]\n",
      " [ 0.    0.59]\n",
      " [ 2.    0.81]\n",
      " [ 0.    0.78]\n",
      " [ 0.    1.59]\n",
      " [ 2.    0.94]\n",
      " [ 2.    2.59]\n",
      " [ 2.    2.07]\n",
      " [ 2.    8.15]\n",
      " [ 2.    4.01]\n",
      " [ 0.    0.22]\n",
      " [ 2.    0.42]\n",
      " [ 0.    0.28]\n",
      " [ 0.    0.21]\n",
      " [ 0.    0.06]\n",
      " [ 2.    2.55]\n",
      " [ 0.    2.71]\n",
      " [ 2.    1.62]\n",
      " [ 1.    0.96]\n",
      " [ 2.    0.99]\n",
      " [ 0.    0.32]\n",
      " [ 2.    4.3 ]\n",
      " [ 1.    0.02]\n",
      " [ 2.    3.66]\n",
      " [ 0.    0.62]\n",
      " [ 2.    1.18]\n",
      " [ 2.    1.41]\n",
      " [ 1.    0.96]\n",
      " [ 2.    2.67]\n",
      " [ 2.    6.27]\n",
      " [ 2.    5.92]\n",
      " [ 2.    1.89]\n",
      " [ 1.    0.47]\n",
      " [ 2.    2.4 ]\n",
      " [ 2.    2.2 ]\n",
      " [ 0.    0.32]\n",
      " [ 1.    0.3 ]\n",
      " [ 2.    7.41]\n",
      " [ 2.    1.23]\n",
      " [ 0.    0.07]\n",
      " [ 1.    0.84]\n",
      " [ 1.    0.27]\n",
      " [ 2.    1.04]\n",
      " [ 2.    0.65]\n",
      " [ 1.    0.41]\n",
      " [ 2.    4.4 ]\n",
      " [ 2.    4.36]\n",
      " [ 2.    1.9 ]\n",
      " [ 2.    1.06]\n",
      " [ 2.    3.69]\n",
      " [ 2.    4.36]\n",
      " [ 2.    1.81]\n",
      " [ 1.    0.4 ]\n",
      " [ 0.    0.48]\n",
      " [ 2.    0.5 ]\n",
      " [ 2.    1.05]\n",
      " [ 2.    2.56]\n",
      " [ 2.    1.15]\n",
      " [ 2.    5.71]\n",
      " [ 2.    2.6 ]\n",
      " [ 2.    6.4 ]\n",
      " [ 2.    3.95]\n",
      " [ 2.    4.64]\n",
      " [ 0.    0.25]\n",
      " [ 2.    2.36]\n",
      " [ 2.    0.53]\n",
      " [ 1.    1.03]\n",
      " [ 2.    4.6 ]\n",
      " [ 2.    2.48]\n",
      " [ 0.    3.06]\n",
      " [ 2.    2.11]\n",
      " [ 0.    1.34]\n",
      " [ 2.    3.11]\n",
      " [ 0.    1.19]\n",
      " [ 2.    3.79]\n",
      " [ 2.    2.6 ]\n",
      " [ 2.    1.02]\n",
      " [ 2.    6.16]\n",
      " [ 0.    0.  ]\n",
      " [ 2.    1.4 ]\n",
      " [ 2.    1.26]\n",
      " [ 1.    0.17]\n",
      " [ 1.    2.48]\n",
      " [ 2.    1.09]\n",
      " [ 0.    0.26]\n",
      " [ 1.    0.37]\n",
      " [ 1.    0.2 ]\n",
      " [ 2.    5.23]\n",
      " [ 1.    0.83]\n",
      " [ 2.    5.32]\n",
      " [ 2.    0.87]\n",
      " [ 0.    1.04]\n",
      " [ 0.    0.06]\n",
      " [ 2.    8.53]\n",
      " [ 2.    2.11]\n",
      " [ 0.    0.99]\n",
      " [ 2.    1.18]\n",
      " [ 1.    1.21]\n",
      " [ 2.    1.1 ]\n",
      " [ 2.    1.77]\n",
      " [ 1.    0.03]\n",
      " [ 2.    1.13]\n",
      " [ 0.    1.36]\n",
      " [ 2.    2.65]\n",
      " [ 1.    0.64]\n",
      " [ 2.    1.86]\n",
      " [ 1.    2.03]\n",
      " [ 0.    0.08]\n",
      " [ 0.    0.03]\n",
      " [ 0.    0.36]\n",
      " [ 0.    0.14]\n",
      " [ 2.    1.76]\n",
      " [ 2.    1.33]\n",
      " [ 0.    2.7 ]\n",
      " [ 2.    9.06]\n",
      " [ 2.    1.82]\n",
      " [ 1.    0.31]\n",
      " [ 2.    1.72]\n",
      " [ 2.    2.3 ]\n",
      " [ 2.    2.65]\n",
      " [ 2.    0.18]\n",
      " [ 1.    0.5 ]\n",
      " [ 1.    0.04]\n",
      " [ 0.    0.  ]\n",
      " [ 2.    2.41]\n",
      " [ 2.    2.16]\n",
      " [ 2.    3.38]\n",
      " [ 1.    0.46]\n",
      " [ 0.    0.79]\n",
      " [ 2.    0.74]\n",
      " [ 2.    3.4 ]\n",
      " [ 0.    0.62]\n",
      " [ 2.    4.3 ]\n",
      " [ 1.    0.14]\n",
      " [ 1.    0.71]\n",
      " [ 2.    5.11]\n",
      " [ 2.    4.07]\n",
      " [ 1.    6.52]\n",
      " [ 1.    2.5 ]\n",
      " [ 1.    0.71]\n",
      " [ 1.    0.7 ]\n",
      " [ 2.    7.41]\n",
      " [ 0.    0.18]\n",
      " [ 0.    0.24]\n",
      " [ 1.    0.99]\n",
      " [ 1.    0.42]\n",
      " [ 2.    3.98]\n",
      " [ 1.    0.14]\n",
      " [ 1.    0.06]\n",
      " [ 1.    1.59]\n",
      " [ 0.    0.29]\n",
      " [ 2.    0.14]\n",
      " [ 0.    0.58]\n",
      " [ 2.    1.65]\n",
      " [ 1.    2.87]\n",
      " [ 1.    0.08]\n",
      " [ 0.    0.48]\n",
      " [ 0.    0.82]\n",
      " [ 0.    0.06]\n",
      " [ 1.    0.46]\n",
      " [ 1.    0.52]\n",
      " [ 2.    1.43]\n",
      " [ 0.    3.04]\n",
      " [ 2.    2.89]]\n"
     ]
    }
   ],
   "source": [
    "print clusters_pca"
   ]
  },
  {
   "cell_type": "code",
   "execution_count": 215,
   "metadata": {
    "collapsed": false
   },
   "outputs": [
    {
     "name": "stdout",
     "output_type": "stream",
     "text": [
      "[[-4.01  0.31]\n",
      " [ 3.61  0.56]\n",
      " [ 0.18 -0.44]]\n"
     ]
    }
   ],
   "source": [
    "print centroids_pca"
   ]
  },
  {
   "cell_type": "code",
   "execution_count": 216,
   "metadata": {
    "collapsed": false
   },
   "outputs": [
    {
     "name": "stdout",
     "output_type": "stream",
     "text": [
      "Explained variance of first 2 components:\n",
      "[ 0.83  0.17]\n",
      "Loadings from first 2 components:\n",
      "[[ 0.41 -0.91]\n",
      " [ 0.91  0.41]]\n"
     ]
    }
   ],
   "source": [
    "from sklearn.decomposition import PCA\n",
    "pca = PCA(n_components = 2)\n",
    "pca.fit(features)\n",
    "print 'Explained variance of first 2 components:'\n",
    "print pca.explained_variance_ratio_\n",
    "print 'Loadings from first 2 components:'\n",
    "print pca.components_"
   ]
  },
  {
   "cell_type": "markdown",
   "metadata": {},
   "source": [
    "To see what these numbers mean, let's view them as vectors plotted on top of the data:"
   ]
  },
  {
   "cell_type": "code",
   "execution_count": 217,
   "metadata": {
    "collapsed": false
   },
   "outputs": [
    {
     "data": {
      "image/png": "[encoded data removed]",
      "text/plain": [
       "<matplotlib.figure.Figure at 0x1758a400>"
      ]
     },
     "metadata": {},
     "output_type": "display_data"
    }
   ],
   "source": [
    "plt.plot(features[:, 0], features[:, 1], 'o', alpha=0.5)\n",
    "for length, vector in zip(pca.explained_variance_, pca.components_):\n",
    "    v = vector * 3 * np.sqrt(length)\n",
    "    plt.plot([0, v[0]], [0, v[1]], '-k', lw=3)\n",
    "plt.axis('equal');"
   ]
  },
  {
   "cell_type": "markdown",
   "metadata": {},
   "source": [
    "\n",
    "Notice that one vector is longer than the other. In a sense, this tells us that that direction in the data is somehow more \"important\" than the other direction. The explained variance quantifies this measure of \"importance\" in direction."
   ]
  },
  {
   "cell_type": "markdown",
   "metadata": {},
   "source": [
    "       Model        CV Accuracy  CV AUC  CV Time      AUC        Time\n",
    "------------------- ----------- -------- ------- -------------- -----\n",
    "               Null    0.927886      0.5                    0.5      \n",
    "        Gaussian NB    0.869374 0.738319   0.956 0.705189767546 0.031\n",
    "Logistic Regression    0.927863 0.759281  20.033 0.749813865133 0.787\n",
    "      Decision Tree    0.865658 0.676056   1.807 0.804150504211 0.069\n",
    "     Bagging (Tree)    0.863355 0.627638   5.924 0.819530195204 0.294\n",
    "      Bagging (GNB)    0.867808 0.738419   5.925 0.705150890245 0.273\n",
    "      Rondom Forest    0.823383 0.541847   6.726 0.858356552084 0.364\n",
    "                Knn    0.927356 0.652422    5.12 0.665510001708 0.441\n",
    "  Voting Classifier    0.864092 0.642437  14.516  0.84666811739 0.865\n",
    "\n",
    "\n",
    "\n",
    "Results\n",
    "\n",
    "Besides  Rondom Forest, Bagging (with GNB as base estimator),Decision Tree,Bagging (Tree),Voting Classifie , all models had  accuracies around 0.86 and the null model had high accuracy which was 0.9279.where as Logistic Regression,Knn did equally better like the null model.As far as the AUC measure, all models had greater AUC than the null model which was 0.5. Random Forest had the next less AUC; Logistic Regression had best predictability,its 10-fold cross-validation accuracies were 0.9278  and AUC was 0.759281.And Random Forest has the greatest AUC! The cross-validation computation of all models except SVM Gaussian Kernel could be finished within a minute. The SVM model took nearly 20 hours to finish the 10-fold cross-validation, but its predictive performace was nearly the worst among all models. I also estimated the importance of each feature using the best models Logistic Regression,Knn. . I also tried to remove features with variance lower than 0.8*(1-0.8), but none of the features was lower than this threshold. Therefore, I thought that it would be a good stopping point for my analysis and wouldn't proceed the model evaluations with model selection.From PCA it can be observed that the first 2 components capture (explain) 95% of the variance in the data.we can notice that one vector is longer than the other. In a sense, this tells us that that direction in the data is somehow more \"important\" than the other direction. The explained variance quantifies this measure of \"importance\" in direction."
   ]
  },
  {
   "cell_type": "code",
   "execution_count": null,
   "metadata": {
    "collapsed": true
   },
   "outputs": [],
   "source": []
  }
 ],
 "metadata": {
  "kernelspec": {
   "display_name": "Python 2",
   "language": "python",
   "name": "python2"
  },
  "language_info": {
   "codemirror_mode": {
    "name": "ipython",
    "version": 2
   },
   "file_extension": ".py",
   "mimetype": "text/x-python",
   "name": "python",
   "nbconvert_exporter": "python",
   "pygments_lexer": "ipython2",
   "version": "2.7.11"
  }
 },
 "nbformat": 4,
 "nbformat_minor": 0
}
